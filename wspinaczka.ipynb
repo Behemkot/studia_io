{
 "cells": [
  {
   "cell_type": "code",
   "execution_count": 1,
   "metadata": {},
   "outputs": [],
   "source": [
    "import numpy as np\n",
    "import pandas as pd\n",
    "import os\n",
    "from matplotlib.pyplot import plot"
   ]
  },
  {
   "cell_type": "code",
   "execution_count": 2,
   "metadata": {},
   "outputs": [],
   "source": [
    "data_path = \"./dane/\"\n",
    "df = pd.read_csv(os.path.join(data_path, \"dane_spr1.csv\"), sep=';')"
   ]
  },
  {
   "cell_type": "code",
   "execution_count": 3,
   "metadata": {},
   "outputs": [],
   "source": [
    "# KR to wartość naszego rozwiązania - ma być najmniejsza\n",
    "def get_KR(df = df):\n",
    "    c_sum = df[\"Czas wykonania\"].cumsum() # suma kumultatywna kolumny \"Czas wykonania\"\n",
    "    KR = (df[\"Termin\"] - c_sum)**2 # obliczanie kwadratu różnicy wartosći\n",
    "    return sum(KR) # KR jest wskaźnikiem jakości ułożenia zadań. To optymalizujemy\n",
    "\n",
    "# wyszukiwanie listy sąsiadów\n",
    "def get_neighbours(idx, neighbours_count = 10, df = df):\n",
    "    N = neighbours_count\n",
    "    # Idea sąsiedztwa dla N = 6 i idx = n E <N/2 ; L-N/2>\n",
    "    # idx = X, sąsiad = 0, nie sąsiad = -\n",
    "    # nr_indeksu | ... | n-4 | n-3 | n-2 | n-1 |  n  | n+1 | n+2 | n+3 | n+4 | ... |\n",
    "    # sasiedztwo |  -  |  -  |  0  |  0  |  0  |  X  |  0  |  0  |  0  |  -  |  -  |\n",
    "    \n",
    "    L = len(df) - 1 \n",
    "    idx_prev = idx # indeks dla ktorego szukamy sasiadow\n",
    "    N_half = N//2 # polowa wartosci N\n",
    "    \n",
    "    \n",
    "    # Idea sąsiedztwa dla N = 6 i idx = n < N/2\n",
    "    # idx = X, sąsiad = 0, nie sąsiad = -\n",
    "    # przykład n = 2\n",
    "    # nr_indeksu |  0  |  1  | n=2 |  3  |  4  |  5  |  6  |  7  |  8  |  9  | ... |\n",
    "    # sasiedztwo |  0  |  0  |  X  |  0  |  0  |  0  |  0  |  -  |  -  |  -  |  -  |\n",
    "    # skoro nie mozemy znaleźć wystarczająco dużo sąsiadów po lewej, \n",
    "    # szukamy dodatkowego po prawej\n",
    "    if idx < N_half:\n",
    "        idx = N_half\n",
    "    # idea sąsiedztwa z ograniczeniem z prawej jest analogiczna do tej z ograniczeniem z lewej\n",
    "    elif idx > L - N_half:\n",
    "        idx = L - N_half\n",
    "    output = list(range(idx - N_half, idx + N_half + 1))\n",
    "    # usuwanie idx z output\n",
    "    # TODO: na pewno da się to zrobić prościej\n",
    "    rm_idx = output.index(idx_prev)\n",
    "    output = np.array(output)\n",
    "    output = np.delete(output, rm_idx)\n",
    "    return output\n",
    "\n",
    "def calculate_improvements(KR_before, idx, neighbours, improvements, df = df):\n",
    "    for neighbour, improvement in zip(\n",
    "        neighbours, \n",
    "        np.nditer(improvements, op_flags = ['readwrite'])\n",
    "    ):\n",
    "        swap(idx, neighbour)\n",
    "        improvement[...] = np.float64(get_KR() - KR_before)\n",
    "        swap(idx, neighbour)\n",
    "        \n",
    "def search_for_the_best_neighbour(neighbours, improvements):\n",
    "    if improvements.min() > 0:\n",
    "        return False\n",
    "    idx_min = improvements.argmin() # index najmniejszego elementu\n",
    "    return neighbours[idx_min]\n",
    "\n",
    "def swap(idx_1, idx_2, df=df):\n",
    "    # zamiana miejscami dwóch wierszy \"in place\" - nie tworzymy nowej ramki danych\n",
    "    df.iloc[idx_1], df.iloc[idx_2] = df.iloc[idx_2].copy(), df.iloc[idx_1].copy()\n",
    "    \n",
    "def move(idx_1, idx_2, df=df):\n",
    "    swap(idx_1, idx_2) # ruch\n",
    "    \n",
    "def plot_optimalization(optimalization):\n",
    "    # TODO: można to zrobić ładniej matplotlibem\n",
    "    optimalization[\"Wartosc kombinacji\"].plot(kind=\"line\")"
   ]
  },
  {
   "cell_type": "code",
   "execution_count": 4,
   "metadata": {},
   "outputs": [],
   "source": [
    "np.random.seed(42)\n",
    "\n",
    "def hill_climbing_algorithm(\n",
    "    number_of_iterations = 1000, \n",
    "    break_counter = 10, \n",
    "    neighbours_count = 20\n",
    "):\n",
    "    KR_before = get_KR() # początkowa wartość kombinacji\n",
    "    optimalization = pd.DataFrame(columns=[\"Wartosc kombinacji\"])\n",
    "    optimalization = optimalization.append({\n",
    "                    \"Wartosc kombinacji\": KR_before\n",
    "                }, ignore_index=True)\n",
    "    improvements = np.zeros(neighbours_count)\n",
    "    idx = np.random.randint(len(df))\n",
    "    \n",
    "    while number_of_iterations and break_counter:\n",
    "        neighbours = get_neighbours(idx, neighbours_count=neighbours_count) # lista sąsiadów\n",
    "        # obliczanie potencjalnych ulepszeń dla sąsiadów\n",
    "        calculate_improvements(KR_before, idx, neighbours, improvements)\n",
    "        # wyszukanie sąsiada dla którego ulepszenie będzie największe\n",
    "        best_neighbour = search_for_the_best_neighbour(neighbours, improvements)\n",
    "\n",
    "        # jeżeli istnieje sąsiad po zamianie z którym ulepszymy kombinacje\n",
    "        if best_neighbour:\n",
    "            # zamiana miejscami z sąsiadem\n",
    "            move(idx, best_neighbour)\n",
    "            # obliczanie obecnej kombinacji\n",
    "            KR_now = get_KR()\n",
    "            # kolejna iteracja rozpoczyna się od miejsca na które wskoczył idx\n",
    "            idx = best_neighbour  \n",
    "            # dodawanie obecnej wartości kombinacji do listy wszystkich wartości\n",
    "            optimalization = optimalization.append({\n",
    "                \"Wartosc kombinacji\": KR_now\n",
    "            }, ignore_index=True)\n",
    "            \n",
    "            KR_before = KR_now\n",
    "            number_of_iterations -= 1\n",
    "        else:\n",
    "            break_counter -= 1\n",
    "            \n",
    "    order = df[\"Zadanie\"]\n",
    "    \n",
    "    return order, optimalization"
   ]
  },
  {
   "cell_type": "code",
   "execution_count": 5,
   "metadata": {},
   "outputs": [],
   "source": [
    "# df = pd.read_csv(os.path.join(data_path, \"dane_spr1.csv\"), sep=';')\n",
    "# new_order, new_optimalization = hill_climbing_algorithm(\n",
    "#     number_of_iterations=500,\n",
    "#     break_counter=20,\n",
    "#     neighbours_count=20\n",
    "# )\n",
    "\n",
    "\n"
   ]
  },
  {
   "cell_type": "code",
   "execution_count": 6,
   "metadata": {},
   "outputs": [],
   "source": [
    "# df = pd.read_csv(os.path.join(data_path, \"dane_spr1.csv\"), sep=';')\n",
    "# new_order, new_optimalization = hill_climbing_algorithm(\n",
    "#     number_of_iterations=10000,\n",
    "#     break_counter=20,\n",
    "#     neighbours_count=20\n",
    "# )\n",
    "\n",
    "\n",
    "# plot_optimalization(new_optimalization)\n",
    "# new_optimalization[\"Wartosc kombinacji\"].iloc[-1]"
   ]
  },
  {
   "cell_type": "code",
   "execution_count": null,
   "metadata": {},
   "outputs": [],
   "source": []
  },
  {
   "cell_type": "code",
   "execution_count": 7,
   "metadata": {},
   "outputs": [],
   "source": [
    "# df = pd.read_csv(os.path.join(data_path, \"dane_spr1.csv\"), sep=';')\n",
    "# new_order, new_optimalization = hill_climbing_algorithm(\n",
    "#     number_of_iterations=500,\n",
    "#     break_counter=100,\n",
    "#     neighbours_count=20\n",
    "# )\n",
    "\n",
    "\n",
    "# plot_optimalization(new_optimalization)\n",
    "# new_optimalization[\"Wartosc kombinacji\"].iloc[-1]"
   ]
  },
  {
   "cell_type": "code",
   "execution_count": 8,
   "metadata": {},
   "outputs": [],
   "source": [
    "# df = pd.read_csv(os.path.join(data_path, \"dane_spr1.csv\"), sep=';')\n",
    "# new_order, new_optimalization = hill_climbing_algorithm(\n",
    "#     number_of_iterations=500,\n",
    "#     break_counter=20,\n",
    "#     neighbours_count=6\n",
    "# )\n",
    "\n",
    "\n",
    "# plot_optimalization(new_optimalization)\n",
    "# new_optimalization[\"Wartosc kombinacji\"].iloc[-1]"
   ]
  },
  {
   "cell_type": "code",
   "execution_count": 9,
   "metadata": {},
   "outputs": [
    {
     "data": {
      "text/plain": [
       "186185180"
      ]
     },
     "execution_count": 9,
     "metadata": {},
     "output_type": "execute_result"
    },
    {
     "data": {
      "image/png": "[encoded data removed]",
      "text/plain": [
       "<Figure size 432x288 with 1 Axes>"
      ]
     },
     "metadata": {
      "needs_background": "light"
     },
     "output_type": "display_data"
    }
   ],
   "source": [
    "df = pd.read_csv(os.path.join(data_path, \"dane_spr1.csv\"), sep=';')\n",
    "new_order, new_optimalization = hill_climbing_algorithm(\n",
    "        number_of_iterations=1000000,\n",
    "        break_counter=10000,\n",
    "        neighbours_count=100\n",
    "    )\n",
    "\n",
    "\n",
    "plot_optimalization(new_optimalization)\n",
    "new_optimalization[\"Wartosc kombinacji\"].iloc[-1]"
   ]
  },
  {
   "cell_type": "code",
   "execution_count": null,
   "metadata": {},
   "outputs": [],
   "source": []
  }
 ],
 "metadata": {
  "kernelspec": {
   "display_name": "Python 3",
   "language": "python",
   "name": "python3"
  },
  "language_info": {
   "codemirror_mode": {
    "name": "ipython",
    "version": 3
   },
   "file_extension": ".py",
   "mimetype": "text/x-python",
   "name": "python",
   "nbconvert_exporter": "python",
   "pygments_lexer": "ipython3",
   "version": "3.7.5"
  }
 },
 "nbformat": 4,
 "nbformat_minor": 2
}
