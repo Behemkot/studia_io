{
 "cells": [
  {
   "cell_type": "code",
   "execution_count": 165,
   "metadata": {},
   "outputs": [],
   "source": [
    "import numpy as np\n",
    "import pandas as pd\n",
    "import os"
   ]
  },
  {
   "cell_type": "code",
   "execution_count": 166,
   "metadata": {},
   "outputs": [],
   "source": [
    "data_path = \"./dane/\"\n",
    "df = pd.read_csv(os.path.join(data_path, \"dane_spr1.csv\"), sep=';')"
   ]
  },
  {
   "cell_type": "code",
   "execution_count": 167,
   "metadata": {},
   "outputs": [],
   "source": [
    "# wartość optymalizacji po poszczególnym ruchu\n",
    "optimalization = pd.DataFrame(columns=[\"Wartosc kombinacji\"])\n",
    "Neighbours_count = 20\n",
    "improvements = np.zeros(Neighbours_count)\n",
    "np.random.seed(42)"
   ]
  },
  {
   "cell_type": "code",
   "execution_count": 168,
   "metadata": {},
   "outputs": [],
   "source": [
    "# KR to wartość naszego rozwiązania - ma być najmniejsza\n",
    "def get_KR(df = df):\n",
    "    c_sum = df[\"Czas wykonania\"].cumsum() # suma kumultatywna kolumny \"Czas wykonania\"\n",
    "    KR = (df[\"Termin\"] - c_sum)**2 # obliczanie kwadratu różnicy wartosći\n",
    "    return sum(KR) # KR jest wskaźnikiem jakości ułożenia zadań. To optymalizujemy\n",
    "\n",
    "# wyszukiwanie listy sąsiadów\n",
    "def neighbours(idx, N = Neighbours_count, df = df):\n",
    "    # Idea sąsiedztwa dla N = 6 i idx = n E <N/2 ; L-N/2>\n",
    "    # idx = X, sąsiad = 0, nie sąsiad = -\n",
    "    # nr_indeksu | ... | n-4 | n-3 | n-2 | n-1 |  n  | n+1 | n+2 | n+3 | n+4 | ... |\n",
    "    # sasiedztwo |  -  |  -  |  0  |  0  |  0  |  X  |  0  |  0  |  0  |  -  |  -  |\n",
    "    \n",
    "    L = len(df) - 1 \n",
    "    idx_prev = idx # indeks dla ktorego szukamy sasiadow\n",
    "    N_half = N//2 # polowa wartosci N\n",
    "    \n",
    "    \n",
    "    # Idea sąsiedztwa dla N = 6 i idx = n < N/2\n",
    "    # idx = X, sąsiad = 0, nie sąsiad = -\n",
    "    # przykład n = 2\n",
    "    # nr_indeksu |  0  |  1  | n=2 |  3  |  4  |  5  |  6  |  7  |  8  |  9  | ... |\n",
    "    # sasiedztwo |  0  |  0  |  X  |  0  |  0  |  0  |  0  |  -  |  -  |  -  |  -  |\n",
    "    # skoro nie mozemy znaleźć wystarczająco dużo sąsiadów po lewej, \n",
    "    # szukamy dodatkowego po prawej\n",
    "    if idx < N_half:\n",
    "        idx = N_half\n",
    "    # idea sąsiedztwa z ograniczeniem z prawej jest analogiczna do tej z ograniczeniem z lewej\n",
    "    elif idx > L - N_half:\n",
    "        idx = L - N_half\n",
    "    output = list(range(idx - N_half, idx + N_half + 1))\n",
    "    # usuwanie idx z output\n",
    "    # TODO: na pewno da się to zrobić prościej\n",
    "    rm_idx = output.index(idx_prev)\n",
    "    output = np.array(output)\n",
    "    output = np.delete(output, rm_idx)\n",
    "    return output\n",
    "\n",
    "def calculate_improvements(KR_before, idx, neighbours, df = df):\n",
    "    for neighbour, improvement in zip(\n",
    "        neighbours, \n",
    "        np.nditer(improvements, op_flags = ['readwrite'])\n",
    "    ):\n",
    "        swap(idx, neighbour)\n",
    "        improvement[...] = np.float64(get_KR() - KR_before)\n",
    "        swap(idx, neighbour)\n",
    "        \n",
    "def search_for_the_best_neighbour(neighbours):\n",
    "    global improvements\n",
    "    if improvements.min() > 0:\n",
    "        return False\n",
    "    idx_min = improvements.argmin() # index najmniejszego elementu\n",
    "    return neighbours[idx_min]\n",
    "\n",
    "def swap(idx_1, idx_2, df=df):\n",
    "    # zamiana miejscami dwóch wierszy \"in place\" - nie tworzymy nowej ramki danych\n",
    "    df.iloc[idx_1], df.iloc[idx_2] = df.iloc[idx_2].copy(), df.iloc[idx_1].copy()\n",
    "    \n",
    "def move(idx_1, idx_2, df=df):\n",
    "    global tabu, optimalization\n",
    "    swap(idx_1, idx_2) # ruch\n",
    "    \n",
    "def plot_optimalization():\n",
    "    global optimalization\n",
    "    # TODO: można to zrobić ładniej matplotlibem\n",
    "    optimalization[\"Wartosc kombinacji\"].plot(kind=\"line\")"
   ]
  },
  {
   "cell_type": "code",
   "execution_count": 171,
   "metadata": {},
   "outputs": [],
   "source": [
    "# liczba iteracji\n",
    "number_of_iterations = 1000\n",
    "# losowy początkowy indeks\n",
    "idx = np.random.randint(len(df))\n",
    "# jeżeli przez 1% iteracji nie poprawi się wynik to optymalizacja powinna sie zatrzymać\n",
    "break_counter = number_of_iterations//100 \n",
    "\n",
    "while number_of_iterations and break_counter:\n",
    "    KR_before = get_KR() # początkowa wartość kombinacji\n",
    "    Neighbours = neighbours(idx) # lista sąsiadów\n",
    "    # obliczanie potencjalnych ulepszeń dla sąsiadów\n",
    "    calculate_improvements(KR_before, idx, Neighbours)\n",
    "    # wyszukanie sąsiada dla którego ulepszenie będzie największe\n",
    "    best_neighbour = search_for_the_best_neighbour(Neighbours)\n",
    "    \n",
    "    # jeżeli istnieje sąsiad po zamianie z którym ulepszymy kombinacje\n",
    "    if best_neighbour:\n",
    "        # zamiana miejscami z sąsiadem\n",
    "        move(idx, best_neighbour)\n",
    "        # obliczanie obecnej kombinacji\n",
    "        KR_now = get_KR()\n",
    "        # kolejna iteracja rozpoczyna się od miejsca na które wskoczył idx\n",
    "        idx = best_neighbour  \n",
    "        # dodawanie obecnej wartości kombinacji do listy wszystkich wartości\n",
    "        optimalization = optimalization.append({\"Wartosc kombinacji\": KR_now}, ignore_index=True)\n",
    "        number_of_iterations -= 1\n",
    "    else:\n",
    "        break_counter -= 1\n",
    "    \n",
    "    "
   ]
  },
  {
   "cell_type": "code",
   "execution_count": 172,
   "metadata": {},
   "outputs": [
    {
     "data": {
      "image/png": "[encoded data removed]",
      "text/plain": [
       "<Figure size 432x288 with 1 Axes>"
      ]
     },
     "metadata": {
      "needs_background": "light"
     },
     "output_type": "display_data"
    }
   ],
   "source": [
    "# działa ale bardzo słabo optymalizuje\n",
    "plot_optimalization()"
   ]
  },
  {
   "cell_type": "code",
   "execution_count": 162,
   "metadata": {},
   "outputs": [
    {
     "data": {
      "text/plain": [
       "0     208704328\n",
       "1     208553291\n",
       "2     208329577\n",
       "3     207926679\n",
       "4     207624881\n",
       "5     207306593\n",
       "6     206830067\n",
       "7     206304755\n",
       "8     205848153\n",
       "9     205502643\n",
       "10    205140099\n",
       "11    204750267\n",
       "12    204308181\n",
       "13    203675973\n",
       "14    203513659\n",
       "15    203024992\n",
       "16    202464960\n",
       "17    202020211\n",
       "18    201489711\n",
       "19    201136385\n",
       "20    200810000\n",
       "21    200535759\n",
       "22    200535051\n",
       "23    200111993\n",
       "24    199851595\n",
       "25    199758754\n",
       "26    199758754\n",
       "27    199633729\n",
       "28    199356150\n",
       "29    199027342\n",
       "30    198915147\n",
       "31    198708587\n",
       "32    198412818\n",
       "33    197962776\n",
       "34    197696656\n",
       "35    197301346\n",
       "36    197018098\n",
       "37    196740914\n",
       "38    196689338\n",
       "39    196688329\n",
       "40    196674571\n",
       "41    196471283\n",
       "42    196470232\n",
       "43    196470232\n",
       "44    196470232\n",
       "Name: Wartosc kombinacji, dtype: object"
      ]
     },
     "execution_count": 162,
     "metadata": {},
     "output_type": "execute_result"
    }
   ],
   "source": [
    "optimalization[\"Wartosc kombinacji\"]"
   ]
  }
 ],
 "metadata": {
  "kernelspec": {
   "display_name": "Python 3",
   "language": "python",
   "name": "python3"
  },
  "language_info": {
   "codemirror_mode": {
    "name": "ipython",
    "version": 3
   },
   "file_extension": ".py",
   "mimetype": "text/x-python",
   "name": "python",
   "nbconvert_exporter": "python",
   "pygments_lexer": "ipython3",
   "version": "3.7.5"
  }
 },
 "nbformat": 4,
 "nbformat_minor": 2
}
