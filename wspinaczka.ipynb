{
 "cells": [
  {
   "cell_type": "code",
   "execution_count": 120,
   "metadata": {},
   "outputs": [],
   "source": [
    "import numpy as np\n",
    "import pandas as pd\n",
    "import os"
   ]
  },
  {
   "cell_type": "code",
   "execution_count": 121,
   "metadata": {},
   "outputs": [],
   "source": [
    "data_path = \"./dane/\"\n",
    "df = pd.read_csv(os.path.join(data_path, \"dane_spr1.csv\"), sep=';')"
   ]
  },
  {
   "cell_type": "code",
   "execution_count": 122,
   "metadata": {},
   "outputs": [],
   "source": [
    "# wartość optymalizacji po poszczególnym ruchu\n",
    "optimalization = pd.DataFrame(columns=[\"Wartosc kombinacji\"])\n",
    "Neighbours_count = 10\n",
    "improvements = np.zeros(Neighbours_count)\n",
    "np.random.seed(42)"
   ]
  },
  {
   "cell_type": "code",
   "execution_count": 123,
   "metadata": {},
   "outputs": [],
   "source": [
    "# KR to wartość naszego rozwiązania - ma być najmniejsza\n",
    "def get_KR(df = df):\n",
    "    c_sum = df[\"Czas wykonania\"].cumsum() # suma kumultatywna kolumny \"Czas wykonania\"\n",
    "    KR = (df[\"Termin\"] - c_sum)**2 # obliczanie kwadratu różnicy wartosći\n",
    "    return sum(KR) # KR jest wskaźnikiem jakości ułożenia zadań. To optymalizujemy\n",
    "\n",
    "# sprawdzone\n",
    "def neighbours(idx, N = Neighbours_count, df = df):\n",
    "    L = len(df) - 1\n",
    "    idx_prev = idx\n",
    "    N_half = N//2\n",
    "    if idx < N_half:\n",
    "        idx = N_half\n",
    "    elif idx > L - N_half:\n",
    "        idx = L - N_half\n",
    "    output = list(range(idx - N_half, idx + N_half + 1))\n",
    "    # TODO: usunac idx z output\n",
    "    rm_idx = output.index(idx_prev)\n",
    "    output = np.array(output)\n",
    "    output = np.delete(output, rm_idx)\n",
    "    return output\n",
    "\n",
    "# \n",
    "def calculate_improvements(KR_before, idx, neighbours, df = df):\n",
    "    for neighbour, improvement in zip(\n",
    "        neighbours, \n",
    "        np.nditer(improvements, op_flags = ['readwrite'])\n",
    "    ):\n",
    "        swap(idx, neighbour)\n",
    "        improvement[...] = np.float64(get_KR() - KR_before)\n",
    "        swap(idx, neighbour)\n",
    "        \n",
    "# \n",
    "def search_for_the_best_neighbour():\n",
    "    global improvements\n",
    "    # index najmniejszego elementu\n",
    "    return improvements.argmin()\n",
    "\n",
    "# \n",
    "def get_new_idx(idx, best_neighbour, neighbours):\n",
    "    return neighbours[0] if idx < best_neighbour else neighbours[-1]\n",
    "\n",
    "# \n",
    "def swap(idx_1, idx_2, df=df):\n",
    "    # zamiana miejscami dwóch wierszy \"in place\" - nie tworzymy nowej ramki danych\n",
    "    df.iloc[idx_1], df.iloc[idx_2] = df.iloc[idx_2], df.iloc[idx_1]\n",
    "    \n",
    "def move(idx_1, idx_2, df=df):\n",
    "    global tabu, optimalization\n",
    "    swap(idx_1, idx_2) # ruch\n",
    "    \n",
    "def plot_optimalization():\n",
    "    global optimalization\n",
    "    # TODO: można to zrobić ładniej matplotlibem\n",
    "    optimalization[\"Wartosc kombinacji\"].plot(kind=\"line\")"
   ]
  },
  {
   "cell_type": "code",
   "execution_count": 125,
   "metadata": {},
   "outputs": [],
   "source": [
    "number_of_iterations = 10\n",
    "idx = np.random.randint(len(df))\n",
    "break_counter = 3\n",
    "\n",
    "while number_of_iterations and break_counter:\n",
    "    KR_before = get_KR()\n",
    "    Neighbours = neighbours(idx)\n",
    "    calculate_improvements(KR_before, idx, Neighbours)\n",
    "    best_neighbour = search_for_the_best_neighbour()\n",
    "    move(idx, best_neighbour)\n",
    "    KR_now = get_KR()\n",
    "    idx = best_neighbour\n",
    "    \n",
    "    if KR_before <= KR_now:\n",
    "        break_counter -= 1\n",
    "        continue\n",
    "\n",
    "    # dodawanie obecnej wartości kombinacji do listy wszystkich wartości\n",
    "    optimalization = optimalization.append({\"Wartosc kombinacji\": KR_now}, ignore_index=True)\n",
    "    number_of_iterations -= 1\n",
    "    "
   ]
  },
  {
   "cell_type": "code",
   "execution_count": 118,
   "metadata": {},
   "outputs": [],
   "source": [
    "idx = 3\n",
    "KR_before = get_KR()\n",
    "Neighbours = neighbours(idx)\n",
    "calculate_improvements(KR_before, idx, Neighbours)\n"
   ]
  },
  {
   "cell_type": "code",
   "execution_count": 119,
   "metadata": {},
   "outputs": [
    {
     "data": {
      "text/plain": [
       "210851272"
      ]
     },
     "execution_count": 119,
     "metadata": {},
     "output_type": "execute_result"
    },
    {
     "data": {
      "text/plain": [
       "array([  402910.,  1870326., -1025784., -2270106.,   713130., -2587110.,\n",
       "       -2399456., -1947407., -1054475.,        0.])"
      ]
     },
     "execution_count": 119,
     "metadata": {},
     "output_type": "execute_result"
    },
    {
     "data": {
      "text/plain": [
       "array([ 0,  1,  2,  4,  5,  6,  7,  8,  9, 10])"
      ]
     },
     "execution_count": 119,
     "metadata": {},
     "output_type": "execute_result"
    }
   ],
   "source": [
    "KR_before\n",
    "improvements\n",
    "Neighbours"
   ]
  },
  {
   "cell_type": "code",
   "execution_count": 126,
   "metadata": {},
   "outputs": [
    {
     "data": {
      "image/png": "[encoded data removed]",
      "text/plain": [
       "<Figure size 432x288 with 1 Axes>"
      ]
     },
     "metadata": {
      "needs_background": "light"
     },
     "output_type": "display_data"
    }
   ],
   "source": [
    "# źle działa\n",
    "# TODO: trzeba przejść cały algorytm po kolei i sprawdzić co źle funkcjonuje\n",
    "# możliwe że działa źle bo algorytm jest słaby\n",
    "plot_optimalization()"
   ]
  },
  {
   "cell_type": "code",
   "execution_count": 25,
   "metadata": {},
   "outputs": [
    {
     "data": {
      "text/plain": [
       "0      212916396\n",
       "1      212717735\n",
       "2      212717735\n",
       "3      212717735\n",
       "4      212717735\n",
       "         ...    \n",
       "97     212717735\n",
       "98     212717735\n",
       "99     212717735\n",
       "100    211194320\n",
       "101    210916210\n",
       "Name: Wartosc kombinacji, Length: 102, dtype: object"
      ]
     },
     "execution_count": 25,
     "metadata": {},
     "output_type": "execute_result"
    }
   ],
   "source": [
    "optimalization[\"Wartosc kombinacji\"]"
   ]
  },
  {
   "cell_type": "code",
   "execution_count": 27,
   "metadata": {},
   "outputs": [
    {
     "name": "stdout",
     "output_type": "stream",
     "text": [
      "True\n"
     ]
    }
   ],
   "source": []
  },
  {
   "cell_type": "code",
   "execution_count": null,
   "metadata": {},
   "outputs": [],
   "source": []
  }
 ],
 "metadata": {
  "kernelspec": {
   "display_name": "Python 3",
   "language": "python",
   "name": "python3"
  },
  "language_info": {
   "codemirror_mode": {
    "name": "ipython",
    "version": 3
   },
   "file_extension": ".py",
   "mimetype": "text/x-python",
   "name": "python",
   "nbconvert_exporter": "python",
   "pygments_lexer": "ipython3",
   "version": "3.7.5"
  }
 },
 "nbformat": 4,
 "nbformat_minor": 2
}
