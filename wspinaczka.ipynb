{
 "cells": [
  {
   "cell_type": "code",
   "execution_count": 6,
   "metadata": {},
   "outputs": [],
   "source": [
    "import numpy as np\n",
    "import pandas as pd\n",
    "import os"
   ]
  },
  {
   "cell_type": "code",
   "execution_count": 7,
   "metadata": {},
   "outputs": [],
   "source": [
    "data_path = \"./dane/\"\n",
    "df = pd.read_csv(os.path.join(data_path, \"dane_spr1.csv\"), sep=';')"
   ]
  },
  {
   "cell_type": "code",
   "execution_count": 8,
   "metadata": {},
   "outputs": [],
   "source": [
    "# KR to wartość naszego rozwiązania - ma być najmniejsza\n",
    "def get_KR(df = df):\n",
    "    c_sum = df[\"Czas wykonania\"].cumsum() # suma kumultatywna kolumny \"Czas wykonania\"\n",
    "    KR = (df[\"Termin\"] - c_sum)**2 # obliczanie kwadratu różnicy wartosći\n",
    "    return sum(KR) # KR jest wskaźnikiem jakości ułożenia zadań. To optymalizujemy\n",
    "\n",
    "# wyszukiwanie listy sąsiadów\n",
    "def get_neighbours(idx, neighbours_count = 10, df = df):\n",
    "    N = neighbours_count\n",
    "    # Idea sąsiedztwa dla N = 6 i idx = n E <N/2 ; L-N/2>\n",
    "    # idx = X, sąsiad = 0, nie sąsiad = -\n",
    "    # nr_indeksu | ... | n-4 | n-3 | n-2 | n-1 |  n  | n+1 | n+2 | n+3 | n+4 | ... |\n",
    "    # sasiedztwo |  -  |  -  |  0  |  0  |  0  |  X  |  0  |  0  |  0  |  -  |  -  |\n",
    "    \n",
    "    L = len(df) - 1 \n",
    "    idx_prev = idx # indeks dla ktorego szukamy sasiadow\n",
    "    N_half = N//2 # polowa wartosci N\n",
    "    \n",
    "    \n",
    "    # Idea sąsiedztwa dla N = 6 i idx = n < N/2\n",
    "    # idx = X, sąsiad = 0, nie sąsiad = -\n",
    "    # przykład n = 2\n",
    "    # nr_indeksu |  0  |  1  | n=2 |  3  |  4  |  5  |  6  |  7  |  8  |  9  | ... |\n",
    "    # sasiedztwo |  0  |  0  |  X  |  0  |  0  |  0  |  0  |  -  |  -  |  -  |  -  |\n",
    "    # skoro nie mozemy znaleźć wystarczająco dużo sąsiadów po lewej, \n",
    "    # szukamy dodatkowego po prawej\n",
    "    if idx < N_half:\n",
    "        idx = N_half\n",
    "    # idea sąsiedztwa z ograniczeniem z prawej jest analogiczna do tej z ograniczeniem z lewej\n",
    "    elif idx > L - N_half:\n",
    "        idx = L - N_half\n",
    "    output = list(range(idx - N_half, idx + N_half + 1))\n",
    "    # usuwanie idx z output\n",
    "    # TODO: na pewno da się to zrobić prościej\n",
    "    rm_idx = output.index(idx_prev)\n",
    "    output = np.array(output)\n",
    "    output = np.delete(output, rm_idx)\n",
    "    return output\n",
    "\n",
    "def calculate_improvements(KR_before, idx, neighbours, improvements, df = df):\n",
    "    for neighbour, improvement in zip(\n",
    "        neighbours, \n",
    "        np.nditer(improvements, op_flags = ['readwrite'])\n",
    "    ):\n",
    "        swap(idx, neighbour)\n",
    "        improvement[...] = np.float64(get_KR() - KR_before)\n",
    "        swap(idx, neighbour)\n",
    "        \n",
    "def search_for_the_best_neighbour(neighbours, improvements):\n",
    "    if improvements.min() > 0:\n",
    "        return False\n",
    "    idx_min = improvements.argmin() # index najmniejszego elementu\n",
    "    return neighbours[idx_min]\n",
    "\n",
    "def swap(idx_1, idx_2, df=df):\n",
    "    # zamiana miejscami dwóch wierszy \"in place\" - nie tworzymy nowej ramki danych\n",
    "    df.iloc[idx_1], df.iloc[idx_2] = df.iloc[idx_2].copy(), df.iloc[idx_1].copy()\n",
    "    \n",
    "def move(idx_1, idx_2, df=df):\n",
    "    swap(idx_1, idx_2) # ruch\n",
    "    \n",
    "def plot_optimalization(optimalization):\n",
    "    # TODO: można to zrobić ładniej matplotlibem\n",
    "    optimalization[\"Wartosc kombinacji\"].plot(kind=\"line\")"
   ]
  },
  {
   "cell_type": "code",
   "execution_count": 22,
   "metadata": {},
   "outputs": [],
   "source": [
    "np.random.seed(42)\n",
    "\n",
    "def hill_climbing_algorithm(\n",
    "    number_of_iterations = 1000, \n",
    "    break_counter = 10, \n",
    "    neighbours_count = 20\n",
    "):\n",
    "    optimalization = pd.DataFrame(columns=[\"Wartosc kombinacji\"])\n",
    "    improvements = np.zeros(neighbours_count)\n",
    "    idx = np.random.randint(len(df))\n",
    "    \n",
    "    while number_of_iterations and break_counter:\n",
    "        KR_before = get_KR() # początkowa wartość kombinacji\n",
    "        neighbours = get_neighbours(idx, neighbours_count=neighbours_count) # lista sąsiadów\n",
    "        # obliczanie potencjalnych ulepszeń dla sąsiadów\n",
    "        calculate_improvements(KR_before, idx, neighbours, improvements)\n",
    "        # wyszukanie sąsiada dla którego ulepszenie będzie największe\n",
    "        best_neighbour = search_for_the_best_neighbour(neighbours, improvements)\n",
    "\n",
    "        # jeżeli istnieje sąsiad po zamianie z którym ulepszymy kombinacje\n",
    "        if best_neighbour:\n",
    "            # zamiana miejscami z sąsiadem\n",
    "            move(idx, best_neighbour)\n",
    "            # obliczanie obecnej kombinacji\n",
    "            KR_now = get_KR()\n",
    "            # kolejna iteracja rozpoczyna się od miejsca na które wskoczył idx\n",
    "            idx = best_neighbour  \n",
    "            # dodawanie obecnej wartości kombinacji do listy wszystkich wartości\n",
    "            optimalization = optimalization.append({\n",
    "                \"Wartosc kombinacji\": KR_now\n",
    "            }, ignore_index=True)\n",
    "\n",
    "            number_of_iterations -= 1\n",
    "        else:\n",
    "            break_counter -= 1\n",
    "            \n",
    "    order = df[\"Zadanie\"]\n",
    "    \n",
    "    return order, optimalization"
   ]
  },
  {
   "cell_type": "code",
   "execution_count": null,
   "metadata": {},
   "outputs": [],
   "source": []
  },
  {
   "cell_type": "markdown",
   "metadata": {},
   "source": [
    "## Sprawdzanie różnych wartości parametrów"
   ]
  },
  {
   "cell_type": "code",
   "execution_count": 23,
   "metadata": {},
   "outputs": [],
   "source": [
    "new_order, new_optimalization = hill_climbing_algorithm(\n",
    "    number_of_iterations=500,\n",
    "    break_counter=20,\n",
    "    neighbours_count=20\n",
    ")"
   ]
  },
  {
   "cell_type": "code",
   "execution_count": 24,
   "metadata": {},
   "outputs": [
    {
     "name": "stdout",
     "output_type": "stream",
     "text": [
      "   Wartosc kombinacji\n",
      "0           184691699\n",
      "1           184409578\n",
      "2           183972387\n",
      "3           183615579\n",
      "4           183067441\n",
      "5           182716189\n",
      "6           182381173\n",
      "7           182118824\n",
      "8           181852442\n",
      "9           181355810\n",
      "10          181129546\n",
      "11          181053465\n",
      "12          181028867\n",
      "13          180996599\n",
      "14          180979023\n",
      "15          180974864\n",
      "16          180970378\n"
     ]
    }
   ],
   "source": [
    "print(new_optimalization)"
   ]
  },
  {
   "cell_type": "code",
   "execution_count": 25,
   "metadata": {},
   "outputs": [
    {
     "data": {
      "image/png": "[encoded data removed]",
      "text/plain": [
       "<Figure size 432x288 with 1 Axes>"
      ]
     },
     "metadata": {
      "needs_background": "light"
     },
     "output_type": "display_data"
    }
   ],
   "source": [
    "plot_optimalization(new_optimalization)"
   ]
  },
  {
   "cell_type": "code",
   "execution_count": 26,
   "metadata": {},
   "outputs": [],
   "source": [
    "new_order, new_optimalization = hill_climbing_algorithm(\n",
    "    number_of_iterations=10000,\n",
    "    break_counter=20,\n",
    "    neighbours_count=20\n",
    ")"
   ]
  },
  {
   "cell_type": "code",
   "execution_count": 27,
   "metadata": {},
   "outputs": [
    {
     "name": "stdout",
     "output_type": "stream",
     "text": [
      "   Wartosc kombinacji\n",
      "0           180728416\n",
      "1           180391514\n",
      "2           179987804\n",
      "3           179684858\n",
      "4           179388144\n",
      "5           179000894\n",
      "6           178585652\n",
      "7           178341862\n",
      "8           177976541\n",
      "9           177577181\n",
      "10          177381555\n",
      "11          177063561\n",
      "12          176759375\n",
      "13          176480395\n",
      "14          176179933\n",
      "15          175715725\n",
      "16          175232925\n",
      "17          174905823\n",
      "18          174628271\n",
      "19          174389727\n",
      "20          174287727\n"
     ]
    }
   ],
   "source": [
    "print(new_optimalization)"
   ]
  },
  {
   "cell_type": "code",
   "execution_count": 28,
   "metadata": {},
   "outputs": [
    {
     "data": {
      "image/png": "[encoded data removed]",
      "text/plain": [
       "<Figure size 432x288 with 1 Axes>"
      ]
     },
     "metadata": {
      "needs_background": "light"
     },
     "output_type": "display_data"
    }
   ],
   "source": [
    "plot_optimalization(new_optimalization)"
   ]
  },
  {
   "cell_type": "code",
   "execution_count": 32,
   "metadata": {},
   "outputs": [],
   "source": [
    "new_order, new_optimalization = hill_climbing_algorithm(\n",
    "    number_of_iterations=500,\n",
    "    break_counter=100,\n",
    "    neighbours_count=20\n",
    ")\n"
   ]
  },
  {
   "cell_type": "code",
   "execution_count": 33,
   "metadata": {},
   "outputs": [
    {
     "name": "stdout",
     "output_type": "stream",
     "text": [
      "   Wartosc kombinacji\n",
      "0           153844169\n",
      "1           153615789\n",
      "2           153468935\n",
      "3           153400468\n",
      "4           153225394\n",
      "5           153096324\n",
      "6           152923842\n",
      "7           152770798\n",
      "8           152431778\n",
      "9           152193274\n",
      "10          151836186\n",
      "11          151646207\n",
      "12          151512254\n",
      "13          151430972\n",
      "14          151363793\n",
      "15          151319298\n",
      "16          151283580\n",
      "17          151265196\n",
      "18          151224411\n",
      "19          151184836\n",
      "20          151141090\n",
      "21          151114685\n",
      "22          151094075\n",
      "23          151082939\n",
      "24          151066316\n",
      "25          151061275\n",
      "26          151051945\n",
      "27          151046942\n",
      "28          151043532\n"
     ]
    }
   ],
   "source": [
    "print(new_optimalization)"
   ]
  },
  {
   "cell_type": "code",
   "execution_count": 30,
   "metadata": {},
   "outputs": [
    {
     "data": {
      "image/png": "[encoded data removed]",
      "text/plain": [
       "<Figure size 432x288 with 1 Axes>"
      ]
     },
     "metadata": {
      "needs_background": "light"
     },
     "output_type": "display_data"
    }
   ],
   "source": [
    "plot_optimalization(new_optimalization)"
   ]
  },
  {
   "cell_type": "code",
   "execution_count": 70,
   "metadata": {},
   "outputs": [],
   "source": [
    "new_order, new_optimalization = hill_climbing_algorithm(\n",
    "    number_of_iterations=500,\n",
    "    break_counter=20,\n",
    "    neighbours_count=6\n",
    ")\n"
   ]
  },
  {
   "cell_type": "code",
   "execution_count": 71,
   "metadata": {},
   "outputs": [
    {
     "name": "stdout",
     "output_type": "stream",
     "text": [
      "   Wartosc kombinacji\n",
      "0            43646977\n",
      "1            43621994\n",
      "2            43605095\n",
      "3            43553476\n",
      "4            43543651\n",
      "5            43522485\n",
      "6            43465795\n",
      "7            43445931\n",
      "8            43421176\n",
      "9            43374316\n",
      "10           43337605\n",
      "11           43325661\n",
      "12           43275605\n",
      "13           43262237\n",
      "14           43256750\n",
      "15           43251386\n",
      "16           43210830\n",
      "17           43200730\n",
      "18           43168338\n",
      "19           43163546\n",
      "20           43151110\n",
      "21           43143934\n",
      "22           43131218\n",
      "23           43119614\n",
      "24           43096066\n",
      "25           43088984\n",
      "26           43028991\n",
      "27           43003480\n",
      "28           42966988\n",
      "29           42966032\n"
     ]
    }
   ],
   "source": [
    "print(new_optimalization)"
   ]
  },
  {
   "cell_type": "code",
   "execution_count": 72,
   "metadata": {},
   "outputs": [
    {
     "data": {
      "image/png": "[encoded data removed]",
      "text/plain": [
       "<Figure size 432x288 with 1 Axes>"
      ]
     },
     "metadata": {
      "needs_background": "light"
     },
     "output_type": "display_data"
    }
   ],
   "source": [
    "plot_optimalization(new_optimalization)"
   ]
  },
  {
   "cell_type": "code",
   "execution_count": 106,
   "metadata": {},
   "outputs": [
    {
     "name": "stdout",
     "output_type": "stream",
     "text": [
      "Wall time: 1min 52s\n"
     ]
    }
   ],
   "source": [
    "%%time\n",
    "new_order, new_optimalization = hill_climbing_algorithm(\n",
    "    number_of_iterations=1000000,\n",
    "    break_counter=1000,\n",
    "    neighbours_count=50\n",
    ")"
   ]
  },
  {
   "cell_type": "code",
   "execution_count": 120,
   "metadata": {
    "scrolled": true
   },
   "outputs": [
    {
     "data": {
      "image/png": "[encoded data removed]",
      "text/plain": [
       "<Figure size 432x288 with 1 Axes>"
      ]
     },
     "metadata": {
      "needs_background": "light"
     },
     "output_type": "display_data"
    }
   ],
   "source": [
    "plot_optimalization(new_optimalization)"
   ]
  },
  {
   "cell_type": "code",
   "execution_count": 108,
   "metadata": {},
   "outputs": [
    {
     "name": "stdout",
     "output_type": "stream",
     "text": [
      "   Wartosc kombinacji\n",
      "0            39002485\n",
      "1            38963408\n",
      "2            38884950\n",
      "3            38849686\n",
      "4            38789832\n",
      "5            38771592\n",
      "6            38737352\n",
      "7            38715050\n",
      "8            38652104\n",
      "9            38619804\n",
      "10           38592444\n",
      "11           38578574\n",
      "12           38534732\n",
      "13           38515728\n",
      "14           38406218\n",
      "15           38383486\n",
      "16           38340298\n",
      "17           38330883\n",
      "18           38317189\n",
      "19           38306590\n",
      "20           38299524\n",
      "21           38255492\n",
      "22           38248968\n",
      "23           38246900\n",
      "24           38243637\n",
      "25           38194931\n",
      "26           38187047\n",
      "27           38185294\n",
      "28           38174488\n",
      "29           38172516\n",
      "30           38158006\n",
      "31           38154292\n",
      "32           38153540\n",
      "33           38151512\n",
      "34           38150770\n",
      "35           38150705\n"
     ]
    }
   ],
   "source": [
    "print(new_optimalization)"
   ]
  },
  {
   "cell_type": "code",
   "execution_count": 105,
   "metadata": {},
   "outputs": [],
   "source": [
    "df.to_csv(os.path.join(data_path, \"zoptymalizowany_szeregwspinaczka.csv\"), sep=';', index_label=False)\n",
    "new_optimalization.to_csv(os.path.join(data_path, \"optymalizacjawspinaczka.csv\"), sep=';', index_label=False)"
   ]
  },
  {
   "cell_type": "code",
   "execution_count": 121,
   "metadata": {},
   "outputs": [
    {
     "name": "stdout",
     "output_type": "stream",
     "text": [
      "  Wartosc kombinacji\n",
      "0           31147386\n",
      "1           30933816\n",
      "2           30795036\n",
      "3           30776386\n",
      "Wall time: 1.05 s\n"
     ]
    }
   ],
   "source": [
    "%%time\n",
    "new_order, new_optimalization = hill_climbing_algorithm(\n",
    "        number_of_iterations=500,\n",
    "        break_counter=20,\n",
    "        neighbours_count=20)\n",
    "print(new_optimalization)\n"
   ]
  },
  {
   "cell_type": "code",
   "execution_count": 116,
   "metadata": {},
   "outputs": [
    {
     "name": "stdout",
     "output_type": "stream",
     "text": [
      "  Wartosc kombinacji\n",
      "0           35157087\n",
      "1           35143473\n",
      "2           35140288\n",
      "3           35127920\n",
      "4           35115150\n",
      "5           35114980\n",
      "6           35094292\n",
      "7           35079534\n",
      "8           35079292\n",
      "   Wartosc kombinacji\n",
      "0            34928299\n",
      "1            34874452\n",
      "2            34801914\n",
      "3            34790410\n",
      "4            34756537\n",
      "5            34753081\n",
      "6            34744907\n",
      "7            34700611\n",
      "8            34630402\n",
      "9            34577377\n",
      "10           34556827\n",
      "11           34518967\n",
      "12           34451836\n",
      "13           34391119\n",
      "14           34379247\n",
      "15           34364367\n",
      "16           34350585\n",
      "17           34285833\n",
      "18           34195043\n",
      "19           34092968\n",
      "20           34071728\n",
      "21           34048608\n",
      "22           34024328\n",
      "23           34021616\n",
      "24           34015728\n",
      "25           34014616\n",
      "26           33995371\n",
      "27           33987655\n",
      "28           33968209\n",
      "29           33960805\n",
      "30           33956535\n",
      "31           33954300\n",
      "32           33951228\n",
      "33           33948873\n",
      "34           33948173\n",
      "35           33939329\n",
      "36           33938673\n",
      "37           33938649\n",
      "   Wartosc kombinacji\n",
      "0            33619721\n",
      "1            33352804\n",
      "2            33232559\n",
      "3            33139004\n",
      "4            33025420\n",
      "5            32888962\n",
      "6            32818701\n",
      "7            32693185\n",
      "8            32661817\n",
      "9            32561485\n",
      "10           32477015\n",
      "11           32442887\n",
      "12           32361079\n",
      "13           32338147\n",
      "14           32316643\n",
      "15           32312687\n",
      "16           32311079\n",
      "17           32294695\n",
      "18           32283205\n",
      "19           32281359\n",
      "   Wartosc kombinacji\n",
      "0            32255409\n",
      "1            32214978\n",
      "2            32172880\n",
      "3            32103682\n",
      "4            32064854\n",
      "5            32014744\n",
      "6            31993042\n",
      "7            31952413\n",
      "8            31936459\n",
      "9            31891741\n",
      "10           31866429\n",
      "11           31824125\n",
      "12           31813321\n",
      "13           31801003\n",
      "14           31789367\n",
      "15           31748980\n",
      "16           31743598\n",
      "17           31737342\n",
      "18           31731440\n",
      "19           31727770\n",
      "20           31718114\n",
      "21           31716646\n",
      "22           31716086\n",
      "23           31715914\n",
      "24           31713062\n",
      "25           31712502\n",
      "26           31712284\n",
      "27           31711724\n"
     ]
    }
   ],
   "source": [
    "\n",
    "new_order, new_optimalization = hill_climbing_algorithm(\n",
    "    number_of_iterations=500,\n",
    "    break_counter=100,\n",
    "    neighbours_count=6\n",
    ")\n",
    "print(new_optimalization)\n",
    "new_order, new_optimalization = hill_climbing_algorithm(\n",
    "    number_of_iterations=500,\n",
    "    break_counter=100,\n",
    "    neighbours_count=10\n",
    ")\n",
    "print(new_optimalization)\n",
    "new_order, new_optimalization = hill_climbing_algorithm(\n",
    "    number_of_iterations=500,\n",
    "    break_counter=100,\n",
    "    neighbours_count=14\n",
    ")\n",
    "print(new_optimalization)\n",
    "new_order, new_optimalization = hill_climbing_algorithm(\n",
    "    number_of_iterations=500,\n",
    "    break_counter=100,\n",
    "    neighbours_count=20\n",
    ")\n",
    "print(new_optimalization)\n",
    "\n"
   ]
  },
  {
   "cell_type": "code",
   "execution_count": null,
   "metadata": {},
   "outputs": [],
   "source": []
  }
 ],
 "metadata": {
  "kernelspec": {
   "display_name": "Python 3",
   "language": "python",
   "name": "python3"
  },
  "language_info": {
   "codemirror_mode": {
    "name": "ipython",
    "version": 3
   },
   "file_extension": ".py",
   "mimetype": "text/x-python",
   "name": "python",
   "nbconvert_exporter": "python",
   "pygments_lexer": "ipython3",
   "version": "3.7.4"
  }
 },
 "nbformat": 4,
 "nbformat_minor": 2
}
