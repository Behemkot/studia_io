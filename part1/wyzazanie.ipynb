{
 "cells": [
  {
   "cell_type": "code",
   "execution_count": 1,
   "metadata": {},
   "outputs": [],
   "source": [
    "import numpy as np\n",
    "import pandas as pd\n",
    "import os"
   ]
  },
  {
   "cell_type": "code",
   "execution_count": 2,
   "metadata": {},
   "outputs": [],
   "source": [
    "data_path = \"./dane/\"\n",
    "df = pd.read_csv(os.path.join(data_path, \"dane_spr1.csv\"), sep=';')"
   ]
  },
  {
   "cell_type": "code",
   "execution_count": 3,
   "metadata": {},
   "outputs": [],
   "source": [
    "# wartość optymalizacji po poszczególnym ruchu\n",
    "optimalization = pd.DataFrame(columns=[\"Wartosc kombinacji\"])\n",
    "Neighbours_count = 20\n",
    "improvements = np.zeros(Neighbours_count)"
   ]
  },
  {
   "cell_type": "code",
   "execution_count": 4,
   "metadata": {},
   "outputs": [],
   "source": [
    "# KR to wartość naszego rozwiązania - ma być najmniejsza\n",
    "def E(df = df):\n",
    "    c_sum = df[\"Czas wykonania\"].cumsum() # suma kumultatywna kolumny \"Czas wykonania\"\n",
    "    KR = (df[\"Termin\"] - c_sum)**2 # obliczanie kwadratu różnicy wartosći\n",
    "    return sum(KR) # KR jest wskaźnikiem jakości ułożenia zadań. To optymalizujemy\n",
    "\n",
    "# wyszukiwanie listy sąsiadów\n",
    "def get_neighbours(idx, neighbours_count = 20, df = df):\n",
    "    N = neighbours_count\n",
    "    # Idea sąsiedztwa dla N = 6 i idx = n E <N/2 ; L-N/2>\n",
    "    # idx = X, sąsiad = 0, nie sąsiad = -\n",
    "    # nr_indeksu | ... | n-4 | n-3 | n-2 | n-1 |  n  | n+1 | n+2 | n+3 | n+4 | ... |\n",
    "    # sasiedztwo |  -  |  -  |  0  |  0  |  0  |  X  |  0  |  0  |  0  |  -  |  -  |\n",
    "    \n",
    "    L = len(df) - 1 \n",
    "    idx_prev = idx # indeks dla ktorego szukamy sasiadow\n",
    "    N_half = N//2 # polowa wartosci N\n",
    "    \n",
    "    # Idea sąsiedztwa dla N = 6 i idx = n < N/2\n",
    "    # idx = X, sąsiad = 0, nie sąsiad = -\n",
    "    # przykład n = 2\n",
    "    # nr_indeksu |  0  |  1  | n=2 |  3  |  4  |  5  |  6  |  7  |  8  |  9  | ... |\n",
    "    # sasiedztwo |  0  |  0  |  X  |  0  |  0  |  0  |  0  |  -  |  -  |  -  |  -  |\n",
    "    # skoro nie mozemy znaleźć wystarczająco dużo sąsiadów po lewej, \n",
    "    # szukamy dodatkowego po prawej\n",
    "    if idx < N_half:\n",
    "        idx = N_half\n",
    "    # idea sąsiedztwa z ograniczeniem z prawej jest analogiczna do tej z ograniczeniem z lewej\n",
    "    elif idx > L - N_half:\n",
    "        idx = L - N_half\n",
    "    output = list(range(idx - N_half, idx + N_half + 1))\n",
    "    # usuwanie idx z output\n",
    "    # TODO: na pewno da się to zrobić prościej\n",
    "    rm_idx = output.index(idx_prev)\n",
    "    output = np.array(output)\n",
    "    output = np.delete(output, rm_idx)\n",
    "    return output\n",
    "\n",
    "def swap(idx_1, idx_2, df=df):\n",
    "    # zamiana miejscami dwóch wierszy \"in place\" - nie tworzymy nowej ramki danych\n",
    "    df.iloc[idx_1], df.iloc[idx_2] = df.iloc[idx_2].copy(), df.iloc[idx_1].copy()\n",
    "    \n",
    "def move(idx_1, idx_2, df=df):\n",
    "    swap(idx_1, idx_2) # ruch\n",
    "\n",
    "def reduce_temperature(T, rate_of_change = .02, sposob = 1):\n",
    "    return (1-rate_of_change)*T if sposob == 1 else T/(1+rate_of_change*T)\n",
    "\n",
    "def plot_optimalization(optimalization):\n",
    "    # TODO: można to zrobić ładniej matplotlibem\n",
    "    optimalization[\"Wartosc kombinacji\"].plot(kind=\"line\")\n",
    "\n"
   ]
  },
  {
   "cell_type": "code",
   "execution_count": 5,
   "metadata": {},
   "outputs": [],
   "source": [
    "def simulated_anniling_algorithm(\n",
    "    T = 2500, \n",
    "    Tmin = 100, \n",
    "    neighbours_count=20, \n",
    "    number_of_generations = 1000\n",
    "):\n",
    "    global df\n",
    "    R = np.random.randint(len(df)) # losowy numer wiersza\n",
    "    KR_before = E()\n",
    "    optimalization = pd.DataFrame(columns=[\"Wartosc kombinacji\"])\n",
    "    optimalization = optimalization.append({\n",
    "                    \"Wartosc kombinacji\": KR_before\n",
    "                }, ignore_index=True)\n",
    "    while T > Tmin:\n",
    "        while number_of_generations:\n",
    "            neighbours = get_neighbours(idx=R, neighbours_count=neighbours_count) # generuj sąsiadów\n",
    "            R_prim = np.random.choice(neighbours) # losowy indeks wiersza\n",
    "            move(R, R_prim)\n",
    "            KR_now = E()\n",
    "            dE = KR_now - KR_before\n",
    "                        # prawdopodobieństwo przyjęcia gorszego rozwiązania\n",
    "            if dE < 0 or np.random.rand() < np.exp(-dE/T):\n",
    "                R = R_prim\n",
    "            KR_before = KR_now\n",
    "            # dodawanie obecnej wartości kombinacji do listy wszystkich wartości\n",
    "            optimalization = optimalization.append({\n",
    "                    \"Wartosc kombinacji\": KR_now\n",
    "                }, ignore_index=True)\n",
    "            number_of_generations -= 1\n",
    "        T = reduce_temperature(T)\n",
    "    order = df[\"Zadanie\"]\n",
    "    return order, optimalization\n",
    "            "
   ]
  },
  {
   "cell_type": "code",
   "execution_count": 6,
   "metadata": {},
   "outputs": [
    {
     "data": {
      "text/plain": [
       "209043029"
      ]
     },
     "execution_count": 6,
     "metadata": {},
     "output_type": "execute_result"
    }
   ],
   "source": [
    "if __name__ == '__main__':\n",
    "    new_order, new_optimalization = simulated_anniling_algorithm(\n",
    "        T=2500,\n",
    "        Tmin=100,\n",
    "        neighbours_count=6,\n",
    "        number_of_generations=1000\n",
    "    )\n",
    "    plot_optimalization(new_optimalization)\n",
    "    new_optimalization[\"Wartosc kombinacji\"].iloc[-1]"
   ]
  }
 ],
 "metadata": {
  "kernelspec": {
   "display_name": "Python 3",
   "language": "python",
   "name": "python3"
  },
  "language_info": {
   "codemirror_mode": {
    "name": "ipython",
    "version": 3
   },
   "file_extension": ".py",
   "mimetype": "text/x-python",
   "name": "python",
   "nbconvert_exporter": "python",
   "pygments_lexer": "ipython3",
   "version": "3.7.5"
  }
 },
 "nbformat": 4,
 "nbformat_minor": 2
}
