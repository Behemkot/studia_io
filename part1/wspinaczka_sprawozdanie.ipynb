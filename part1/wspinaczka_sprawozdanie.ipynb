{
 "cells": [
  {
   "cell_type": "markdown",
   "metadata": {},
   "source": [
    "# SPRAWOZDANIE ALGORYTM WSPINACZKI"
   ]
  },
  {
   "cell_type": "markdown",
   "metadata": {},
   "source": [
    "## KATARZYNA JĘDROCHA   SZYMON BEDNAREK   MICHAŁ BARAN   BARTŁOMIEJ KALATA"
   ]
  },
  {
   "cell_type": "markdown",
   "metadata": {},
   "source": [
    "### WSTĘP"
   ]
  },
  {
   "cell_type": "markdown",
   "metadata": {},
   "source": [
    "Algorytm wspinaczkowy polega na wybraniu losowego X dla którego jest przypisana wartość Y. W pierwszej kolejności sprawdzane jest najbliższe sąsiedztwo X. Jeżeli wartość sąsiada jest większa niż wartość początkowego X wtedy sąsiadujący X jest brany jako punkt początkowy następnej iteracji algorytmu. W ten sposób możemy osiągnąć ekstremum fukcji minimalne lub maksymalne w zależności od założeń. Problem tego algorytmu polega na tym że znajdując się w wierzchołku fukncji kończymy działanie algorytmu. Jednakże nie zawsze osiągniąty wierzchołek jest ekstremum globalnym, tylko lokalnym. Aby zniwelować ten błąd należy uruchomić algorytm losując X, tyle razy, aby prawdopodobieństwo że otrzymany wynik jest ekstremum lokalnym było jak najmniejsze."
   ]
  },
  {
   "cell_type": "markdown",
   "metadata": {},
   "source": [
    "### OPIS KODU "
   ]
  },
  {
   "cell_type": "markdown",
   "metadata": {},
   "source": [
    "Nasz algorytm został napisany w języku Python. "
   ]
  },
  {
   "cell_type": "markdown",
   "metadata": {},
   "source": [
    "W pierwszej kolejności zdefiniowana została zmienna 'KR' która to jest wskaźnikiem jakości ułożenia zadań. Wartość 'KR' jest optymalizowana. Oznacza to że im mniejsza wartość 'KR' tym lepsze jest rozwiązanie problemu. \n",
    "\n",
    "TODO: OPIS PROBLEMU"
   ]
  },
  {
   "cell_type": "markdown",
   "metadata": {},
   "source": [
    "Do przeszukiwania listy sąsiadów dla wylosowanego X, została stworzona funkcja get_neighbours(). Jej argumentami są :\n",
    "\n",
    "    * **idx** - Jest to indeks dla ktorego szukamy sąsiadów.\n",
    "    * **neighbours_count** - liczba sąsiadów którą chcemy wyszukać \n",
    "    * **df** - wprowadzone dane\n",
    "    \n",
    "Funkcja działa w następujący sposób:\n",
    "\n",
    "Dla zadanych wartości argumentów algorytm ustawia się w pozycji startowej:\n",
    "\n",
    "    Numer indeksu   | ... | n-4 | n-3 | n-2 | n-1 |  n  | n+1 | n+2 | n+3 | n+4 | ... |\n",
    "    Sąsiedztwo      |  -  |  -  |  0  |  0  |  0  |  X  |  0  |  0  |  0  |  -  |  -  |\n",
    "    \n",
    "W powyższym przykładzie możemy zauważyć że dla zadanych:\n",
    "\n",
    "    * idx = n;\n",
    "    * neighbours_count = 6;\n",
    " \n",
    "Algorytm ustawił się w pozycji n i wyszukał 6 sąsiadów.\n",
    "\n",
    "Dla przypadków końca danych z lewej lub z prawej strony zostały stworzone wyjątki.\n",
    "Wprowadzone zostały dodatkowe zmienne:\n",
    "    \n",
    "    * L - Jest to długość danych minus wylosowana pozycja\n",
    "    * idx_prev = idx - Jest to indeks dla ktorego szukamy sasiadow\n",
    "    * N_half - Połowa wartości szukanych sąsiadów\n",
    "    \n",
    "Zobrazowanie sytuacji w której występuje wyjątek:\n",
    "\n",
    "    Numer indeksu |  0  |  1  | n=2 |  3  |  4  |  5  |  6  |  7  |  8  |  9  | ... |\n",
    "    Sąsiedztwo    |  0  |  0  |  X  |  0  |  0  |  0  |  0  |  -  |  -  |  -  |  -  |\n",
    "    \n",
    "W powyższym przykładzie możemy zauważyć że dla zadanych:\n",
    "\n",
    "    * idx = n = 2 gdzie n < neighbours_count/2;\n",
    "    * neighbours_count = 6;\n",
    "\n",
    "W takim przypadku możemy znaleźć tylko dwa obiekty z lewej strony, dlatego w tym wyjątku dodajemy dodatkowy obiekt z prawej strony. Sytuacja jest analogiczna dla obserwacji na obu końcach zbioru danych. Do rozwiązania tych wyjątków wykorzystany został następujący kod:\n",
    "\n",
    "    if idx < N_half:\n",
    "        idx = N_half\n",
    "    \n",
    "    elif idx > L - N_half:\n",
    "        idx = L - N_half\n",
    "    output = list(range(idx - N_half, idx + N_half + 1))\n",
    "\n",
    "Jako ostateczny wynik funkcja zwraca listę sąsiadów, która zostanie przeszukana w celu uzyskania lepszego wyniku niz startowy X.\n",
    "\n",
    "TODO: JAK ARGUMENTY TEJ FUNKCJI WPŁYWAJĄ NA ILOŚĆ ITERACJI\n",
    "\n",
    "    "
   ]
  },
  {
   "cell_type": "markdown",
   "metadata": {},
   "source": [
    "Ostateczna funkcja algorytmu to **hill_climbing_algorithm()**. Jednak do jej działania użyte zostały poszczególne pomniejsze funkcje:\n",
    "\n",
    "    * calculate_improvements()\n",
    "    * search_for_the_best_neighbour()\n",
    "    * swap()\n",
    "    * move()\n",
    "    * plot_optimalization()\n",
    "\n",
    "1. Funkcja **calculate_improvements()** jest odpowiedzialna za sprawdzenie jak zmieni się wartość **KR** w przypadku gdy zamienimy miejscami **idx** z jakimś sąsiadem.\n",
    "\n",
    "2. Funkcja **search_for_the_best_neighbour()** jest odpowiedzialna za wyszukanie najlepszego sąsiada i przypisanie do zmiennej idx_min indeksu najmniejszego elementu.\n",
    "\n",
    "3. Funkcja **swap()** jest odpowiedzialna za zamianę miejscami dwóch wierszy \"in place\" -  dzięki temu nie tworzymy nowej ramki danych. tylko pracujemy na tym samym zbiorze danych co optymalizuje szybkość wykonania algorytmu.\n",
    "\n",
    "4. Funkcja **move()** jest odpowiedzialna za zmianę startowego X od którego zaczniemy kolejną iterację algorytmu.\n",
    "\n",
    "5. Funkcja **plot_optimalization()** jest odpowiedzialna za wykonanie wykresu służącego do sprawdzenia czy algorytm poprawnie optymalizuje szukaną wartość.\n"
   ]
  },
  {
   "cell_type": "markdown",
   "metadata": {},
   "source": [
    "### Funkcja hill_climbing_algorithm()"
   ]
  },
  {
   "cell_type": "markdown",
   "metadata": {},
   "source": [
    "Do wykonania wlgorytmu wspinaczkowego dla wylosowanego X, została stworzona funkcja hill_climbing_algorithm(). Jej argumentami są:\n",
    "\n",
    "    * number_of_iterations - ustalona liczba iteracji wykonania algorytmu\n",
    "    * break_counter - ####################################################\n",
    "    * neighbours_count - liczba sąsiadów którą chcemy wyszukać\n",
    "    \n",
    "Oraz ustawiamy dla poszczegołnych zmiennych punkt startowy:\n",
    "\n",
    "    * idx - w pierwszej iteracji jest wybierany losowo jako jeden z indeksów zbioru danych.\n",
    "    * improvements - zmienna ustalona jako pusty szereg numeryczny (wypełniony wartościami 0).\n",
    "    * optimalization - przypisywana jest nazwa kolumny w zbiorze danych, którą posiłkuje się do wykonania wykresu.\n"
   ]
  },
  {
   "cell_type": "code",
   "execution_count": 2,
   "metadata": {},
   "outputs": [
    {
     "ename": "NameError",
     "evalue": "name 'np' is not defined",
     "output_type": "error",
     "traceback": [
      "\u001b[1;31m---------------------------------------------------------------------------\u001b[0m",
      "\u001b[1;31mNameError\u001b[0m                                 Traceback (most recent call last)",
      "\u001b[1;32m<ipython-input-2-67a952e79518>\u001b[0m in \u001b[0;36m<module>\u001b[1;34m\u001b[0m\n\u001b[1;32m----> 1\u001b[1;33m \u001b[0mnp\u001b[0m\u001b[1;33m.\u001b[0m\u001b[0mrandom\u001b[0m\u001b[1;33m.\u001b[0m\u001b[0mseed\u001b[0m\u001b[1;33m(\u001b[0m\u001b[1;36m42\u001b[0m\u001b[1;33m)\u001b[0m\u001b[1;33m\u001b[0m\u001b[1;33m\u001b[0m\u001b[0m\n\u001b[0m\u001b[0;32m      2\u001b[0m \u001b[1;33m\u001b[0m\u001b[0m\n\u001b[0;32m      3\u001b[0m def hill_climbing_algorithm(\n\u001b[0;32m      4\u001b[0m     \u001b[0mnumber_of_iterations\u001b[0m \u001b[1;33m=\u001b[0m \u001b[1;36m1000\u001b[0m\u001b[1;33m,\u001b[0m\u001b[1;33m\u001b[0m\u001b[1;33m\u001b[0m\u001b[0m\n\u001b[0;32m      5\u001b[0m     \u001b[0mbreak_counter\u001b[0m \u001b[1;33m=\u001b[0m \u001b[1;36m10\u001b[0m\u001b[1;33m,\u001b[0m\u001b[1;33m\u001b[0m\u001b[1;33m\u001b[0m\u001b[0m\n",
      "\u001b[1;31mNameError\u001b[0m: name 'np' is not defined"
     ]
    }
   ],
   "source": [
    "np.random.seed(42)\n",
    "\n",
    "def hill_climbing_algorithm(\n",
    "    number_of_iterations = 1000, \n",
    "    break_counter = 10, \n",
    "    neighbours_count = 20\n",
    "):\n",
    "    optimalization = pd.DataFrame(columns=[\"Wartosc kombinacji\"])\n",
    "    improvements = np.zeros(neighbours_count)\n",
    "    idx = np.random.randint(len(df))\n",
    "    \n",
    "    while number_of_iterations and break_counter:\n",
    "        KR_before = get_KR() # początkowa wartość kombinacji\n",
    "        neighbours = get_neighbours(idx, neighbours_count=neighbours_count) # lista sąsiadów\n",
    "        # obliczanie potencjalnych ulepszeń dla sąsiadów\n",
    "        calculate_improvements(KR_before, idx, neighbours, improvements)\n",
    "        # wyszukanie sąsiada dla którego ulepszenie będzie największe\n",
    "        best_neighbour = search_for_the_best_neighbour(neighbours, improvements)\n",
    "\n",
    "        # jeżeli istnieje sąsiad po zamianie z którym ulepszymy kombinacje\n",
    "        if best_neighbour:\n",
    "            # zamiana miejscami z sąsiadem\n",
    "            move(idx, best_neighbour)\n",
    "            # obliczanie obecnej kombinacji\n",
    "            KR_now = get_KR()\n",
    "            # kolejna iteracja rozpoczyna się od miejsca na które wskoczył idx\n",
    "            idx = best_neighbour  \n",
    "            # dodawanie obecnej wartości kombinacji do listy wszystkich wartości\n",
    "            optimalization = optimalization.append({\n",
    "                \"Wartosc kombinacji\": KR_now\n",
    "            }, ignore_index=True)\n",
    "\n",
    "            number_of_iterations -= 1\n",
    "        else:\n",
    "            break_counter -= 1\n",
    "            \n",
    "    order = df[\"Zadanie\"]\n",
    "    \n",
    "    return order, optimalization"
   ]
  },
  {
   "cell_type": "code",
   "execution_count": 28,
   "metadata": {},
   "outputs": [],
   "source": [
    "new_order, new_optimalization = hill_climbing_algorithm(\n",
    "    number_of_iterations=500,\n",
    "    break_counter=20,\n",
    "    neighbours_count=20\n",
    ")"
   ]
  },
  {
   "cell_type": "code",
   "execution_count": 29,
   "metadata": {},
   "outputs": [
    {
     "data": {
      "image/png": "[encoded data removed]",
      "text/plain": [
       "<Figure size 432x288 with 1 Axes>"
      ]
     },
     "metadata": {
      "needs_background": "light"
     },
     "output_type": "display_data"
    }
   ],
   "source": [
    "# działa ale bardzo słabo optymalizuje\n",
    "plot_optimalization(new_optimalization)"
   ]
  }
 ],
 "metadata": {
  "kernelspec": {
   "display_name": "Python 3",
   "language": "python",
   "name": "python3"
  },
  "language_info": {
   "codemirror_mode": {
    "name": "ipython",
    "version": 3
   },
   "file_extension": ".py",
   "mimetype": "text/x-python",
   "name": "python",
   "nbconvert_exporter": "python",
   "pygments_lexer": "ipython3",
   "version": "3.7.3"
  }
 },
 "nbformat": 4,
 "nbformat_minor": 2
}
