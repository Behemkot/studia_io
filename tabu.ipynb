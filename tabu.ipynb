{
 "cells": [
  {
   "cell_type": "code",
<<<<<<< HEAD
   "execution_count": 9,
=======
   "execution_count": 3,
>>>>>>> 4cd0fcd7578c105a0422f59941706a5cf7e44c32
   "metadata": {},
   "outputs": [],
   "source": [
    "import numpy as np\n",
    "import pandas as pd\n",
    "import os"
   ]
  },
  {
   "cell_type": "code",
<<<<<<< HEAD
   "execution_count": 10,
=======
   "execution_count": 4,
>>>>>>> 4cd0fcd7578c105a0422f59941706a5cf7e44c32
   "metadata": {},
   "outputs": [],
   "source": [
    "data_path = \"./dane/\"\n",
    "df = pd.read_csv(os.path.join(data_path, \"dane_spr1.csv\"), sep=';')"
   ]
  },
  {
   "cell_type": "code",
<<<<<<< HEAD
   "execution_count": 11,
=======
   "execution_count": 5,
>>>>>>> 4cd0fcd7578c105a0422f59941706a5cf7e44c32
   "metadata": {},
   "outputs": [],
   "source": [
    "# macierz wartości poszczególnych ruchów. Im mniejsza wartosć tym lepiej.\n",
    "Z = np.zeros(shape=(len(df), len(df)))\n",
    "# lista zabronionych ruchów\n",
    "tabu = pd.DataFrame(columns=[\"idx\", \"status\"], dtype=np.int8)\n",
    "# wartość optymalizacji po poszczególnym ruchu\n",
    "optimalization = pd.DataFrame(columns=[\"Wartosc kombinacji\"])"
   ]
  },
  {
   "cell_type": "code",
<<<<<<< HEAD
   "execution_count": 12,
=======
   "execution_count": 6,
>>>>>>> 4cd0fcd7578c105a0422f59941706a5cf7e44c32
   "metadata": {},
   "outputs": [],
   "source": [
    "# wypełnianie macierzy Z największymi możliwymi wartosciami poniżej głównej przekątnej\n",
    "for i in range(len(Z)):\n",
    "    for j in range(i):\n",
    "        idx = (i, j)\n",
    "        Z[idx] = np.inf"
   ]
  },
  {
   "cell_type": "code",
<<<<<<< HEAD
   "execution_count": 13,
=======
   "execution_count": 7,
>>>>>>> 4cd0fcd7578c105a0422f59941706a5cf7e44c32
   "metadata": {},
   "outputs": [],
   "source": [
    "# KR to wartość naszego rozwiązania - ma być najmniejsza\n",
    "def get_KR(df = df):\n",
    "    c_sum = df[\"Czas wykonania\"].cumsum() # suma kumultatywna kolumny \"Czas wykonania\"\n",
    "    KR = (df[\"Termin\"] - c_sum)**2 # obliczanie kwadratu różnicy wartosći\n",
    "    return sum(KR) # KR jest wskaźnikiem jakości ułożenia zadań. To optymalizujemy\n",
    "\n",
    "# generowanie tablicy możliwych ruchów \n",
    "def gen_Z(KR_before, df = df):\n",
    "    global Z\n",
    "    for i in range(len(df)):\n",
    "        for j in range(i,len(df)):\n",
    "            idx = (i, j)\n",
    "            # sprawdzenie czy ruch nie jest zabroniony\n",
    "            if check_in_tabu(idx):\n",
    "                Z[idx] = np.inf\n",
    "                continue\n",
    "            swap(idx) # wykonanie pozornego ruchu\n",
    "            Z[idx] = np.float64(get_KR() - KR_before) # obliczanie wpływu danego ruchu\n",
    "            swap(idx) # powrót do stanu przed pozornym ruchem\n",
    "\n",
    "def search_for_the_best_move(df = df):\n",
    "    global Z\n",
    "    # index najmniejszego elementu\n",
    "    idx = np.unravel_index(np.argmin(Z, axis=None), Z.shape)\n",
    "    return idx\n",
    "\n",
    "def swap(idx, df=df):\n",
    "    # zamiana miejscami dwóch wierszy \"in place\" - nie tworzymy nowej ramki danych\n",
    "    df.iloc[idx[0]], df.iloc[idx[1]] = df.iloc[idx[1]].copy(), df.iloc[idx[0]].copy()\n",
    "    \n",
    "def move(idx, inactive_time = 3, df=df):\n",
    "    global tabu, optimalization\n",
    "    swap(idx) # ruch\n",
    "    # dodawanie wykonanego ruchu do listy zabronionych\n",
    "    # inactive_time + 1 bo wstawiam ruch do tabu przed atkualizacją\n",
    "    # w aktualizacji: (inactive_time + 1) - 1 -> inactive_time\n",
    "    tabu = tabu.append({\"idx\": idx, \"status\": inactive_time + 1}, ignore_index=True)\n",
    "    # aktualizacja listy zabronionych ruchów\n",
    "    update_tabu()\n",
    "\n",
    "# funkcja warunku, sprawdza czy ruch jest na liście zabronionych ruchów\n",
    "def check_in_tabu(idx):\n",
    "    global tabu\n",
    "    for item in tabu.idx:\n",
    "        if item == idx:\n",
    "            return True\n",
    "    return False\n",
    "    \n",
    "def update_tabu():\n",
    "    global tabu\n",
    "    tabu[\"status\"] -= 1 # aktualizacja długości oczekiwania\n",
    "    tabu = tabu[tabu[\"status\"] != 0] # usuwanie ruchów które przestały być zabronione\n",
    "    \n",
    "def plot_optimalization(optimalization):\n",
    "    # TODO: można to zrobić ładniej matplotlibem\n",
    "    optimalization[\"Wartosc kombinacji\"].plot(kind=\"line\")\n"
   ]
  },
  {
   "cell_type": "code",
<<<<<<< HEAD
   "execution_count": 14,
=======
   "execution_count": 8,
>>>>>>> 4cd0fcd7578c105a0422f59941706a5cf7e44c32
   "metadata": {},
   "outputs": [],
   "source": [
    "# # wczytywanie wczesniej zoptymalizowanej tabeli ruchów i wartości optymalizacji\n",
    "# df = pd.read_csv(os.path.join(data_path, \"zoptymalizowany_szereg.csv\"), sep=';')\n",
    "# optimalization = pd.read_csv(os.path.join(data_path, \"optymalizacja.csv\"), sep=';')\n",
    "# plot_optimalization(optimalization)"
   ]
  },
  {
   "cell_type": "code",
<<<<<<< HEAD
   "execution_count": 22,
=======
   "execution_count": 9,
>>>>>>> 4cd0fcd7578c105a0422f59941706a5cf7e44c32
   "metadata": {},
   "outputs": [],
   "source": [
    "def tabu_search_algorithm(inactive_time = 3, break_counter = 3, number_of_generations = 10):\n",
    "    new_optimalization = pd.DataFrame(columns=[\"Wartosc kombinacji\"])\n",
    "    KR_before = get_KR() # wartość KR przed wykonaniem ruchu\n",
    "    while number_of_generations and break_counter:\n",
    "        print(f\"{number_of_generations} iterations left.\")\n",
    "        gen_Z(KR_before) \n",
    "        best_move = search_for_the_best_move() # znajdz najlepszy ruch\n",
    "        KR_now = KR_before + Z[best_move] # wartość KR po wykonaniu ruchu\n",
    "        move(best_move, inactive_time) # wykonaj najlepszy ruch\n",
    "        \n",
    "        # jeśli nowe ułożenie jest gorsze niż poprzednie\n",
    "        if KR_before <= KR_now:\n",
    "            break_counter -= 1 # jeśli zdarzy się tak 3 razy to przerywamy szukanie kombinacji\n",
    "            continue # powtarzamy iteracje\n",
    "            \n",
    "        KR_before = KR_now\n",
    "        # dodawanie obecnej wartości kombinacji do listy wszystkich wartości\n",
    "        new_optimalization = new_optimalization.append({\n",
    "            \"Wartosc kombinacji\": KR_now\n",
    "        }, ignore_index=True)\n",
    "        number_of_generations -= 1\n",
    "    order = df[\"Zadanie\"]\n",
    "    \n",
    "    return order, new_optimalization"
   ]
  },
  {
   "cell_type": "code",
<<<<<<< HEAD
   "execution_count": 20,
=======
   "execution_count": 10,
>>>>>>> 4cd0fcd7578c105a0422f59941706a5cf7e44c32
   "metadata": {},
   "outputs": [],
   "source": [
    "# df.to_csv(os.path.join(data_path, \"zoptymalizowany_szereg.csv\"), sep=';', index_label=False)\n",
    "# optimalization.to_csv(os.path.join(data_path, \"optymalizacja.csv\"), sep=';', index_label=False)"
   ]
  },
  {
   "cell_type": "markdown",
   "metadata": {},
   "source": [
    "## Sprawdzanie różnych wartości parametrów\n",
    "Zmieniamy parametry break_counter i inactive_time"
   ]
  },
  {
   "cell_type": "code",
   "execution_count": 23,
   "metadata": {},
   "outputs": [
    {
     "name": "stdout",
     "output_type": "stream",
     "text": [
      "10 iterations left.\n",
      "9 iterations left.\n",
      "8 iterations left.\n",
      "7 iterations left.\n",
      "6 iterations left.\n",
      "5 iterations left.\n",
      "4 iterations left.\n",
      "3 iterations left.\n",
      "2 iterations left.\n",
      "1 iterations left.\n",
      "CPU times: user 7min 43s, sys: 914 ms, total: 7min 44s\n",
      "Wall time: 7min 43s\n"
     ]
    }
   ],
   "source": [
    "%%time\n",
    "new_order, new_opt = tabu_search_algorithm(inactive_time=10)"
   ]
  },
  {
   "cell_type": "code",
   "execution_count": 18,
<<<<<<< HEAD
   "metadata": {},
=======
   "metadata": {
    "scrolled": true
   },
>>>>>>> 4cd0fcd7578c105a0422f59941706a5cf7e44c32
   "outputs": [
    {
     "data": {
      "image/png": "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\n",
      "text/plain": [
       "<Figure size 432x288 with 1 Axes>"
      ]
     },
     "metadata": {
      "needs_background": "light"
     },
     "output_type": "display_data"
    }
   ],
   "source": [
    "plot_optimalization(new_opt)"
   ]
<<<<<<< HEAD
=======
  },
  {
   "cell_type": "code",
   "execution_count": 13,
   "metadata": {},
   "outputs": [
    {
     "name": "stdout",
     "output_type": "stream",
     "text": [
      "3 iterations left.\n",
      "2 iterations left.\n",
      "1 iterations left.\n",
      "Wall time: 3min 38s\n"
     ]
    }
   ],
   "source": [
    "%%time\n",
    "new_order, new_opt = tabu_search_algorithm(\n",
    "    inactive_time = 5,\n",
    "    break_counter = 10,\n",
    "    number_of_generations = 150)"
   ]
  },
  {
   "cell_type": "code",
   "execution_count": 16,
   "metadata": {},
   "outputs": [
    {
     "data": {
      "image/png": "iVBORw0KGgoAAAANSUhEUgAAAYwAAAEDCAYAAAAm3zNHAAAABHNCSVQICAgIfAhkiAAAAAlwSFlzAAALEgAACxIB0t1+/AAAADh0RVh0U29mdHdhcmUAbWF0cGxvdGxpYiB2ZXJzaW9uMy4xLjEsIGh0dHA6Ly9tYXRwbG90bGliLm9yZy8QZhcZAAAgAElEQVR4nO3dd3wVVd7H8c8vCSH0YkKR3qsUDUVaQkApNuwdRZTFwoLCFt19Ht11d3VXqmIXRCyIDUFUUCAFkBYgdJAqIEhvgoDAef7IsM9dFsiF3GRyk+/79corN3NmJr87jnwz58zcY845REREshLhdwEiIhIeFBgiIhIUBYaIiARFgSEiIkFRYIiISFAUGCIiEpSwCwwzG21mO81seRDrVjWzZDNbbGZLzax7btQoIpIfhV1gAGOArkGu+2fgI+dcc+AO4JWcKkpEJL8Lu8BwzqUBewOXmVktM5tiZgvNbKaZ1T+9OlDSe10K2JaLpYqI5CtRfhcQIm8AfZ1za82sFZlXEknAM8A3ZtYPKAZ09q9EEZHwFvaBYWbFgTbAx2Z2enFh7/udwBjn3BAzuxJ418waO+dO+VCqiEhYC/vAILNbbb9zrtlZ2nrjjXc45+aYWQwQC+zMxfpERPKFsBvDOJNz7iCw0cxuBbBMTb3mzUAnb3kDIAbY5UuhIiJhzsLt02rNbByQSOaVwg7gaWAG8CpQESgEfOic+6uZNQTeBIqTOQD+e+fcN37ULSIS7sIuMERExB9h3yUlIiK5I6wGvWNjY1316tX9LkNEJKwsXLhwt3MuLrv7CavAqF69Ounp6X6XISISVszsh1DsR11SIiISFAWGiIgERYEhIiJBUWCIiEhQFBgiIhIUBYaIiARFgSEiIkEJq8A4ePRX9FEmIiL+CKvA+GHPER4Ys4CNuw/7XYqISIETVoFRsVQMCzbto8uwNF6Yupojx0/4XZKISIERVoERW7wwMwYlcG3TirycvJ5OQ1L5cul2dVOJiOSCsAoMgHIlYhh6WzM+6XslZYpG8+gHi7j7rXms3XHI79JERPK1sAuM0+Krl+WLfu14tkdjVmw7SLcRM/nb5JUcOvqr36WJiORLWQaGmY02s51mtvwc7WXMbIKZLTWz+WbW2Ftez8wyAr4OmtkAr+0ZM/sxoK37xRQfGWHc27oayYMSuTW+CqNmbyRpSCoTFm9VN5WISIgFc4UxBuh6nvangAznXBOgJzACwDm3xjnXzDnXDLgCOAJMCNhu2Ol259xXF1W9p2yxaJ676TImPtqWSqWL8Pj4Jdz2+hxWbDuQnd2KiEiALAPDOZcG7D3PKg2B6d66q4HqZlb+jHU6AeudcyH5TPZzaVK5NJ893IZ/3dyEDbsOc91Ls/jfics5cETdVCIi2RWKMYwlwE0AZtYSqAZUPmOdO4BxZyx7zOvGGm1mZc61czPrY2bpZpa+a9euLIuJiDBua1GFGQMT6Xlldd6b+wMdh6Tw4fzNnDqlbioRkYtlwfT1m1l1YLJzrvFZ2kqS2Q3VHFgG1AcedM4t8dqjgW1AI+fcDm9ZeWA34IBngYrOuQeyqiM+Pt5d6Ix7K7cd5JlJK5i/aS9NK5fiLzc0plmV0he0DxGRcGZmC51z8dndT7avMJxzB51zvbyxip5AHLAxYJVuwKLTYeFts8M5d9I5dwp4E2iZ3TrOpeGlJRn/m9aMuKMZ2w8cpcfLs/nDJ0vZ8/OxnPqVIiL5UrYDw8xKe1cRAA8Cac65gwGr3MkZ3VFmVjHgxxuBs96BFSpmxg3NKjFjUCJ9OtTk00Vb6Tg4hbFzNnHi5Kmc/NUiIvlGll1SZjYOSARigR3A00AhAOfca2Z2JTAWOAmsBHo75/Z52xYFtgA1nXMHAvb5LtCMzC6pTcBvnHPbsyr2YrqkzmbdzkM8M2kls9btpkHFkvz1hka0qF422/sVEcmLQtUlFdQYRl4RqsAAcM4xZflPPDt5JdsOHOXG5pV4slt9ypWMCcn+RUTyijwzhhGuzIxul1Vk+sBE+iXV5sul2+k4OIU30zbwq7qpRET+S4ENjNOKREcy8Op6fPN4B1rXvIS/f7WKbiNmMmvtbr9LExHJUwp8YJxWPbYYo+5vwaj74vn15CnuGTWPR95fyI/7f/G7NBGRPCHK7wLymk4NytO2dixvzdzAyOR1JK/exWNJtXmwfQ0KR0X6XZ6IiG90hXEWMYUieSypDtMHJtKxfhwvTF1Dl2FpJK/e6XdpIiK+UWCcR6XSRXjl7it4t3dLIiOMXmMW8OA7C/hhj6aIFZGCR4ERhPZ14vi6fwee6l6fOev3cNWwNIZ+s4Zfjp/0uzQRkVyjwAhSdFQEfTrUYsagRLo3rsCLM9bReWgqU5ZrilgRKRgUGBeofMkYht/RnPF9WlMiJoq+7y2i5+j5rNv5s9+liYjkKAXGRWpV8xIm92vHX65vRMaW/XQdnsZzX63i52Mn/C5NRCRHKDCyISoygvvaVCd5UCI3X16Z19M2kDQ4hYkZP6qbSkTyHQVGCMQWL8w/b2nChEfaUKFUDP0/zOD2N+ayavvBrDcWEQkTCowQal61DJ8/0pbnbrqMtTsOce1Ls3hm0goO/KIpYkUk/CkwQiwiwrizZVWSByVyV8uqjJ2ziaTBKXyUvkVTxIpIWFNg5JDSRaN5tkdjJj3Wjuqxxfj9J0u56dXvWLp1v9+liYhcFAVGDmtcqRSf9L2Sobc1Zeu+X7jh5dk8+dky9h4+7ndpIiIXRIGRC8yMmy6vTPKgBHq3rcFH6VtIGpLCe3N/4KS6qUQkTCgwclGJmEL8+dqGfN2/PQ0qlOTPny/n+pGzWPjDXr9LExHJkgLDB3XLl+CDh1ox8q7m7D18nJtfncPAj5aw89BRv0sTETknBYZPzIxrm1zKtCcSeCSxFpOW/EinwamMmrVRU8SKSJ6UZWCY2Wgz22lmy8/RXsbMJpjZUjObb2aNA9o2mdkyM8sws/SA5WXN7FszW+t9LxOatxN+ihWO4vdd6zN1QAcur1aGZyev5JoXZ/Ldek0RKyJ5SzBXGGOArudpfwrIcM41AXoCI85o7+ica+aciw9Y9kdgunOuDjDd+7lAqxlXnDG9WvBmz3h++fUkd705j8c+WMT2A5oiVkTyhiwDwzmXBpxvVLYhmf/o45xbDVQ3s/JZ7PYG4B3v9TtAj6xLzf/MjKsalufbxxN4vHNdvl25g6TBqbySso5jJzT3hoj4KxRjGEuAmwDMrCVQDajstTngGzNbaGZ9ArYp75zbDuB9L3eunZtZHzNLN7P0Xbt2haDcvC+mUCT9O9dh2hMJdKgby7+mrKHr8JmkrNEUsSLin1AExvNAGTPLAPoBi4HTn/Hd1jl3OdANeNTMOlzozp1zbzjn4p1z8XFxcSEoN3xUKVuU1++N550HWmLA/W8voM/YdLbsPeJ3aSJSAGU7MJxzB51zvZxzzcgcw4gDNnpt27zvO4EJQEtvsx1mVhHA+64/nc8joW4cUwZ04I/d6jNr3W46D01l+LTvOfqruqlEJPdkOzDMrLSZRXs/PgikOecOmlkxMyvhrVMMuBo4fafVJOA+7/V9wMTs1pHfRUdF0DehFjMGJtKlUQWGT1tL56GpfLPiJ829ISK5wrL6x8bMxgGJQCywA3gaKATgnHvNzK4ExgIngZVAb+fcPjOrSeZVBUAU8IFz7u/ePi8BPgKqApuBW51zWT7uHB8f79LT07NarUCYs34PT09azvc7fiahbhxPX9eQmnHF/S5LRPIgM1t4xp2qF7efcPrrVIHxn349eYp35/zAsG+/5+iJkzzYviaPdaxNscJRfpcmInlIqAJDT3qHsUKRETzQrgYzBiVyQ7NKvJqynk5DUvliyTZ1U4lIyCkw8oG4EoUZfGtTPn24DbElouk3bjF3vjmXNT8d8rs0EclHFBj5yBXVyjDx0Xb8/cbGrP7pEN1fnMmzk1dy8KimiBWR7FNg5DOREcbdraqRPDCR21tUYfTsjSQNTuXThVs1RayIZIsCI58qUyyaf9x4GZMebUeVskUY+PESbn19Dst/POB3aSISphQY+dxllUvxad82vHBLE37Yc5jrR87iz58vY/8RTRErIhdGgVEAREQYt8ZXYfrARO5rU51x87fQcXAKH8zbrCliRSRoCowCpFSRQjx9XSO+/G076pYvwVMTlnHjK7NZvHmf36WJSBhQYBRA9SuU5MM+rXnxzubsOHiUG1/5jt9/soTdPx/zuzQRycMUGAWUmXF900uZMTCR3yTUZMLiH+k4OIUxszdyQlPEishZKDAKuGKFo3iyWwO+7t+BZlVK88wXK7n2pVnM27DH79JEJI9RYAgAtcsVZ+wDLXntnis4dPQEt78xl/4fLmbHwaN+lyYieYQCQ/7NzOjauALTnkjgt53q8PXyn0ganMLrqes5fkLdVCIFnQJD/kuR6EieuKou0x5P4MpasTz39Wq6jkhj5tqCMUWuiJydAkPOqeolRXnrvnjevr8Fp0457h01n77vLmTrPk0RK1IQKTAkSx3rl2Pq4x34XZd6pH6/i85DU3lx+lpNEStSwCgwJCiFoyJ5tGNtpg9MoFOD8gz99nuuHpbG9FU7/C5NRHKJAkMuyKWli/DyXZfzwYOtKBwVQe930nlgzAI27T7sd2kiksMUGHJR2tSO5av+7fnzNQ2Yv3EvVw9LY/DUNRw5fsLv0kQkh2QZGGY22sx2mtnyc7SXMbMJZrbUzOabWWNveRUzSzazVWa2wsz6B2zzjJn9aGYZ3lf30L0lyS2FIiN4sH1NZgxM4NomFRmZvI7OQ1L5atl2TRErkg8Fc4UxBuh6nvangAznXBOgJzDCW34CGOicawC0Bh41s4YB2w1zzjXzvr668NIlryhXMoahtzfj475XUqpoNI+8v4h7Rs1j3U5NESuSn2QZGM65NGDveVZpCEz31l0NVDez8s657c65Rd7yQ8AqoFL2S5a8qkX1snzxWFuevaERy7YeoOvwmfz9y5Uc0hSxIvlCKMYwlgA3AZhZS6AaUDlwBTOrDjQH5gUsfszrxhptZmXOtXMz62Nm6WaWvmuXHhzL66IiI7j3yuokD0rklisq89asjXQaksrni39UN5VImAtFYDwPlDGzDKAfsJjM7igAzKw48CkwwDl30Fv8KlALaAZsB4aca+fOuTecc/HOufi4uLgQlCu54ZLihXn+5iZMeKQtFUvFMGB8Bre9PoeV2w5mvbGI5EnZDgzn3EHnXC/nXDMyxzDigI0AZlaIzLB43zn3WcA2O5xzJ51zp4A3gZbZrUPypmZVSjPhkbb88+bLWL/rMNe+NJOnJy7nwBF1U4mEm2wHhpmVNrNo78cHgTTn3EEzM2AUsMo5N/SMbSoG/HgjcNY7sCR/iIgwbm9RleSBidzbuhrvzv2BjkNSGL9gM6c0RaxI2LCs+pXNbByQCMQCO4CngUIAzrnXzOxKYCxwElgJ9HbO7TOzdsBMYBlw+qNOn3LOfWVm75LZHeWATcBvnHPbsyo2Pj7epaenX+h7lDxm5baDPD1pOQs27aNpldL89fpGNK1S2u+yRPItM1vonIvP9n7CaSBSgZF/OOeYmLGNv3+1it0/H+OOFlX4XZf6lC0WnfXGInJBQhUYetJbfGFm9GheiRkDE3iofU0+Tt9Kx8EpvDtnEyfVTSWSJykwxFclYgrxVPcGTBnQnsaVSvI/E1dw3UuzSN90vkd/RMQPCgzJE2qXK8F7vVvxyt2Xs//IcW55bQ5PjM9gp6aIFckzFBiSZ5gZ3S+ryLSBCTzWsTaTl24naUgqb83cwK8nNUWsiN8UGJLnFI2OYlCXenzzeAdaVC/D375cRbcRM5m9brffpYkUaAoMybOqxxbj7V4tGXVfPMdPnOLut+bx6PuL2Lb/F79LEymQFBiS53VqUJ5vHu/AwKvqMn31DjoNSeXl5HUcO6EpYkVykwJDwkJMoUj6darDtCcSSKwXxwtT19BlWBrJq3f6XZpIgaHAkLBSuUxRXr3nCt7t3ZKICKPXmAU8+M4CNu854ndpIvmeAkPCUvs6cUzp34Enu9Vnzvo9dB6WytBvv+eX4+qmEskpCgwJW9FREfwmoRbTBybSrXEFXpy+ls5DU5my/CfNvSGSAxQYEvYqlIphxB3NGd+nNSViouj73kJ6jp7P+l0/+12aSL6iwJB8o1XNS5jcrx3PXNeQjC376To8jee+XsXhYyey3lhEsqTAkHwlKjKC+9vWIHlQIjc2r8TrqRtIGpLCpCXb1E0lkk0KDMmXYosX5l+3NOWzR9pQrkQMvx23mDvemMvqnzRFrMjFUmBIvnZ51TJ8/mhb/nHjZazZcYhrXpzFX75YwYFfNEWsyIVSYEi+Fxlh3NUqc4rYO1tWYcx3m+g0JIWP07doiliRC6DAkAKjTLFo/tbjMr54rB1Vyxbld58s5ebXvmPZ1gN+lyYSFhQYUuA0rlSKT/q2YcitTdmy9xeuf3kWT01Yxr7Dx/0uTSRPU2BIgRQRYdx8RWVmDErggbY1GL9gCx2HpPD+vB80RazIOQQVGGY22sx2mtnyc7SXMbMJZrbUzOabWeOAtq5mtsbM1pnZHwOW1zCzeWa21szGm1l09t+OyIUpGVOI/7m2IV/3b0+DCiX504Tl3PDyLBb+sM/v0kTynGCvMMYAXc/T/hSQ4ZxrAvQERgCYWSTwMtANaAjcaWYNvW3+CQxzztUB9gG9L7h6kRCpW74EHzzUipF3NWf3oePc/Op3DPp4CbsOHfO7NJE8I6jAcM6lAXvPs0pDYLq37mqgupmVB1oC65xzG5xzx4EPgRvMzIAk4BNv+3eAHhf3FkRCw8y4tsmlTB+YwCOJtZiY8SNJg1MYPWsjJzRFrEjIxjCWADcBmFlLoBpQGagEbAlYb6u37BJgv3PuxBnL/4uZ9TGzdDNL37VrV4jKFTm3YoWj+H3X+kwd0IHLq5Xhr5NXcs2Ls5izfo/fpYn4KlSB8TxQxswygH7AYuAEYGdZ151n+X8vdO4N51y8cy4+Li4uROWKZK1mXHHG9GrBG/deweHjJ7jzzbn0G7eY7Qc0RawUTFGh2Ilz7iDQC8DrbtrofRUFqgSsWhnYBuwGSptZlHeVcXq5SJ5iZlzdqAId6sbxWup6Xk1Zz/RVO+iXVIfe7WoQHaUbDaXgCMnZbmalA+5yehBI80JkAVDHuyMqGrgDmOQyPwUuGbjF2+Y+YGIoahHJCTGFIhnQuS7TnkigXe1Y/jllNV2Hp5H6vbpJpeAI9rbaccAcoJ6ZbTWz3mbW18z6eqs0AFaY2Woy74jqD+BdPTwGTAVWAR8551Z42/wBeMLM1pE5pjEqVG9KJKdUKVuUN3rGM6ZXCxxw3+j59Bmbzpa9miJW8j8Lp498jo+Pd+np6X6XIQLAsRMnGTVrIy9NX8cp5+ibUIu+CbUoEh3pd2ki/8HMFjrn4rO7H3XAilykwlGRPJJYmxmDEujSqAIjvCliv162XXNvSL6kwBDJpoqlivDinf8/RezD7y/i7rfm8f2OQ36XJhJSCgyREDk9ReyzPRqzcvtBuo2YyTOTVnDgiObekPxBgSESQlGREdzbutq/594YO2cTHYek8OH8zfpQQwl7CgyRHPDvuTf6taN2XHH++Nkyerw8Wx9qKGFNgSGSgxpdWorxv2nNi3c2Z9ehY9z86nc8MT6DnQeP+l2ayAVTYIjkMDPj+qaZH2r4aMdaTF66nY6DU3g9dT3HT+hDDSV8KDBEckmxwlH8rkt9vn2iA1fWiuW5rzOfFk9es9Pv0kSCosAQyWXVLinGW/dlPi0O0OvtBfQes4BNuw/7XJnI+SkwRHySWK8cUwZ04Knu9Zm7YQ9XD0vjX1NWc/jYiaw3FvGBAkPER9FREfTpUIvkQYlc27Qir6SsJ2lIChMzftTT4pLnKDBE8oByJWMYelszPn24DeVKxND/wwxue30OK7Yd8Ls0kX9TYIjkIVdUK8PER9vyz5svY8Ouw1z30iz+NGEZew8f97s0EQWGSF4TEWHc3qIqMwYlcl+b6ny4YAsdB6cwds4mzS0uvlJgiORRpYoU4unrGvF1//Y0rlSS/524gmtfmsXcDZpbXPyhwBDJ4+qWL8F7vVvx2j2Xc+joCe54Yy6PfbCIbfs1t7jkLgWGSBgwM7o2rsj0gQk83rku367cQdKQFF6avpajv570uzwpIBQYImEkplAk/TvXYfrABJLql2PIt99z1bBUvlnxk27DlRynwBAJQ5XLFOWVu6/ggwdbUaRQJH3eXUjP0fNZt/Nnv0uTfEyBIRLG2tSO5avftueZ6xqyZMt+ug5P42+TV3LwqCZtktDLMjDMbLSZ7TSz5edoL2VmX5jZEjNbYWa9vOUdzSwj4OuomfXw2saY2caAtmahfVsiBUdUZAT3t61B8qBEbo2vzKjZG0kanMrH6Vs4pUmbJIQsq35PM+sA/AyMdc41Pkv7U0Ap59wfzCwOWANUcM4dD1inLLAOqOycO2JmY4DJzrlPLqTY+Ph4l56efiGbiBQ4y7Ye4OlJy1m0eT9Nq5TmL9c3olmV0n6XJT4ys4XOufjs7ifLKwznXBqw93yrACXMzIDi3rpnfnraLcDXzrkjF1uoiATnssql+PThNgy7vSnb9/9Cj5dn87uPl7Dr0DG/S5MwF4oxjJFAA2AbsAzo75w783HUO4BxZyz7u5ktNbNhZlb4XDs3sz5mlm5m6bt27QpBuSL5n5lxY/PKzBiUyG8SavJ5xo8kDU7hrZkb+FVPi8tFCkVgdAEygEuBZsBIMyt5utHMKgKXAVMDtnkSqA+0AMoCfzjXzp1zbzjn4p1z8XFxcSEoV6TgKF44iie7NWDqgA5cUb0Mf/tyFd1GzGTmWv3xJRcuFIHRC/jMZVoHbCQzDE67DZjgnPv3bRvOue3e+seAt4GWIahDRM6hZlxxxvRqyej74zlx8hT3jppPn7HpbN6jXmIJXigCYzPQCcDMygP1gA0B7XdyRneUd9WBN+7RAzjrHVgiElpJ9csz9fEO/L5rPWat203nYakM/WYNvxzX0+KStWDukhoHJAKxwA7gaaAQgHPuNTO7FBgDVAQMeN459563bXVgNlAlcFzDzGYAcd76GUBf51yWTxzpLimR0PnpwFGe+3oVEzO2cWmpGJ66pgHXXFaRzL/jJD8J1V1SWQZGXqLAEAm9BZv28vTEFazcfpDWNcvyzPWNqF+hZNYbStjItdtqRSR/a1G9LF/0a8ffb2zMmp8O0X3ETJ6euJz9RzRpk/wnBYaIEBlh3N2qGsmDErmndTXenfsDHQen8P68Hzipp8XFo8AQkX8rXTSav97QmC9/25665UvwpwnLuX7kLNI3ne/ZXSkoFBgi8l8aVCzJh31aM/Ku5uw9fJxbXpvDgA8X89OBo36XJj5SYIjIWZkZ1za5lOkDE+iXVJuvlv9E0pAUXklZx7ETug23IFJgiMh5FY2OYuDV9Zj2eALtasfyrylr6DIsjRmrd/hdmuQyBYaIBKXqJUV5o2c8Yx9oSWSE8cCYdHq9PZ8NuzRpU0GhwBCRC9KhbhxTBnTgz9c0YMGmfXQZnsZzX6/i52Nnfki15DcKDBG5YIUiI3iwfU1mDEqgR7NKvJ66gaTBKUxYvFVzi+djCgwRuWjlSsTwwq1NmfBIGyqWLsLj45dwy2tzWLb1gN+lSQ5QYIhItjWvWoYJD7fhX7c04Yc9h7n+5Vk8+dlS9vysSZvyEwWGiIRERIRxW3wVZgxKpHfbGnycvpWOg1MYM3sjJzRpU76gwBCRkCoZU4g/X9uQKQPa07RKaZ75YiXXvDiL79bv9rs0ySYFhojkiNrlSjD2gZa8fu8VHD5+grvenMej7y9i6z5N2hSuFBgikmPMjC6NKjDtiQQGXlWX6at30HloKiOmreXor3paPNwoMEQkx8UUiqRfpzpMH5hI5wblGTbtezoNSWXK8u26DTeMKDBEJNdUKl2EkXddzod9WlMiJoq+7y3i3lHzWbvjkN+lSRAUGCKS61rXvITJ/drx1xsasezHA3QdMZO/frGSA7/86ndpch4KDBHxRVRkBD2vrE7yoERub1GFt7/bSNLgFMYv2MwpTdqUJykwRMRXZYtF848bL+OLx9pRI7YYf/h0GT1emc2izfv8Lk3OEFRgmNloM9tpZsvP0V7KzL4wsyVmtsLMegW0nTSzDO9rUsDyGmY2z8zWmtl4M4vO/tsRkXDVuFIpPu57JSPuaMaOg0e56ZXvGPjREnYe0qRNeUWwVxhjgK7naX8UWOmcawokAkMCAuAX51wz7+v6gG3+CQxzztUB9gG9L6hyEcl3zIwbmlVixsBEHk6sxRdLtpE0OJU30tZz/ISeFvdbUIHhnEsDzjeprwNKmJkBxb11z/lZx956ScAn3qJ3gB7B1CIi+V+xwlH8oWt9pj7egVY1yvKPr1bTdUQaKWt2+l1agRaqMYyRQANgG7AM6O+cO/3nQIyZpZvZXDM7HQqXAPudc6dDZStQ6Ww7NrM+3vbpu3btClG5IhIOasQWY9T9LXj7/hY4B/e/vYAH30nnhz2H/S6tQApVYHQBMoBLgWbASDMr6bVVdc7FA3cBw82sFmBn2cdZb4twzr3hnIt3zsXHxcWFqFwRCScd65dj6oAO/LFbfeas381VQ9N4YepqjhzXpE25KVSB0Qv4zGVaB2wE6gM457Z53zcAKUBzYDdQ2syivO0rk3l1IiJyVtFREfRNqMWMQYlc26QiLyevJ2lwKpOWbNPT4rkkVIGxGegEYGblgXrABjMrY2aFveWxQFsyB8cdkAzc4m1/HzAxRLWISD5WvmQMQ29vxqcPX0lsiWh+O24xt78+l5XbDvpdWr5nwSSzmY0j8+6nWGAH8DRQCMA595qZXUrmnVQVyexuet45956ZtQFeB06RGU7DnXOjvH3WBD4EygKLgXucc+edbSU+Pt6lp6df+LsUkXzp5CnHR+lbeGHqGvYfOc5draoy8Kp6lCmmu/QDmdlCb2gge/sJp0s5BYaInM2BI78ybNr3vDv3B0rERDHw6nrc1bIqkRFnGy4teEIVGHrSW0TCXqmihXjm+kZ89dv2NKhQkv/5fMIPwzEAAAzTSURBVDnXvjSLeRv2+F1avqLAEJF8o16FEnzwUCteuftyDv7yK7e/MZd+4xaz/cAvfpeWLygwRCRfMTO6X1aRaU8k0L9THb5Z8RNJg1N5OXmdJm3KJgWGiORLRaIjefyqukx7IoHEenG8MHUNVw9L49uVO3Qb7kVSYIhIvlalbFFevecK3uvdisJRETw0Np373l7Aup0/+11a2FFgiEiB0K5OLF/1b8//XtuQxZv30XV4Gv/4ahWHjmrSpmApMESkwCgUGcED7WqQPCiRmy+vzJszN9BxcCqfLNyqSZuCoMAQkQIntnhh/nlLEz5/pC1VyhZh0MdLuOnV71iyZb/fpeVpCgwRKbCaVinNp33bMOTWpmzd9ws9XpnNHz5Zyu6fz/uhEwWWAkNECrSICOPmKyqTPCiBh9rX5NNFW+k4OIVRszby60lN2hRIgSEiApSIKcRT3RswZUAHmlctw7OTV9J9xExmrd3td2l5hgJDRCRA7XLFeadXC97qGc+xE6e4Z9Q8+r67kC17j/hdmu+isl5FRKRgMTM6NyxPuzqxjJq1kZEz1pG8Zie/SajFwwm1KBId6XeJvtAVhojIOcQUiuTRjrWZMSiBLo0q8OL0tXQemspXy7YXyKfFFRgiIlmoWKoIL97ZnPF9WlOySCEeeX8Rd705jzU/HfK7tFylwBARCVKrmpcwuV87nu3RmFU/HaT7izN5ZtIKDhwpGE+LKzBERC5AZIRxb+tqJA9M5K6WVRk7ZxMdh6Qwbv5mTubzp8UVGCIiF6FMsWie7dGYyf3aU7tccZ78bBk3vDyLhT/s9bu0HKPAEBHJhoaXlmR8n9a8eGdzdh86zs2vzuHx8RnsOHjU79JCToEhIpJNZsb1TS9lxqAEHutYmy+XbidpcAqvpa7n2In8M2lTloFhZqPNbKeZLT9Heykz+8LMlpjZCjPr5S1vZmZzvGVLzez2gG3GmNlGM8vwvpqF7i2JiPijaHQUg7rU49snOtCmdizPf72arsNnkrx6p9+lhUQwVxhjgK7naX8UWOmcawokAkPMLBo4AvR0zjXyth9uZqUDtvudc66Z95VxUdWLiORB1S4pxps94xnTqwVm0GvMAh4Ys4BNuw/7XVq2ZBkYzrk04HyjOA4oYWYGFPfWPeGc+945t9bbxzZgJxCX/ZJFRMJDYr1yTOnfgT91b8D8jXu5elga/5yymsPHTvhd2kUJxRjGSKABsA1YBvR3zv3HRzyaWUsgGlgfsPjvXlfVMDMrfK6dm1kfM0s3s/Rdu3aFoFwRkdwTHRXBQx1qMmNgAtc1vZRXU9aTNCSFzxf/GHZPi4ciMLoAGcClQDNgpJmVPN1oZhWBd4FeAUHyJFAfaAGUBf5wrp07595wzsU75+Lj4nSBIiLhqVzJGIbc1pTPHmlD+ZIxDBifwa2vzWH5jwf8Li1ooQiMXsBnLtM6YCOZYYAXHF8Cf3bOzT29gXNuu7f+MeBtoGUI6hARyfMur1qGzx9py79ubsLG3Ye5buQsnpqwjL2Hj/tdWpZCERibgU4AZlYeqAds8Aa+JwBjnXMfB27gXXXgjXv0AM56B5aISH4UEWHc1qIKMwYl0qtNDcYv2ELiC8m8890mTuThSZssqz40MxtH5t1PscAO4GmgEIBz7jUzu5TMO6kqAgY875x7z8zuIfPqYUXA7u53zmWY2QwyB8CNzO6svs65n7MqNj4+3qWnp1/QGxQRyevW7jjEM1+sYPa6PdSvUIKnr2vElbUuCdn+zWyhcy4+2/sJp0EXBYaI5FfOOaau2MHfvlzJ1n2/cE2TijzVvQGVShfJ9r5DFRh60ltEJA8wM7o2rsC0JxJ4vHNdpq3cQachKbw4fS1Hf80bT4srMERE8pCYQpH071yH6QMT6FS/PEO//Z7OQ1OZsvwn32/DVWCIiORBlcsU5eW7L+eDh1pRLDqKvu8tpOfo+azb6d+kTQoMEZE8rE2tWL78bTueua4hS7bsp+vwmTw7eSUHj+b+pE0KDBGRPC4qMoL729YgeVAit8ZXYfTsjSQNTuGj9C2cysVJmxQYIiJh4pLihXnupsuY9Gg7qpYtyu8/WcqNr8xm8eZ9ufL7FRgiImHmssql+PThNgy7vSnbDxzlxle+Y9DHS9h16FiO/l4FhohIGDIzbmxemRmDEumbUIuJGT+SNDiFt2Zu4PiJnHlaXIEhIhLGiheO4o/d6jN1QAfiq5fhb1+uotuINNK+D/2neyswRETygZpxxXm7V0tG3x/PyVOOnqPn89DYdDbvORKy3xEVsj2JiIjvkuqXp23tWEbP2sRLM9bSeVhqyPatKwwRkXymcFQkDyfWYsbARLo3rhCy/SowRETyqQqlYhh+R/OQ7U+BISIiQVFgiIhIUBQYIiISFAWGiIgERYEhIiJBUWCIiEhQFBgiIhIUBYaIiATF/J4j9kKY2SFgjd91BCEW2O13EUFQnaETDjWC6gy1cKmznnOuRHZ3Em6fJbXGORfvdxFZMbN01Rk64VBnONQIqjPUwqnOUOxHXVIiIhIUBYaIiAQl3ALjDb8LCJLqDK1wqDMcagTVGWoFqs6wGvQWERH/hNsVhoiI+ESBISIiQckzgWFmXc1sjZmtM7M/nqW9sJmN99rnmVn1gLYnveVrzKyLjzU+YWYrzWypmU03s2oBbSfNLMP7mpRTNQZZ5/1mtiugngcD2u4zs7Xe130+1zksoMbvzWx/QFuuHE8zG21mO81s+Tnazcxe9N7DUjO7PKAtN49lVnXe7dW31My+M7OmAW2bzGyZdyxDcvtlNupMNLMDAf9t/zeg7bznSy7X+buAGpd752NZry1XjqeZVTGzZDNbZWYrzKz/WdYJ7fnpnPP9C4gE1gM1gWhgCdDwjHUeAV7zXt8BjPdeN/TWLwzU8PYT6VONHYGi3uuHT9fo/fxzHjqW9wMjz7JtWWCD972M97qMX3WesX4/YLQPx7MDcDmw/Bzt3YGvAQNaA/Ny+1gGWWeb078f6Ha6Tu/nTUBsHjmeicDk7J4vOV3nGeteB8zI7eMJVAQu916XAL4/y//rIT0/88oVRktgnXNug3PuOPAhcMMZ69wAvOO9/gToZGbmLf/QOXfMObcRWOftL9drdM4lO+eOeD/OBSrnQB1ZCeZYnksX4Fvn3F7n3D7gW6BrHqnzTmBcDtVyTs65NGDveVa5ARjrMs0FSptZRXL3WGZZp3PuO68O8O/cDOZ4nkt2zusLdoF1+nVubnfOLfJeHwJWAZXOWC2k52deCYxKwJaAn7fy32/83+s4504AB4BLgtw2t2oM1JvMZD8txszSzWyumfXIgfpOC7bOm71L1E/MrMoFbhsKQf8ur2uvBjAjYHFuHc+snOt95OaxvFBnnpsO+MbMFppZH59qCnSlmS0xs6/NrJG3LE8eTzMrSuY/tJ8GLM7142mZXfTNgXlnNIX0/MwrHw1iZ1l25v2+51onmG1DIejfY2b3APFAQsDiqs65bWZWE5hhZsucc+t9qvMLYJxz7piZ9SXzyi0pyG1D5UJ+1x3AJ865kwHLcut4ZsXv8/KCmFlHMgOjXcDitt6xLAd8a2arvb+w/bAIqOac+9nMugOfA3XIo8eTzO6o2c65wKuRXD2eZlaczMAa4Jw7eGbzWTa56PMzr1xhbAWqBPxcGdh2rnXMLAooReYlYzDb5laNmFln4E/A9c65Y6eXO+e2ed83AClk/jWQE7Ks0zm3J6C2N4Ergt02N+sMcAdnXPLn4vHMyrneR24ey6CYWRPgLeAG59ye08sDjuVOYAI506UbFOfcQefcz97rr4BCZhZLHjyenvOdmzl+PM2sEJlh8b5z7rOzrBLa8zOnB2aCHLyJInPQpQb/P6DV6Ix1HuU/B70/8l434j8HvTeQM4PewdTYnMyBuTpnLC8DFPZexwJryaEBuyDrrBjw+kZgrvv/gbCNXr1lvNdl/arTW68emYOI5sfx9H5Hdc49SHsN/zmoOD+3j2WQdVYlc3yvzRnLiwElAl5/B3T1sc4Kp/9bk/kP7Wbv2AZ1vuRWnV776T9ai/lxPL3jMhYYfp51Qnp+5tjBvog3353MUf71wJ+8ZX8l8y91gBjgY++knw/UDNj2T952a4BuPtY4DdgBZHhfk7zlbYBl3km+DOjt87F8Dljh1ZMM1A/Y9gHvGK8DevlZp/fzM8DzZ2yXa8eTzL8etwO/kvlXWW+gL9DXazfgZe89LAPifTqWWdX5FrAv4NxM95bX9I7jEu+c+JPPdT4WcG7OJSDgzna++FWnt879ZN5wE7hdrh1PMrsVHbA04L9r95w8P/XRICIiEpS8MoYhIiJ5nAJDRESCosAQEZGgKDBERCQoCgwREQmKAkNERIKiwBARkaD8HxE5fr23KtX2AAAAAElFTkSuQmCC\n",
      "text/plain": [
       "<Figure size 432x288 with 1 Axes>"
      ]
     },
     "metadata": {
      "needs_background": "light"
     },
     "output_type": "display_data"
    }
   ],
   "source": [
    "plot_optimalization(new_opt)"
   ]
  },
  {
   "cell_type": "code",
   "execution_count": 18,
   "metadata": {},
   "outputs": [
    {
     "name": "stdout",
     "output_type": "stream",
     "text": [
      "   Wartosc kombinacji\n",
      "0         198163607.0\n",
      "1         189531227.0\n",
      "2         181005680.0\n",
      "0        1\n",
      "1      195\n",
      "2        3\n",
      "3        4\n",
      "4        5\n",
      "      ... \n",
      "195    196\n",
      "196    197\n",
      "197    198\n",
      "198    199\n",
      "199     21\n",
      "Name: Zadanie, Length: 200, dtype: int64\n"
     ]
    }
   ],
   "source": [
    "print(new_opt)\n",
    "print(new_order)"
   ]
  },
  {
   "cell_type": "code",
   "execution_count": 19,
   "metadata": {},
   "outputs": [
    {
     "name": "stdout",
     "output_type": "stream",
     "text": [
      "10 iterations left.\n"
     ]
    },
    {
     "ename": "KeyboardInterrupt",
     "evalue": "",
     "output_type": "error",
     "traceback": [
      "\u001b[1;31m---------------------------------------------------------------------------\u001b[0m",
      "\u001b[1;31mKeyboardInterrupt\u001b[0m                         Traceback (most recent call last)",
      "\u001b[1;32m<timed exec>\u001b[0m in \u001b[0;36m<module>\u001b[1;34m\u001b[0m\n",
      "\u001b[1;32m<ipython-input-9-d8d0a249fef8>\u001b[0m in \u001b[0;36mtabu_search_algorithm\u001b[1;34m(inactive_time, break_counter, number_of_generations)\u001b[0m\n\u001b[0;32m      4\u001b[0m     \u001b[1;32mwhile\u001b[0m \u001b[0mnumber_of_generations\u001b[0m \u001b[1;32mand\u001b[0m \u001b[0mbreak_counter\u001b[0m\u001b[1;33m:\u001b[0m\u001b[1;33m\u001b[0m\u001b[1;33m\u001b[0m\u001b[0m\n\u001b[0;32m      5\u001b[0m         \u001b[0mprint\u001b[0m\u001b[1;33m(\u001b[0m\u001b[1;34mf\"{number_of_generations} iterations left.\"\u001b[0m\u001b[1;33m)\u001b[0m\u001b[1;33m\u001b[0m\u001b[1;33m\u001b[0m\u001b[0m\n\u001b[1;32m----> 6\u001b[1;33m         \u001b[0mgen_Z\u001b[0m\u001b[1;33m(\u001b[0m\u001b[0mKR_before\u001b[0m\u001b[1;33m)\u001b[0m\u001b[1;33m\u001b[0m\u001b[1;33m\u001b[0m\u001b[0m\n\u001b[0m\u001b[0;32m      7\u001b[0m         \u001b[0mbest_move\u001b[0m \u001b[1;33m=\u001b[0m \u001b[0msearch_for_the_best_move\u001b[0m\u001b[1;33m(\u001b[0m\u001b[1;33m)\u001b[0m \u001b[1;31m# znajdz najlepszy ruch\u001b[0m\u001b[1;33m\u001b[0m\u001b[1;33m\u001b[0m\u001b[0m\n\u001b[0;32m      8\u001b[0m         \u001b[0mKR_now\u001b[0m \u001b[1;33m=\u001b[0m \u001b[0mKR_before\u001b[0m \u001b[1;33m+\u001b[0m \u001b[0mZ\u001b[0m\u001b[1;33m[\u001b[0m\u001b[0mbest_move\u001b[0m\u001b[1;33m]\u001b[0m \u001b[1;31m# wartość KR po wykonaniu ruchu\u001b[0m\u001b[1;33m\u001b[0m\u001b[1;33m\u001b[0m\u001b[0m\n",
      "\u001b[1;32m<ipython-input-7-4f10fb5f99d6>\u001b[0m in \u001b[0;36mgen_Z\u001b[1;34m(KR_before, df)\u001b[0m\n\u001b[0;32m     17\u001b[0m             \u001b[0mswap\u001b[0m\u001b[1;33m(\u001b[0m\u001b[0midx\u001b[0m\u001b[1;33m)\u001b[0m \u001b[1;31m# wykonanie pozornego ruchu\u001b[0m\u001b[1;33m\u001b[0m\u001b[1;33m\u001b[0m\u001b[0m\n\u001b[0;32m     18\u001b[0m             \u001b[0mZ\u001b[0m\u001b[1;33m[\u001b[0m\u001b[0midx\u001b[0m\u001b[1;33m]\u001b[0m \u001b[1;33m=\u001b[0m \u001b[0mnp\u001b[0m\u001b[1;33m.\u001b[0m\u001b[0mfloat64\u001b[0m\u001b[1;33m(\u001b[0m\u001b[0mget_KR\u001b[0m\u001b[1;33m(\u001b[0m\u001b[1;33m)\u001b[0m \u001b[1;33m-\u001b[0m \u001b[0mKR_before\u001b[0m\u001b[1;33m)\u001b[0m \u001b[1;31m# obliczanie wpływu danego ruchu\u001b[0m\u001b[1;33m\u001b[0m\u001b[1;33m\u001b[0m\u001b[0m\n\u001b[1;32m---> 19\u001b[1;33m             \u001b[0mswap\u001b[0m\u001b[1;33m(\u001b[0m\u001b[0midx\u001b[0m\u001b[1;33m)\u001b[0m \u001b[1;31m# powrót do stanu przed pozornym ruchem\u001b[0m\u001b[1;33m\u001b[0m\u001b[1;33m\u001b[0m\u001b[0m\n\u001b[0m\u001b[0;32m     20\u001b[0m \u001b[1;33m\u001b[0m\u001b[0m\n\u001b[0;32m     21\u001b[0m \u001b[1;32mdef\u001b[0m \u001b[0msearch_for_the_best_move\u001b[0m\u001b[1;33m(\u001b[0m\u001b[0mdf\u001b[0m \u001b[1;33m=\u001b[0m \u001b[0mdf\u001b[0m\u001b[1;33m)\u001b[0m\u001b[1;33m:\u001b[0m\u001b[1;33m\u001b[0m\u001b[1;33m\u001b[0m\u001b[0m\n",
      "\u001b[1;32m<ipython-input-7-4f10fb5f99d6>\u001b[0m in \u001b[0;36mswap\u001b[1;34m(idx, df)\u001b[0m\n\u001b[0;32m     27\u001b[0m \u001b[1;32mdef\u001b[0m \u001b[0mswap\u001b[0m\u001b[1;33m(\u001b[0m\u001b[0midx\u001b[0m\u001b[1;33m,\u001b[0m \u001b[0mdf\u001b[0m\u001b[1;33m=\u001b[0m\u001b[0mdf\u001b[0m\u001b[1;33m)\u001b[0m\u001b[1;33m:\u001b[0m\u001b[1;33m\u001b[0m\u001b[1;33m\u001b[0m\u001b[0m\n\u001b[0;32m     28\u001b[0m     \u001b[1;31m# zamiana miejscami dwóch wierszy \"in place\" - nie tworzymy nowej ramki danych\u001b[0m\u001b[1;33m\u001b[0m\u001b[1;33m\u001b[0m\u001b[1;33m\u001b[0m\u001b[0m\n\u001b[1;32m---> 29\u001b[1;33m     \u001b[0mdf\u001b[0m\u001b[1;33m.\u001b[0m\u001b[0miloc\u001b[0m\u001b[1;33m[\u001b[0m\u001b[0midx\u001b[0m\u001b[1;33m[\u001b[0m\u001b[1;36m0\u001b[0m\u001b[1;33m]\u001b[0m\u001b[1;33m]\u001b[0m\u001b[1;33m,\u001b[0m \u001b[0mdf\u001b[0m\u001b[1;33m.\u001b[0m\u001b[0miloc\u001b[0m\u001b[1;33m[\u001b[0m\u001b[0midx\u001b[0m\u001b[1;33m[\u001b[0m\u001b[1;36m1\u001b[0m\u001b[1;33m]\u001b[0m\u001b[1;33m]\u001b[0m \u001b[1;33m=\u001b[0m \u001b[0mdf\u001b[0m\u001b[1;33m.\u001b[0m\u001b[0miloc\u001b[0m\u001b[1;33m[\u001b[0m\u001b[0midx\u001b[0m\u001b[1;33m[\u001b[0m\u001b[1;36m1\u001b[0m\u001b[1;33m]\u001b[0m\u001b[1;33m]\u001b[0m\u001b[1;33m.\u001b[0m\u001b[0mcopy\u001b[0m\u001b[1;33m(\u001b[0m\u001b[1;33m)\u001b[0m\u001b[1;33m,\u001b[0m \u001b[0mdf\u001b[0m\u001b[1;33m.\u001b[0m\u001b[0miloc\u001b[0m\u001b[1;33m[\u001b[0m\u001b[0midx\u001b[0m\u001b[1;33m[\u001b[0m\u001b[1;36m0\u001b[0m\u001b[1;33m]\u001b[0m\u001b[1;33m]\u001b[0m\u001b[1;33m.\u001b[0m\u001b[0mcopy\u001b[0m\u001b[1;33m(\u001b[0m\u001b[1;33m)\u001b[0m\u001b[1;33m\u001b[0m\u001b[1;33m\u001b[0m\u001b[0m\n\u001b[0m\u001b[0;32m     30\u001b[0m \u001b[1;33m\u001b[0m\u001b[0m\n\u001b[0;32m     31\u001b[0m \u001b[1;32mdef\u001b[0m \u001b[0mmove\u001b[0m\u001b[1;33m(\u001b[0m\u001b[0midx\u001b[0m\u001b[1;33m,\u001b[0m \u001b[0minactive_time\u001b[0m \u001b[1;33m=\u001b[0m \u001b[1;36m3\u001b[0m\u001b[1;33m,\u001b[0m \u001b[0mdf\u001b[0m\u001b[1;33m=\u001b[0m\u001b[0mdf\u001b[0m\u001b[1;33m)\u001b[0m\u001b[1;33m:\u001b[0m\u001b[1;33m\u001b[0m\u001b[1;33m\u001b[0m\u001b[0m\n",
      "\u001b[1;32m~\\Anaconda3\\lib\\site-packages\\pandas\\core\\indexing.py\u001b[0m in \u001b[0;36m__setitem__\u001b[1;34m(self, key, value)\u001b[0m\n\u001b[0;32m    203\u001b[0m             \u001b[0mkey\u001b[0m \u001b[1;33m=\u001b[0m \u001b[0mcom\u001b[0m\u001b[1;33m.\u001b[0m\u001b[0mapply_if_callable\u001b[0m\u001b[1;33m(\u001b[0m\u001b[0mkey\u001b[0m\u001b[1;33m,\u001b[0m \u001b[0mself\u001b[0m\u001b[1;33m.\u001b[0m\u001b[0mobj\u001b[0m\u001b[1;33m)\u001b[0m\u001b[1;33m\u001b[0m\u001b[1;33m\u001b[0m\u001b[0m\n\u001b[0;32m    204\u001b[0m         \u001b[0mindexer\u001b[0m \u001b[1;33m=\u001b[0m \u001b[0mself\u001b[0m\u001b[1;33m.\u001b[0m\u001b[0m_get_setitem_indexer\u001b[0m\u001b[1;33m(\u001b[0m\u001b[0mkey\u001b[0m\u001b[1;33m)\u001b[0m\u001b[1;33m\u001b[0m\u001b[1;33m\u001b[0m\u001b[0m\n\u001b[1;32m--> 205\u001b[1;33m         \u001b[0mself\u001b[0m\u001b[1;33m.\u001b[0m\u001b[0m_setitem_with_indexer\u001b[0m\u001b[1;33m(\u001b[0m\u001b[0mindexer\u001b[0m\u001b[1;33m,\u001b[0m \u001b[0mvalue\u001b[0m\u001b[1;33m)\u001b[0m\u001b[1;33m\u001b[0m\u001b[1;33m\u001b[0m\u001b[0m\n\u001b[0m\u001b[0;32m    206\u001b[0m \u001b[1;33m\u001b[0m\u001b[0m\n\u001b[0;32m    207\u001b[0m     \u001b[1;32mdef\u001b[0m \u001b[0m_validate_key\u001b[0m\u001b[1;33m(\u001b[0m\u001b[0mself\u001b[0m\u001b[1;33m,\u001b[0m \u001b[0mkey\u001b[0m\u001b[1;33m,\u001b[0m \u001b[0maxis\u001b[0m\u001b[1;33m:\u001b[0m \u001b[0mint\u001b[0m\u001b[1;33m)\u001b[0m\u001b[1;33m:\u001b[0m\u001b[1;33m\u001b[0m\u001b[1;33m\u001b[0m\u001b[0m\n",
      "\u001b[1;32m~\\Anaconda3\\lib\\site-packages\\pandas\\core\\indexing.py\u001b[0m in \u001b[0;36m_setitem_with_indexer\u001b[1;34m(self, indexer, value)\u001b[0m\n\u001b[0;32m    591\u001b[0m             \u001b[1;31m# actually do the set\u001b[0m\u001b[1;33m\u001b[0m\u001b[1;33m\u001b[0m\u001b[1;33m\u001b[0m\u001b[0m\n\u001b[0;32m    592\u001b[0m             \u001b[0mself\u001b[0m\u001b[1;33m.\u001b[0m\u001b[0mobj\u001b[0m\u001b[1;33m.\u001b[0m\u001b[0m_consolidate_inplace\u001b[0m\u001b[1;33m(\u001b[0m\u001b[1;33m)\u001b[0m\u001b[1;33m\u001b[0m\u001b[1;33m\u001b[0m\u001b[0m\n\u001b[1;32m--> 593\u001b[1;33m             \u001b[0mself\u001b[0m\u001b[1;33m.\u001b[0m\u001b[0mobj\u001b[0m\u001b[1;33m.\u001b[0m\u001b[0m_data\u001b[0m \u001b[1;33m=\u001b[0m \u001b[0mself\u001b[0m\u001b[1;33m.\u001b[0m\u001b[0mobj\u001b[0m\u001b[1;33m.\u001b[0m\u001b[0m_data\u001b[0m\u001b[1;33m.\u001b[0m\u001b[0msetitem\u001b[0m\u001b[1;33m(\u001b[0m\u001b[0mindexer\u001b[0m\u001b[1;33m=\u001b[0m\u001b[0mindexer\u001b[0m\u001b[1;33m,\u001b[0m \u001b[0mvalue\u001b[0m\u001b[1;33m=\u001b[0m\u001b[0mvalue\u001b[0m\u001b[1;33m)\u001b[0m\u001b[1;33m\u001b[0m\u001b[1;33m\u001b[0m\u001b[0m\n\u001b[0m\u001b[0;32m    594\u001b[0m             \u001b[0mself\u001b[0m\u001b[1;33m.\u001b[0m\u001b[0mobj\u001b[0m\u001b[1;33m.\u001b[0m\u001b[0m_maybe_update_cacher\u001b[0m\u001b[1;33m(\u001b[0m\u001b[0mclear\u001b[0m\u001b[1;33m=\u001b[0m\u001b[1;32mTrue\u001b[0m\u001b[1;33m)\u001b[0m\u001b[1;33m\u001b[0m\u001b[1;33m\u001b[0m\u001b[0m\n\u001b[0;32m    595\u001b[0m \u001b[1;33m\u001b[0m\u001b[0m\n",
      "\u001b[1;32m~\\Anaconda3\\lib\\site-packages\\pandas\\core\\internals\\managers.py\u001b[0m in \u001b[0;36msetitem\u001b[1;34m(self, **kwargs)\u001b[0m\n\u001b[0;32m    558\u001b[0m \u001b[1;33m\u001b[0m\u001b[0m\n\u001b[0;32m    559\u001b[0m     \u001b[1;32mdef\u001b[0m \u001b[0msetitem\u001b[0m\u001b[1;33m(\u001b[0m\u001b[0mself\u001b[0m\u001b[1;33m,\u001b[0m \u001b[1;33m**\u001b[0m\u001b[0mkwargs\u001b[0m\u001b[1;33m)\u001b[0m\u001b[1;33m:\u001b[0m\u001b[1;33m\u001b[0m\u001b[1;33m\u001b[0m\u001b[0m\n\u001b[1;32m--> 560\u001b[1;33m         \u001b[1;32mreturn\u001b[0m \u001b[0mself\u001b[0m\u001b[1;33m.\u001b[0m\u001b[0mapply\u001b[0m\u001b[1;33m(\u001b[0m\u001b[1;34m\"setitem\"\u001b[0m\u001b[1;33m,\u001b[0m \u001b[1;33m**\u001b[0m\u001b[0mkwargs\u001b[0m\u001b[1;33m)\u001b[0m\u001b[1;33m\u001b[0m\u001b[1;33m\u001b[0m\u001b[0m\n\u001b[0m\u001b[0;32m    561\u001b[0m \u001b[1;33m\u001b[0m\u001b[0m\n\u001b[0;32m    562\u001b[0m     \u001b[1;32mdef\u001b[0m \u001b[0mputmask\u001b[0m\u001b[1;33m(\u001b[0m\u001b[0mself\u001b[0m\u001b[1;33m,\u001b[0m \u001b[1;33m**\u001b[0m\u001b[0mkwargs\u001b[0m\u001b[1;33m)\u001b[0m\u001b[1;33m:\u001b[0m\u001b[1;33m\u001b[0m\u001b[1;33m\u001b[0m\u001b[0m\n",
      "\u001b[1;32m~\\Anaconda3\\lib\\site-packages\\pandas\\core\\internals\\managers.py\u001b[0m in \u001b[0;36mapply\u001b[1;34m(self, f, axes, filter, do_integrity_check, consolidate, **kwargs)\u001b[0m\n\u001b[0;32m    436\u001b[0m                     \u001b[0mkwargs\u001b[0m\u001b[1;33m[\u001b[0m\u001b[0mk\u001b[0m\u001b[1;33m]\u001b[0m \u001b[1;33m=\u001b[0m \u001b[0mobj\u001b[0m\u001b[1;33m.\u001b[0m\u001b[0mreindex\u001b[0m\u001b[1;33m(\u001b[0m\u001b[0mb_items\u001b[0m\u001b[1;33m,\u001b[0m \u001b[0maxis\u001b[0m\u001b[1;33m=\u001b[0m\u001b[0maxis\u001b[0m\u001b[1;33m,\u001b[0m \u001b[0mcopy\u001b[0m\u001b[1;33m=\u001b[0m\u001b[0malign_copy\u001b[0m\u001b[1;33m)\u001b[0m\u001b[1;33m\u001b[0m\u001b[1;33m\u001b[0m\u001b[0m\n\u001b[0;32m    437\u001b[0m \u001b[1;33m\u001b[0m\u001b[0m\n\u001b[1;32m--> 438\u001b[1;33m             \u001b[0mapplied\u001b[0m \u001b[1;33m=\u001b[0m \u001b[0mgetattr\u001b[0m\u001b[1;33m(\u001b[0m\u001b[0mb\u001b[0m\u001b[1;33m,\u001b[0m \u001b[0mf\u001b[0m\u001b[1;33m)\u001b[0m\u001b[1;33m(\u001b[0m\u001b[1;33m**\u001b[0m\u001b[0mkwargs\u001b[0m\u001b[1;33m)\u001b[0m\u001b[1;33m\u001b[0m\u001b[1;33m\u001b[0m\u001b[0m\n\u001b[0m\u001b[0;32m    439\u001b[0m             \u001b[0mresult_blocks\u001b[0m \u001b[1;33m=\u001b[0m \u001b[0m_extend_blocks\u001b[0m\u001b[1;33m(\u001b[0m\u001b[0mapplied\u001b[0m\u001b[1;33m,\u001b[0m \u001b[0mresult_blocks\u001b[0m\u001b[1;33m)\u001b[0m\u001b[1;33m\u001b[0m\u001b[1;33m\u001b[0m\u001b[0m\n\u001b[0;32m    440\u001b[0m \u001b[1;33m\u001b[0m\u001b[0m\n",
      "\u001b[1;32m~\\Anaconda3\\lib\\site-packages\\pandas\\core\\internals\\blocks.py\u001b[0m in \u001b[0;36msetitem\u001b[1;34m(self, indexer, value)\u001b[0m\n\u001b[0;32m    938\u001b[0m         \u001b[1;31m# set\u001b[0m\u001b[1;33m\u001b[0m\u001b[1;33m\u001b[0m\u001b[1;33m\u001b[0m\u001b[0m\n\u001b[0;32m    939\u001b[0m         \u001b[1;32melse\u001b[0m\u001b[1;33m:\u001b[0m\u001b[1;33m\u001b[0m\u001b[1;33m\u001b[0m\u001b[0m\n\u001b[1;32m--> 940\u001b[1;33m             \u001b[0mvalues\u001b[0m\u001b[1;33m[\u001b[0m\u001b[0mindexer\u001b[0m\u001b[1;33m]\u001b[0m \u001b[1;33m=\u001b[0m \u001b[0mvalue\u001b[0m\u001b[1;33m\u001b[0m\u001b[1;33m\u001b[0m\u001b[0m\n\u001b[0m\u001b[0;32m    941\u001b[0m \u001b[1;33m\u001b[0m\u001b[0m\n\u001b[0;32m    942\u001b[0m         \u001b[1;31m# coerce and try to infer the dtypes of the result\u001b[0m\u001b[1;33m\u001b[0m\u001b[1;33m\u001b[0m\u001b[1;33m\u001b[0m\u001b[0m\n",
      "\u001b[1;31mKeyboardInterrupt\u001b[0m: "
     ]
    }
   ],
   "source": [
    "%%time\n",
    "new_order, new_opt = tabu_search_algorithm(\n",
    "    inactive_time = 3,\n",
    "    break_counter = 3,\n",
    "    number_of_generations = 20)"
   ]
  },
  {
   "cell_type": "code",
   "execution_count": null,
   "metadata": {},
   "outputs": [],
   "source": [
    "plot_optimalization(new_opt)"
   ]
  },
  {
   "cell_type": "code",
   "execution_count": null,
   "metadata": {},
   "outputs": [],
   "source": [
    "%%time\n",
    "new_order, new_opt = tabu_search_algorithm(\n",
    "    inactive_time = 5,\n",
    "    break_counter = 3,\n",
    "    number_of_generations = 10)"
   ]
  },
  {
   "cell_type": "code",
   "execution_count": null,
   "metadata": {},
   "outputs": [],
   "source": [
    "plot_optimalization(new_opt)"
   ]
  },
  {
   "cell_type": "code",
   "execution_count": null,
   "metadata": {},
   "outputs": [],
   "source": [
    "%%time\n",
    "new_order, new_opt = tabu_search_algorithm(\n",
    "    inactive_time = 3,\n",
    "    break_counter = 5,\n",
    "    number_of_generations = 10)"
   ]
>>>>>>> 4cd0fcd7578c105a0422f59941706a5cf7e44c32
  }
 ],
 "metadata": {
  "celltoolbar": "Raw Cell Format",
  "kernelspec": {
   "display_name": "Python 3",
   "language": "python",
   "name": "python3"
  },
  "language_info": {
   "codemirror_mode": {
    "name": "ipython",
    "version": 3
   },
   "file_extension": ".py",
   "mimetype": "text/x-python",
   "name": "python",
   "nbconvert_exporter": "python",
   "pygments_lexer": "ipython3",
   "version": "3.7.4"
  }
 },
 "nbformat": 4,
 "nbformat_minor": 2
}
