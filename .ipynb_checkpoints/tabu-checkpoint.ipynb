{
 "cells": [
  {
   "cell_type": "code",
   "execution_count": 2,
   "metadata": {},
   "outputs": [],
   "source": [
    "import numpy as np\n",
    "import pandas as pd\n",
    "import os"
   ]
  },
  {
   "cell_type": "code",
   "execution_count": 3,
   "metadata": {},
   "outputs": [],
   "source": [
    "data_path = \"./dane/\"\n",
    "df = pd.read_csv(os.path.join(data_path, \"dane_spr1.csv\"), sep=';')"
   ]
  },
  {
   "cell_type": "code",
   "execution_count": 4,
   "metadata": {},
   "outputs": [],
   "source": [
    "# macierz wartości poszczególnych ruchów. Im mniejsza wartosć tym lepiej.\n",
    "Z = np.zeros(shape=(len(df), len(df)))\n",
    "# lista zabronionych ruchów\n",
    "tabu = pd.DataFrame(columns=[\"idx\", \"status\"], dtype=np.int8)\n",
    "# wartość optymalizacji po poszczególnym ruchu\n",
    "optimalization = pd.DataFrame(columns=[\"Wartosc kombinacji\"])"
   ]
  },
  {
   "cell_type": "code",
   "execution_count": 5,
   "metadata": {},
   "outputs": [],
   "source": [
    "# wypełnianie macierzy Z największymi możliwymi wartosciami poniżej głównej przekątnej\n",
    "for i in range(len(Z)):\n",
    "    for j in range(i):\n",
    "        idx = (i, j)\n",
    "        Z[idx] = np.inf"
   ]
  },
  {
   "cell_type": "code",
   "execution_count": 6,
   "metadata": {},
   "outputs": [],
   "source": [
    "# KR to wartość naszego rozwiązania - ma być najmniejsza\n",
    "def get_KR(df = df):\n",
    "    c_sum = df[\"Czas wykonania\"].cumsum() # suma kumultatywna kolumny \"Czas wykonania\"\n",
    "    KR = (df[\"Termin\"] - c_sum)**2 # obliczanie kwadratu różnicy wartosći\n",
    "    return sum(KR) # KR jest wskaźnikiem jakości ułożenia zadań. To optymalizujemy\n",
    "\n",
    "# generowanie tablicy możliwych ruchów \n",
    "def gen_Z(KR_before, df = df):\n",
    "    global Z\n",
    "    for i in range(len(df)):\n",
    "        for j in range(i,len(df)):\n",
    "            idx = (i, j)\n",
    "            # sprawdzenie czy ruch nie jest zabroniony\n",
    "            if check_in_tabu(idx):\n",
    "                Z[idx] = np.inf\n",
    "                continue\n",
    "            swap(idx) # wykonanie pozornego ruchu\n",
    "            Z[idx] = np.float64(get_KR() - KR_before) # obliczanie wpływu danego ruchu\n",
    "            swap(idx) # powrót do stanu przed pozornym ruchem\n",
    "\n",
    "def search_for_the_best_move(df = df):\n",
    "    global Z\n",
    "    # index najmniejszego elementu\n",
    "    idx = np.unravel_index(np.argmin(Z, axis=None), Z.shape)\n",
    "    return idx\n",
    "\n",
    "def swap(idx, df=df):\n",
    "    # zamiana miejscami dwóch wierszy \"in place\" - nie tworzymy nowej ramki danych\n",
    "    df.iloc[idx[0]], df.iloc[idx[1]] = df.iloc[idx[1]].copy(), df.iloc[idx[0]].copy()\n",
    "    \n",
    "def move(idx, inactive_time = 3, df=df):\n",
    "    global tabu, optimalization\n",
    "    swap(idx) # ruch\n",
    "    # dodawanie wykonanego ruchu do listy zabronionych\n",
    "    # inactive_time + 1 bo wstawiam ruch do tabu przed atkualizacją\n",
    "    # w aktualizacji: (inactive_time + 1) - 1 -> inactive_time\n",
    "    tabu = tabu.append({\"idx\": idx, \"status\": inactive_time + 1}, ignore_index=True)\n",
    "    # aktualizacja listy zabronionych ruchów\n",
    "    update_tabu()\n",
    "\n",
    "# funkcja warunku, sprawdza czy ruch jest na liście zabronionych ruchów\n",
    "def check_in_tabu(idx):\n",
    "    global tabu\n",
    "    for item in tabu.idx:\n",
    "        if item == idx:\n",
    "            return True\n",
    "    return False\n",
    "    \n",
    "def update_tabu():\n",
    "    global tabu\n",
    "    tabu[\"status\"] -= 1 # aktualizacja długości oczekiwania\n",
    "    tabu = tabu[tabu[\"status\"] != 0] # usuwanie ruchów które przestały być zabronione\n",
    "    \n",
    "def plot_optimalization(optimalization):\n",
    "    # TODO: można to zrobić ładniej matplotlibem\n",
    "    optimalization[\"Wartosc kombinacji\"].plot(kind=\"line\")\n"
   ]
  },
  {
   "cell_type": "code",
   "execution_count": 7,
   "metadata": {},
   "outputs": [],
   "source": [
    "# # wczytywanie wczesniej zoptymalizowanej tabeli ruchów i wartości optymalizacji\n",
    "# df = pd.read_csv(os.path.join(data_path, \"zoptymalizowany_szereg.csv\"), sep=';')\n",
    "# optimalization = pd.read_csv(os.path.join(data_path, \"optymalizacja.csv\"), sep=';')\n",
    "# plot_optimalization(optimalization)"
   ]
  },
  {
   "cell_type": "code",
   "execution_count": 8,
   "metadata": {},
   "outputs": [],
   "source": [
    "def tabu_search_algorithm(inactive_time = 3, break_counter = 3, number_of_generations = 10):\n",
    "    new_optimalization = pd.DataFrame(columns=[\"Wartosc kombinacji\"])\n",
    "    KR_before = get_KR() # wartość KR przed wykonaniem ruchu\n",
    "    while number_of_generations and break_counter:\n",
    "        print(f\"{number_of_generations} iterations left.\")\n",
    "        gen_Z(KR_before) \n",
    "        best_move = search_for_the_best_move() # znajdz najlepszy ruch\n",
    "        KR_now = KR_before + Z[best_move] # wartość KR po wykonaniu ruchu\n",
    "        move(best_move, inactive_time) # wykonaj najlepszy ruch\n",
    "        \n",
    "        # jeśli nowe ułożenie jest gorsze niż poprzednie\n",
    "        if KR_before <= KR_now:\n",
    "            break_counter -= 1 # jeśli zdarzy się tak 3 razy to przerywamy szukanie kombinacji\n",
    "            continue # powtarzamy iteracje\n",
    "            \n",
    "        KR_before = KR_now\n",
    "        # dodawanie obecnej wartości kombinacji do listy wszystkich wartości\n",
    "        new_optimalization = new_optimalization.append({\n",
    "            \"Wartosc kombinacji\": KR_now\n",
    "        }, ignore_index=True)\n",
    "        number_of_generations -= 1\n",
    "    order = df[\"Zadanie\"]\n",
    "    \n",
    "    return order, new_optimalization"
   ]
  },
  {
   "cell_type": "code",
   "execution_count": 9,
   "metadata": {},
   "outputs": [],
   "source": [
    "# df.to_csv(os.path.join(data_path, \"zoptymalizowany_szereg.csv\"), sep=';', index_label=False)\n",
    "# optimalization.to_csv(os.path.join(data_path, \"optymalizacja.csv\"), sep=';', index_label=False)"
   ]
  },
  {
   "cell_type": "markdown",
   "metadata": {},
   "source": [
    "## Sprawdzanie różnych wartości parametrów\n",
    "Zmieniamy parametry break_counter i inactive_time"
   ]
  },
  {
   "cell_type": "code",
   "execution_count": 11,
   "metadata": {},
   "outputs": [],
   "source": [
    "# df_backup = df"
   ]
  },
  {
   "cell_type": "code",
   "execution_count": 12,
   "metadata": {},
   "outputs": [
    {
     "name": "stdout",
     "output_type": "stream",
     "text": [
      "10 iterations left.\n",
      "9 iterations left.\n",
      "8 iterations left.\n",
      "7 iterations left.\n",
      "6 iterations left.\n",
      "5 iterations left.\n",
      "4 iterations left.\n",
      "3 iterations left.\n",
      "2 iterations left.\n",
      "1 iterations left.\n"
     ]
    }
   ],
   "source": [
    "df = df_backup\n",
    "new_order, new_opt = tabu_search_algorithm(inactive_time=10)"
   ]
  },
  {
   "cell_type": "code",
   "execution_count": 18,
   "metadata": {},
   "outputs": [
    {
     "data": {
      "image/png": "[encoded data removed]",
      "text/plain": [
       "<Figure size 432x288 with 1 Axes>"
      ]
     },
     "metadata": {
      "needs_background": "light"
     },
     "output_type": "display_data"
    }
   ],
   "source": [
    "plot_optimalization(new_opt)"
   ]
  }
 ],
 "metadata": {
  "celltoolbar": "Raw Cell Format",
  "kernelspec": {
   "display_name": "Python 3",
   "language": "python",
   "name": "python3"
  },
  "language_info": {
   "codemirror_mode": {
    "name": "ipython",
    "version": 3
   },
   "file_extension": ".py",
   "mimetype": "text/x-python",
   "name": "python",
   "nbconvert_exporter": "python",
   "pygments_lexer": "ipython3",
   "version": "3.7.5"
  }
 },
 "nbformat": 4,
 "nbformat_minor": 2
}
