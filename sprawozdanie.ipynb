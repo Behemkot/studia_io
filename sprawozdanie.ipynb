{
 "cells": [
  {
   "cell_type": "markdown",
   "metadata": {},
   "source": [
    "# SPRAWOZDANIE "
   ]
  },
  {
   "cell_type": "markdown",
   "metadata": {},
   "source": [
    "## KATARZYNA JĘDROCHA   SZYMON BEDNAREK   MICHAŁ BARAN   BARTŁOMIEJ KALATA"
   ]
  },
  {
   "cell_type": "markdown",
   "metadata": {},
   "source": [
    "## Projekt został napisany w języku Python. "
   ]
  },
  {
   "cell_type": "markdown",
   "metadata": {},
   "source": [
    "## ALGORYTM WSPINACZKI"
   ]
  },
  {
   "cell_type": "markdown",
   "metadata": {},
   "source": [
    "### WSTĘP"
   ]
  },
  {
   "cell_type": "markdown",
   "metadata": {},
   "source": [
    "Algorytm wspinaczkowy polega na wybraniu losowego X dla którego jest przypisana wartość Y. W pierwszej kolejności sprawdzane jest najbliższe sąsiedztwo X. Jeżeli wartość sąsiada jest większa niż wartość początkowego X wtedy sąsiadujący X jest brany jako punkt początkowy następnej iteracji algorytmu. W ten sposób możemy osiągnąć ekstremum fukcji minimalne lub maksymalne w zależności od założeń. Problem tego algorytmu polega na tym że znajdując się w wierzchołku fukncji kończymy działanie algorytmu. Jednakże nie zawsze osiągniąty wierzchołek jest ekstremum globalnym, tylko lokalnym. Aby zniwelować ten błąd należy uruchomić algorytm losując X, tyle razy, aby prawdopodobieństwo że otrzymany wynik jest ekstremum lokalnym było jak najmniejsze."
   ]
  },
  {
   "cell_type": "markdown",
   "metadata": {},
   "source": [
    "### OPIS KODU "
   ]
  },
  {
   "cell_type": "markdown",
   "metadata": {},
   "source": [
    "W pierwszej kolejności zdefiniowana została zmienna 'KR' która to jest wskaźnikiem jakości ułożenia zadań. Wartość 'KR' jest optymalizowana. Wskaźnik ten ukazuje jak dużo pozostaje \"wolnego\" czasu między zadaniami. \n",
    "Oznacza to że im mniejsza wartość 'KR' tym lepsze jest rozwiązanie problemu. \n",
    "\n"
   ]
  },
  {
   "cell_type": "markdown",
   "metadata": {},
   "source": [
    "Do przeszukiwania listy sąsiadów dla wylosowanego X, została stworzona funkcja get_neighbours(). Jej argumentami są :\n",
    "\n",
    "**idx** - Jest to indeks dla ktorego szukamy sąsiadów.\n",
    "\n",
    "**neighbours_count** - liczba sąsiadów którą chcemy wyszukać \n",
    "\n",
    "**df** - wprowadzone dane\n",
    "    \n",
    "Funkcja działa w następujący sposób:\n",
    "\n",
    "Dla zadanych wartości argumentów algorytm ustawia się w pozycji startowej:\n",
    "\n",
    "    Numer indeksu   | ... | n-4 | n-3 | n-2 | n-1 |  n  | n+1 | n+2 | n+3 | n+4 | ... |\n",
    "    Sąsiedztwo      |  -  |  -  |  0  |  0  |  0  |  X  |  0  |  0  |  0  |  -  |  -  |\n",
    "    \n",
    "W powyższym przykładzie możemy zauważyć że dla zadanych:\n",
    "\n",
    "    * idx = n;\n",
    "    * neighbours_count = 6;\n",
    " \n",
    "Algorytm ustawił się w pozycji n i wyszukał 6 sąsiadów.\n",
    "\n",
    "Dla przypadków końca danych z lewej lub z prawej strony zostały stworzone wyjątki.\n",
    "Wprowadzone zostały dodatkowe zmienne:\n",
    "    \n",
    "    * L - Jest to długość danych minus wylosowana pozycja\n",
    "    * idx_prev = idx - Jest to indeks dla ktorego szukamy sasiadow\n",
    "    * N_half - Połowa wartości szukanych sąsiadów\n",
    "    \n",
    "Zobrazowanie sytuacji w której występuje wyjątek:\n",
    "\n",
    "    Numer indeksu |  0  |  1  | n=2 |  3  |  4  |  5  |  6  |  7  |  8  |  9  | ... |\n",
    "    Sąsiedztwo    |  0  |  0  |  X  |  0  |  0  |  0  |  0  |  -  |  -  |  -  |  -  |\n",
    "    \n",
    "W powyższym przykładzie możemy zauważyć że dla zadanych:\n",
    "\n",
    "    * idx = n = 2 gdzie n < neighbours_count/2;\n",
    "    * neighbours_count = 6;\n",
    "\n",
    "W takim przypadku możemy znaleźć tylko dwa obiekty z lewej strony, dlatego w tym wyjątku dodajemy dodatkowy obiekt z prawej strony. Sytuacja jest analogiczna dla obserwacji na obu końcach zbioru danych. Do rozwiązania tych wyjątków wykorzystany został następujący kod:\n",
    "\n",
    "    if idx < N_half:\n",
    "        idx = N_half\n",
    "    \n",
    "    elif idx > L - N_half:\n",
    "        idx = L - N_half\n",
    "    output = list(range(idx - N_half, idx + N_half + 1))\n",
    "\n",
    "Jako ostateczny wynik funkcja zwraca listę sąsiadów, która zostanie przeszukana w celu uzyskania lepszego wyniku niz startowy X.\n",
    "\n",
    "\n",
    "\n",
    "    "
   ]
  },
  {
   "cell_type": "markdown",
   "metadata": {},
   "source": [
    "Ostateczna funkcja algorytmu to **hill_climbing_algorithm()**. Jednak do jej działania użyte zostały poszczególne pomniejsze funkcje:\n",
    "\n",
    "    * calculate_improvements()\n",
    "    * search_for_the_best_neighbour()\n",
    "    * swap()\n",
    "    * move()\n",
    "    * plot_optimalization()\n",
    "\n",
    "1. Funkcja **calculate_improvements()** jest odpowiedzialna za sprawdzenie jak zmieni się wartość **KR** w przypadku gdy zamienimy miejscami **idx** z jakimś sąsiadem.\n",
    "\n",
    "2. Funkcja **search_for_the_best_neighbour()** jest odpowiedzialna za wyszukanie najlepszego sąsiada i przypisanie do zmiennej idx_min indeksu najmniejszego elementu.\n",
    "\n",
    "3. Funkcja **swap()** jest odpowiedzialna za zamianę miejscami dwóch wierszy \"in place\" -  dzięki temu nie tworzymy nowej ramki danych. tylko pracujemy na tym samym zbiorze danych co optymalizuje szybkość wykonania algorytmu.\n",
    "\n",
    "4. Funkcja **move()** jest odpowiedzialna za zmianę startowego X od którego zaczniemy kolejną iterację algorytmu.\n",
    "\n",
    "5. Funkcja **plot_optimalization()** jest odpowiedzialna za wykonanie wykresu służącego do sprawdzenia czy algorytm poprawnie optymalizuje szukaną wartość.\n"
   ]
  },
  {
   "cell_type": "markdown",
   "metadata": {},
   "source": [
    "### Funkcja hill_climbing_algorithm()"
   ]
  },
  {
   "cell_type": "markdown",
   "metadata": {},
   "source": [
    "Do wykonania wlgorytmu wspinaczkowego dla wylosowanego X, została stworzona funkcja hill_climbing_algorithm(). Jej argumentami są:\n",
    "\n",
    "    * number_of_iterations - ustalona liczba iteracji wykonania algorytmu\n",
    "    * break_counter - zmienna która zatrzymuje działanie algorytmu, tzn. gdy przez np. 10 iteracji wynik się nie poprawia algorytm zostaje zastopowany.\n",
    "    * neighbours_count - liczba sąsiadów którą chcemy wyszukać\n",
    "    \n",
    "Oraz ustawiamy dla poszczegołnych zmiennych punkt startowy:\n",
    "\n",
    "    * idx - w pierwszej iteracji jest wybierany losowo jako jeden z indeksów zbioru danych.\n",
    "    * improvements - zmienna ustalona jako pusty szereg numeryczny (wypełniony wartościami 0).\n",
    "    * optimalization - przypisywana jest nazwa kolumny w zbiorze danych, którą posiłkuje się do wykonania wykresu.\n",
    "    \n",
    "    \n",
    "Główne ciało funkcji to pętla **while** której ograniczeniami są **number_of_iterations** oraz **break_counter**.\n",
    "Na początku pobierana jest początkowa wartość kombinacji, oraz pierwsza lista sąsiadów dla X. Następnie sprawdzane są przypadki co będzie gdy gdy zamianimy **idx** z danym sąsiadem. Kolejnym krokiem jest wybór tego sąsiada który wykazał najlepszą możliwą optymalizacją rozwiązania w danej iteracji.\n",
    "Jeżeli została ustawiona nowa wartość dla **best_neighbour** to wtedy ustawiamy go jako aktualny punkt początkowy algorytmu. W przeciwnym wypadku od **break_counter** odejmowana jest wartość 1. \n",
    "W celu sprawdzenia poprawności algorytmu tworzymy listę aktualnych wartości 'KR' z  każdej kolejnej iteracji. Zostanie ona wykorzystana do ukazania wartości na wykresie.\n",
    "\n",
    "Na jego podstawie możemy stwierdzić że algorytm działa i wyszukuje minimalną wartość **'KR'**.\n",
    "\n",
    "\n",
    "### JAK ARGUMENTY WPŁYWAJĄ NA ALGORYTM\n",
    "\n",
    "Dla ustalonych wartości argómentów:\n",
    "\n",
    "    * number_of_iterations = 500\n",
    "    * break_counter = 20\n",
    "    * neighbours_count = 20\n",
    "    \n",
    "Wykres optymalizacji prezentuje się w następujący sposób:\n",
    "\n",
    "![title](wykreswspinaczka.png)\n",
    "\n",
    "Gdzie na osi X występują liczby iteracji, a na osi Y wartości 'KR'.\n",
    "\n",
    "Wyniki poszczególnych iteracji:\n",
    "\n",
    "208800527->208486983->208176283->207899727->\n",
    "\n",
    "207799737->207657239->207300044->207007784->\n",
    "\n",
    "206722087->206455883->206234708->206041486->\n",
    "\n",
    "205836754->205719991->205434608->205288684->205111018\n",
    "\n",
    "\n",
    "Ostateczny wynik dla 'KR' to  205111018\n",
    "\n",
    "Argument **number_of_iterations** ulepsza algorytm ponieważ im mniejsza jest ta wartość tym mniejsze jest prawdopodobieństwo że algorytm osiągnął ekstremum. Zwiększenie tego argumentu wydłuża czas wykonania się algorytmu.\n",
    "\n",
    "Argument **break_counter** jest to licznik, który po wyzerowaniu kończy algorytm. Jego zwiększenie powoduje że algorytm dłużej będzie \"stał w miejscu\" i sprawdzał czy nie ma lepszej opcji. \n",
    "\n",
    "Argument **neighbours_count** ulepsza algorytm ponieważ im mniejsza jest wartość tego argumentu tym mniejszy jest zakres sprawdzanych sąsiadującyh obiektów. Sprowadza się to wydłużenia pracy algorytmu, oraz mniejszego prawdopodobieństwa że przy zadanych argumentach przy zadanym zakresie algorytm osiągnie ekstremum globalne.\n",
    "\n",
    "\n"
   ]
  },
  {
   "cell_type": "markdown",
   "metadata": {},
   "source": [
    "# ALGORYTM TABU\n",
    "\n",
    "### Wstęp\n",
    "Algorytm przeszukiwana tabu opiera się na wymianie zadań.  \n",
    "Algorytm sprawdza, która zamiana zadań w największym stopniu zmniejszy czas realizacji projektu. Następnie dane zadania zamienia miejscami i zapisuje ten ruch na liście tabu. Owa lista przechowuje zbiór ruchów, których przez następne x iteracji algorytmu nie będziemy mogli użyć ponownie. Mechanizm ten pozwala na uniknięcie sytuacji, w której cyklicznie wymieniamy ze sobą dwa zadania. Działanie algorytmu zostaje zakończone w momecie ukończenia określonej liczby iteracji bądź w momencie gdy y razy algorytm stwierdzi, że czas realizaji nie może zostać poprawiony. \n",
    "\n",
    "### Opis kodu\n",
    "\n",
    "W pierwszej kolejności została zdefiniowana zmienna 'KR', która przedstawia nam czas realizacji projektu. To właśnie tę wartość będziemy optymalizować. Do stworzenia 'KR' została użyta funkcja **get_KR**.\n",
    "\n",
    "Nastepnie tworzymy macierz z wartościami poszczególnych ruchów oraz tablicę możliwych ruchów. Wyszukujemy najlepszą możliwą wymianę(taką, która najbardziej obniży wartość KR) i zamieniamy ze sobą miejscami wybrane zadania. W następnych iteracjach powtarzyamy powyższy proces oraz sprawdzamy czy dany ruch nie znajduje się na liście tabu. W tym celu zostały stworzone następujące funkcje:\n",
    "\n",
    "* **gen_Z** - generowanie tablicy możliwych ruchów,\n",
    "* **search_for_the_best_move** - wyszukuje najlepszy możliwy do wykonania ruch z tablicy,\n",
    "* **move** - zamienia ze sobą kolejność dwóch zadań, dodaje wybraną kombinajcę na liste tabu oraz aktualizuje listę tabu,\n",
    "* **check_in_tabu** - sprawdza czy dana kombinacja zjaduje się na liście tabu,\n",
    "* **update_tabu** - aktualizuje listę tabu i usuwa z niej ruchy, których pozostały czas oczekiwania wykoni 0.\n",
    "\n",
    "### Algorytm\n",
    "Ostateczna funkcja algorytmu to **tabu_search_algorithm**, która wykorzystuje wcześniej opisane funkcje.  \n",
    "Algorytm przyjmuje następujące argumenty:\n",
    "\n",
    "* **inactive time** - wartość, którą nadajemy zadaniu na liście tabu i zmiejszamy po każdej iteracji. Gdy wartość osiągnie 0, dana kombinacja może zostać ponownie użyta. Zwiększenie tej wartości spowoduje wydłużenie czasu wykonywania algorytmu, ponieważ będziemy musieli zbadać więcej kombinacji przed wybraniem tej odpowiedniej.\n",
    "* **break_couter** - wartość, która zmiejsza się po iteracji w której algorytm nie znalazł lepszego rozwiązania. Gdy osiągnie 0 działanie algorytmu zostaje zakończone. Zwiększenie tej wartości spowoduje wydłużenie czasu wykonywania algorytmu, ponieważ program będzie oczekiwał dłużej na przejście wybranej liczby iteracji w których wynik końcowy nie ulega polepszeniu.\n",
    "* **number_of_generations** - liczba iteracji. Zwiększenie tej wartości spowoduje wydłużenie czasu wykonywania algorytmu jednak pozwoli na dokładniejsze zbadanie problemu dzięki czemu otrzymane wyniki będą bardziej wiarygodne. Dzieje się tak ponieważ więcej razy badamy czy nie istnieją zadania,których zamiana spowoduje zmniejszenie czasu realizacji.\n",
    "\n",
    "\n",
    "\n",
    "### Analiza otrzymanych wyników"
   ]
  },
  {
   "cell_type": "markdown",
   "metadata": {},
   "source": [
    "![title](wykrestabu.png)\n",
    "\n",
    "\n"
   ]
  }
 ],
 "metadata": {
  "kernelspec": {
   "display_name": "Python 3",
   "language": "python",
   "name": "python3"
  },
  "language_info": {
   "codemirror_mode": {
    "name": "ipython",
    "version": 3
   },
   "file_extension": ".py",
   "mimetype": "text/x-python",
   "name": "python",
   "nbconvert_exporter": "python",
   "pygments_lexer": "ipython3",
   "version": "3.7.4"
  }
 },
 "nbformat": 4,
 "nbformat_minor": 2
}
