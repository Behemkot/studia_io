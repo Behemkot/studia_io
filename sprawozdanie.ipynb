{
 "cells": [
  {
   "cell_type": "markdown",
   "metadata": {},
   "source": [
    "# SPRAWOZDANIE "
   ]
  },
  {
   "cell_type": "markdown",
   "metadata": {},
   "source": [
    "## KATARZYNA JĘDROCHA,  SZYMON BEDNAREK,  MICHAŁ BARAN,  BARTŁOMIEJ KALATA,"
   ]
  },
  {
   "cell_type": "markdown",
   "metadata": {},
   "source": [
    "## Projekt został napisany w języku Python. "
   ]
  },
  {
   "cell_type": "markdown",
   "metadata": {},
   "source": [
    "## ALGORYTM WSPINACZKI"
   ]
  },
  {
   "cell_type": "markdown",
   "metadata": {},
   "source": [
    "### WSTĘP"
   ]
  },
  {
   "cell_type": "markdown",
   "metadata": {},
   "source": [
    "Algorytm wspinaczkowy polega na wybraniu losowego X dla którego jest przypisana wartość Y. W pierwszej kolejności sprawdzane jest najbliższe sąsiedztwo X. Jeżeli wartość rozwiązania jest lepsza niż wartość rozwiązania początkowego wtedy sąsiadujący X jest brany jako punkt początkowy następnej iteracji algorytmu. W ten sposób możemy osiągnąć ekstremum lokalne fukcji minimalne lub maksymalne w zależności od założeń. Problem tego algorytmu polega na tym że znajdując się w wierzchołku funkcji kończymy działanie algorytmu. Jednakże nie zawsze osiągniąty wierzchołek jest ekstremum globalnym, tylko lokalnym. Aby zniwelować ten błąd należy uruchomić algorytm losując X, tyle razy, aby prawdopodobieństwo że otrzymany wynik jest ekstremum lokalnym było jak najmniejsze."
   ]
  },
  {
   "cell_type": "markdown",
   "metadata": {},
   "source": [
    "### OPIS KODU "
   ]
  },
  {
   "cell_type": "markdown",
   "metadata": {},
   "source": [
    "W pierwszej kolejności zdefiniowana została zmienna 'KR' która to jest wskaźnikiem jakości ułożenia zadań. Wartość 'KR' jest optymalizowana. Wskaźnik ten ukazuje jak dużo pozostaje \"wolnego\" czasu między zadaniami. \n",
    "Oznacza to że im mniejsza wartość 'KR' tym lepsze jest rozwiązanie problemu. \n",
    "\n"
   ]
  },
  {
   "cell_type": "markdown",
   "metadata": {},
   "source": [
    "Do przeszukiwania listy sąsiadów dla wylosowanego X, została stworzona funkcja get_neighbours(). Jej argumentami są :\n",
    "\n",
    "**idx** - Jest to indeks dla ktorego szukamy sąsiadów.\n",
    "\n",
    "**neighbours_count** - liczba sąsiadów którą chcemy wyszukać \n",
    "\n",
    "**df** - wprowadzone dane\n",
    "    \n",
    "Funkcja działa w następujący sposób:\n",
    "\n",
    "Dla zadanych wartości argumentów algorytm ustawia się w pozycji startowej:\n",
    "\n",
    "    Numer indeksu   | ... | n-4 | n-3 | n-2 | n-1 |  n  | n+1 | n+2 | n+3 | n+4 | ... |\n",
    "    Sąsiedztwo      |  -  |  -  |  0  |  0  |  0  |  X  |  0  |  0  |  0  |  -  |  -  |\n",
    "    \n",
    "W powyższym przykładzie możemy zauważyć że dla zadanych:\n",
    "\n",
    "    * idx = n;\n",
    "    * neighbours_count = 6;\n",
    " \n",
    "Algorytm ustawił się w pozycji n i wyszukał 6 sąsiadów.\n",
    "\n",
    "Dla przypadków końca danych z lewej lub z prawej strony zostały stworzone wyjątki.\n",
    "Wprowadzone zostały dodatkowe zmienne:\n",
    "    \n",
    "    * L - Jest to długość danych minus wylosowana pozycja\n",
    "    * idx_prev = idx - Jest to indeks dla ktorego szukamy sasiadow\n",
    "    * N_half - Połowa wartości szukanych sąsiadów\n",
    "    \n",
    "Zobrazowanie sytuacji w której występuje wyjątek:\n",
    "\n",
    "    Numer indeksu |  0  |  1  | n=2 |  3  |  4  |  5  |  6  |  7  |  8  |  9  | ... |\n",
    "    Sąsiedztwo    |  0  |  0  |  X  |  0  |  0  |  0  |  0  |  -  |  -  |  -  |  -  |\n",
    "    \n",
    "W powyższym przykładzie możemy zauważyć że dla zadanych:\n",
    "\n",
    "    * idx = n = 2 gdzie n < neighbours_count/2;\n",
    "    * neighbours_count = 6;\n",
    "\n",
    "W takim przypadku możemy znaleźć tylko dwa obiekty z lewej strony, dlatego w tym wyjątku dodajemy dodatkowy obiekt z prawej strony. Sytuacja jest analogiczna dla obserwacji na obu końcach zbioru danych. Do rozwiązania tych wyjątków wykorzystany został następujący kod:\n",
    "\n",
    "    if idx < N_half:\n",
    "        idx = N_half\n",
    "    \n",
    "    elif idx > L - N_half:\n",
    "        idx = L - N_half\n",
    "    output = list(range(idx - N_half, idx + N_half + 1))\n",
    "\n",
    "Jako ostateczny wynik funkcja zwraca listę sąsiadów, która zostanie przeszukana w celu uzyskania lepszego wyniku niz startowy X.\n",
    "\n",
    "\n",
    "\n",
    "    "
   ]
  },
  {
   "cell_type": "markdown",
   "metadata": {},
   "source": [
    "Ostateczna funkcja algorytmu to **hill_climbing_algorithm()**. Jednak do jej działania użyte zostały poszczególne pomniejsze funkcje:\n",
    "\n",
    "    * calculate_improvements()\n",
    "    * search_for_the_best_neighbour()\n",
    "    * swap()\n",
    "    * move()\n",
    "    * plot_optimalization()\n",
    "\n",
    "1. Funkcja **calculate_improvements()** jest odpowiedzialna za sprawdzenie jak zmieni się wartość **KR** w przypadku gdy zamienimy miejscami **idx** z jakimś sąsiadem.\n",
    "\n",
    "2. Funkcja **search_for_the_best_neighbour()** jest odpowiedzialna za wyszukanie najlepszego sąsiada i przypisanie do zmiennej idx_min indeksu najmniejszego elementu.\n",
    "\n",
    "3. Funkcja **swap()** jest odpowiedzialna za zamianę miejscami dwóch wierszy \"in place\" -  dzięki temu nie tworzymy nowej ramki danych. tylko pracujemy na tym samym zbiorze danych co optymalizuje szybkość wykonania algorytmu.\n",
    "\n",
    "4. Funkcja **move()** jest odpowiedzialna za zmianę startowego X od którego zaczniemy kolejną iterację algorytmu.\n",
    "\n",
    "5. Funkcja **plot_optimalization()** jest odpowiedzialna za wykonanie wykresu służącego do sprawdzenia czy algorytm poprawnie optymalizuje szukaną wartość.\n"
   ]
  },
  {
   "cell_type": "markdown",
   "metadata": {},
   "source": [
    "### Funkcja hill_climbing_algorithm()"
   ]
  },
  {
   "cell_type": "markdown",
   "metadata": {},
   "source": [
    "Do wykonania algorytmu wspinaczkowego dla wylosowanego X, została stworzona funkcja hill_climbing_algorithm(). Jej argumentami są:\n",
    "\n",
    "    * number_of_iterations - ustalona liczba iteracji wykonania algorytmu\n",
    "    * break_counter - zmienna która zatrzymuje działanie algorytmu, tzn. gdy przez np. 10 iteracji wynik się nie poprawia algorytm zostaje zastopowany.\n",
    "    * neighbours_count - liczba sąsiadów którą chcemy wyszukać\n",
    "    \n",
    "Wewnątrz funkcji zdefiniowane są także prarametry umożliwiające poprawne działanie algorytmu:\n",
    "\n",
    "    * idx - w pierwszej iteracji jest wybierany losowo jako jeden z indeksów zbioru danych i stanowi punkt startowy naszego algorytmu.\n",
    "    * improvements - zmienna ustalona jako pusty szereg numeryczny (wypełniony wartościami 0).\n",
    "    * optimalization - przypisywana jest nazwa kolumny w zbiorze danych, którą posiłkuje się do wykonania wykresu.\n",
    "    \n",
    "    \n",
    "Główne ciało funkcji to pętla **while** której ograniczeniami są **number_of_iterations** oraz **break_counter**.\n",
    "Na starcie pobierana jest początkowa wartość kombinacji, oraz pierwsza lista sąsiadów dla X. Następnie sprawdzane są przypadki co będzie gdy zamienimy **idx** z danym sąsiadem. Kolejnym krokiem jest wybór tego sąsiada który wykazał się najlepszą możliwą optymalizacją rozwiązania w danej iteracji.\n",
    "Jeżeli została zdefiniowana nowa wartość dla **best_neighbour** to wtedy ustawiamy ją jako aktualny punkt początkowy algorytmu. W przeciwnym wypadku od **break_counter** odejmowana jest wartość 1. \n",
    "W celu sprawdzenia poprawności algorytmu tworzymy listę aktualnych wartości 'KR' z  każdej kolejnej iteracji. Zostanie ona wykorzystana do ukazania zależności efektywności algorytmu od ilości wykonanych iteracji.\n",
    "\n",
    "Na podstawie wykresu możemy stwierdzić że algorytm działa i wyszukuje coraz mniejszą wartość **'KR'** wraz ze wzrostem liczby iteracji.\n",
    "\n",
    "\n",
    "### JAK ARGUMENTY WPŁYWAJĄ NA ALGORYTM\n",
    "\n",
    "Dla ustalonych wartości argómentów:\n",
    "\n",
    "    * number_of_iterations = 500\n",
    "    * break_counter = 20\n",
    "    * neighbours_count = 20\n",
    "    \n",
    "Wykres optymalizacji prezentuje się w następujący sposób:\n",
    "\n",
    "![title](wykreswspinaczka.png)\n",
    "\n",
    "Gdzie na osi X występują liczby iteracji, a na osi Y wartości 'KR'.\n",
    "\n",
    "Ostateczny wynik dla 'KR' to  31376082\n",
    "\n",
    "Argument **number_of_iterations** ulepsza algorytm ponieważ im mniejsza jest ta wartość tym mniejsze jest prawdopodobieństwo że algorytm osiągnął ekstremum. Zwiększenie tego argumentu wydłuża czas wykonania się algorytmu lecz również zwiększy jego efektywność.\n",
    "\n",
    "    new_order, new_optimalization = hill_climbing_algorithm(\n",
    "    number_of_iterations=10000,\n",
    "    break_counter=20,\n",
    "    neighbours_count=20)\n",
    "    \n",
    "Ostateczny wynik dla 'KR' to 174287727. \n",
    "\n",
    "\n",
    "\n",
    "Argument **break_counter** jest to licznik, który po wyzerowaniu kończy algorytm. Jego zwiększenie powoduje że algorytm dłużej będzie \"stał w miejscu\" i sprawdzał czy nie ma lepszej opcji. \n",
    "\n",
    "    new_order, new_optimalization = hill_climbing_algorithm(\n",
    "        number_of_iterations=500,\n",
    "        break_counter=100,\n",
    "        neighbours_count=20)\n",
    "\n",
    "Ostateczny wynik dla 'KR' to 151043532.\n",
    "\n",
    "Argument **neighbours_count** ulepsza algorytm ponieważ im mniejsza jest wartość tego argumentu tym mniejszy jest zakres sprawdzanych sąsiadującyh obiektów. Sprowadza się to wydłużenia pracy algorytmu, oraz mniejszego prawdopodobieństwa że przy zadanych argumentach przy zadanym zakresie algorytm osiągnie ekstremum globalne.\n",
    "\n",
    "    new_order, new_optimalization = hill_climbing_algorithm(\n",
    "        number_of_iterations=500,\n",
    "        break_counter=20,\n",
    "        neighbours_count=6)\n",
    "        \n",
    "Ostateczny wynik dla 'KR' to 42966032.\n",
    "\n",
    "\n",
    "    new_order, new_optimalization = hill_climbing_algorithm(\n",
    "        number_of_iterations=1000000,\n",
    "        break_counter=10000,\n",
    "        neighbours_count=100\n",
    "    )\n",
    "Ostateczny wynik dla 'KR' to 39060500\n",
    "\n",
    "**Wszystkie wyniki przedstawione dla poszczególnych wartośc argumentów zależą także od czynnika losowego jakim jest początkowe zadanie obrane za punkt startowy algorytmu. Dlatego przedstawione powyżej zależności nie będą prawdziwe w każdym przypadku uruchomienia algorytmu.**"
   ]
  },
  {
   "cell_type": "markdown",
   "metadata": {},
   "source": [
    "# ALGORYTM WYŻARZANIA"
   ]
  },
  {
   "cell_type": "markdown",
   "metadata": {},
   "source": [
    "### Wstęp"
   ]
  },
  {
   "cell_type": "markdown",
   "metadata": {},
   "source": [
    "Algorytm wyżarzania opiera się na badaniu sąsiedztwa z założeniem pewnego poziomu prawdopodobieństwa z którym jesteśmy skłonni przyjąć gorszy od obecnego wynik. Z każdą wykonaną iteracją prawdopodobieństwo przyjęcia wyniku gorszego niż poprzedni zostaje obniżone poprzez zastosowanie odpowiednio zdefiniowanej funkcji. Algorytm ten posiada dużo argumentów, które wpływają na jakość wyniku. "
   ]
  },
  {
   "cell_type": "markdown",
   "metadata": {},
   "source": [
    "### Opis kodu\n",
    "\n",
    "Metody początkowe, odpowiedzialne za wyszukanie listy sąsiadów zostały już opisane przy omawianiu algorytmu wspinaczki.   \n",
    "\n",
    "Nowymi funkcjami stworzonymi na potrzeby tego algorytmu jest funkcja **reduce temperature()**, która jest pośrednio odpowiedzialna za obniżanie poziomu prawdopodobieństwa z którym przyjmujemy nowy gorszy wynik."
   ]
  },
  {
   "cell_type": "markdown",
   "metadata": {},
   "source": [
    "### Algorytm\n",
    "\n",
    "Funkcja **simulated_anniling_algorithm()** jaest ostateczną funkcją algorytmu. wykorzystuje wszystkie wcześniej opisane metody oraz przyjmuje poniższe argumenty za dane\n",
    "\n",
    "    * T -  Maksymalna temperatura przyjmowana na początku algorytmu.\n",
    "    * Tmin - Minimalna temperatura przyjmowana na początku algorytmu.\n",
    "    * neighbours_count - liczba sąsiadów którą chcemy wyszukać\n",
    "    * number_of_generations - maksymalna liczba iteracji w przypadku gdy nie jest ona określona przez malejącą temperaturę.\n",
    "\n",
    "Główne ciało funkcji zajmują pętle while których ograniczeniami są temperatura nie mogąca spasc poniżej minimalnej temperatury oraz liczba iteracji. \n",
    "\n",
    "Jako pierwszy krok losowany jest punkt startowy do którego następnie znajdowane jest sąsiedztwo. Ze zbioru zadań należących do sąsiedztwa wybierane jest losowo jedno z nich. Następnie jeżeli zamiana wybranego zadania z punktem startowym daje wynik lepszy od poprzedniego, algorytm dokonuje zamiany tych dwóch zadań. Jeżeli wynik wychodzi gorszy to wtedy może on zostać przyjęty jako rozwiązanie wraz z z prawdopodobieństwem, które z każdą kolejną iteracją zostaje obniżone.\n",
    "\n",
    "Algorytm kończy pracę gdy temperatura osiągnie stan minimalny, lub gdy zadany limit iteracji zostanie wykorzystany. \n"
   ]
  },
  {
   "cell_type": "markdown",
   "metadata": {},
   "source": [
    "### Analiza otrzymanych wyników\n",
    "\n",
    "Algorytm wyżarzania z bazowymi argumentami dla:\n",
    "\n",
    "    new_order, new_optimalization = simulated_anniling_algorithm(\n",
    "        T = 2500, \n",
    "        Tmin = 100, \n",
    "        neighbours_count=50, \n",
    "        number_of_generations = 1000)\n",
    "\n",
    "Ostateczna wartość 'KR' to 689383.\n",
    "\n",
    "![title](wykreswyzarzanie.png)\n",
    "\n",
    "\n",
    "Argument **T**  wpływa na algorytm ponieważ może określać on maksymalną liczbę iteracji w przypadku gdy nie jest ustalony argument **number_of_generations**. Wpływa on również na prawdopodobieństwo przyjęcia gorszego niż poprzedniego wyniku. Im większa temperatura tym większe prawdopodobieństwo i tym samym większe wahania pomiędzy wynikami między poszczególnymi iteracjami. Tą zależność zauważyć można także na wykresie przedstawionym powyżej.\n",
    "\n",
    "    new_order, new_optimalization = simulated_anniling_algorithm(\n",
    "        T = 5000, \n",
    "        Tmin = 100, \n",
    "        neighbours_count=20, \n",
    "        number_of_generations = 1000)\n",
    "        \n",
    "![title](wykreswyzarzanietemp.png)\n",
    "\n",
    "Argument **number_of_generations** ulepsza algorytm ponieważ im mniejsza jest ta wartość tym mniejsze jest prawdopodobieństwo że algorytm osiągnął optymalny wynik. Zwiększenie tego argumentu wydłuża czas wykonania się algorytmu lecz również zwiększy jego efektywność co zaobserwowac możemy na powyższym wykresie.\n",
    "\n",
    "    new_order, new_optimalization = simulated_anniling_algorithm(\n",
    "        T = 2500, \n",
    "        Tmin = 100, \n",
    "        neighbours_count=20, \n",
    "        number_of_generations = 500)\n",
    "\n",
    "Ostateczna wartość 'KR' to 694751.\n",
    "\n",
    "Argument **neighbours_count** ulepsza algorytm ponieważ im mniejsza jest wartość tego argumentu tym mniejszy jest zakres sprawdzanych sąsiadującyh obiektów. Sprowadza się to wydłużenia pracy algorytmu, oraz mniejszego prawdopodobieństwa że przy zadanych argumentach przy zadanym zakresie algorytm osiągnie ekstremum globalne.\n",
    "\n",
    "    new_order, new_optimalization = simulated_anniling_algorithm(\n",
    "        T = 2500, \n",
    "        Tmin = 100, \n",
    "        neighbours_count=6, \n",
    "        number_of_generations = 1000)\n",
    "\n",
    "Ostateczna wartość 'KR' to 692948\n",
    "\n",
    "\n",
    "**Wszystkie wyniki przedstawione dla poszczególnych wartośc argumentów zależą także od czynnika losowego jakim jest początkowe zadanie obrane za punkt startowy algorytmu oraz losowanie z zadanym prawdopodobieństwem przyjęcia gorszego wyniku jako rozwiązanie. Dlatego przedstawione powyżej zależności nie będą prawdziwe w każdym przypadku uruchomienia algorytmu.**"
   ]
  },
  {
   "cell_type": "markdown",
   "metadata": {},
   "source": [
    "# ALGORYTM TABU\n",
    "\n",
    "### Wstęp\n",
    "Algorytm przeszukiwania tabu opiera się na wymianie zadań.  \n",
    "Algorytm sprawdza, która zamiana zadań w największym stopniu zmniejszy czas realizacji projektu. Następnie dane zadania zamienia miejscami i zapisuje ten ruch na liście tabu. Owa lista przechowuje zbiór ruchów, których przez następne x iteracji algorytmu nie będziemy mogli użyć ponownie. Mechanizm ten pozwala na uniknięcie sytuacji, w której cyklicznie wymieniamy ze sobą dwa zadania. Działanie algorytmu zostaje zakończone w momecie ukończenia określonej liczby iteracji bądź w momencie gdy y razy algorytm stwierdzi, że czas realizaji nie może zostać poprawiony. \n",
    "\n",
    "### Opis kodu\n",
    "\n",
    "W pierwszej kolejności została zdefiniowana zmienna 'KR', która przedstawia nam czas realizacji projektu. To właśnie tę wartość będziemy optymalizować. Do stworzenia 'KR' została użyta funkcja **get_KR()**.\n",
    "\n",
    "Nastepnie tworzymy macierz z wartościami poszczególnych ruchów oraz tablicę możliwych ruchów. Wyszukujemy najlepszą możliwą wymianę(taką, która najbardziej obniży wartość KR) i zamieniamy ze sobą miejscami wybrane zadania. W następnych iteracjach powtarzyamy powyższy proces oraz sprawdzamy czy dany ruch nie znajduje się na liście tabu. W tym celu zostały stworzone następujące funkcje:\n",
    "\n",
    "* **gen_Z()** - generuje tablice możliwych ruchów,\n",
    "* **search_for_the_best_move()** - wyszukuje najlepszy możliwy do wykonania ruch z tablicy,\n",
    "* **move()** - zamienia ze sobą kolejność dwóch zadań, dodaje wybraną kombinajcę na liste tabu oraz aktualizuje listę tabu,\n",
    "* **check_in_tabu()** - sprawdza czy dana kombinacja zjaduje się na liście tabu,\n",
    "* **update_tabu()** - aktualizuje listę tabu i usuwa z niej ruchy, których pozostały czas oczekiwania wykoni 0.\n",
    "\n",
    "### Algorytm\n",
    "Ostateczna funkcja algorytmu to **tabu_search_algorithm()**, która wykorzystuje wcześniej opisane funkcje.  \n",
    "Algorytm przyjmuje następujące argumenty:\n",
    "\n",
    "* **inactive time** - wartość, którą nadajemy zadaniu na liście tabu i zmiejszamy po każdej iteracji. Gdy wartość osiągnie 0, dana kombinacja może zostać ponownie użyta. Zwiększenie tej wartości spowoduje wydłużenie czasu wykonywania algorytmu, ponieważ będziemy musieli zbadać więcej kombinacji przed wybraniem tej odpowiedniej.\n",
    "* **break_couter** - wartość, która zmiejsza się po iteracji w której algorytm nie znalazł lepszego rozwiązania. Gdy osiągnie 0 działanie algorytmu zostaje zakończone. Zwiększenie tej wartości spowoduje wydłużenie czasu wykonywania algorytmu, ponieważ program będzie oczekiwał dłużej na przejście wybranej liczby iteracji w których wynik końcowy nie ulega polepszeniu.\n",
    "* **number_of_generations** - liczba iteracji. Zwiększenie tej wartości spowoduje wydłużenie czasu wykonywania algorytmu jednak pozwoli na dokładniejsze zbadanie problemu dzięki czemu otrzymane wyniki będą bardziej wiarygodne. Dzieje się tak ponieważ więcej razy badamy czy nie istnieją zadania,których zamiana spowoduje zmniejszenie czasu realizacji."
   ]
  },
  {
   "cell_type": "markdown",
   "metadata": {},
   "source": [
    "### JAK ARGUMENTY WPŁYWAJĄ NA ALGORYTM\n",
    "\n",
    "\n",
    "\n",
    "\n",
    "Algorytm Tabu z bazowymi argumentami dla \n",
    "\n",
    "    new_order, new_opt = tabu_search_algorithm(\n",
    "        inactive_time = 5,\n",
    "        break_counter = 10,\n",
    "        number_of_generations = 75)\n",
    "    \n",
    "![title](wykrestabu.png)\n",
    "Ostateczna wartość 'KR' to 7183470.\n",
    "\n",
    "Argument number_of_generations ulepsza algorytm ponieważ im mniejsza jest ta wartość tym mniejsze jest prawdopodobieństwo że algorytm osiągnął optymalny wynik. Zwiększenie tego argumentu wydłuża czas wykonania się algorytmu lecz również zwiększy jego efektywność co zaobserwowac możemy na powyższym wykresie.\n",
    "\n",
    "\n",
    "Argument break_counter jest to licznik, który po wyzerowaniu kończy algorytm. Jego zwiększenie powoduje że algorytm dłużej będzie \"stał w miejscu\" i sprawdzał czy nie ma lepszej opcji.\n",
    "\n",
    "    new_order, new_opt = tabu_search_algorithm(\n",
    "        inactive_time = 5,\n",
    "        break_counter = 3,\n",
    "        number_of_generations = 75)\n",
    "\n",
    "Ostateczny wynik dla 'KR' to 7183470.\n",
    "\n",
    "Argument inactive_time opisuje ilość kolejek których dana zamiana dwóch zadań jest zablokowana. Trudnym jest ustalenie jak zmiana tego argumentu wpływa na wartość rozwiązania gdyż z jednej strony zbyt mała liczba naraża algorytm na cykliczne powtarzanie wciąż tych samych zamian, a z drugiej zbyt wielka wartość uniemożliwia optymalizację rozwiązania stosunkowo małej liczbie iteracji.\n",
    "\n",
    "    new_order, new_opt = tabu_search_algorithm(\n",
    "            inactive_time = 3,\n",
    "            break_counter = 10,\n",
    "            number_of_generations = 75)\n",
    "            \n",
    "Ostateczny wynik dla 'KR' to 2758246."
   ]
  },
  {
   "cell_type": "markdown",
   "metadata": {},
   "source": [
    "### PORÓWANANIE WYNIKÓW WSZYSTKICH METOD OPTYMALIZACYJNYCH DO ROZWIĄZANIA PAKIETU SOLVER\n",
    "\n",
    "\n",
    "\n",
    "![title](porownanie.png)\n",
    "\n",
    "Z wyżej przedstawionego zestawienia można wywnioskować że najbardziej wydajnym algorytmem jest WYŻARZANIE, które w stosunkowo krótkim czasie było w stanie znaleźć najlepsze rozwiązanie. Najmniej optymalne okazało się być TABU SEARCH.\n"
   ]
  }
 ],
 "metadata": {
  "kernelspec": {
   "display_name": "Python 3",
   "language": "python",
   "name": "python3"
  },
  "language_info": {
   "codemirror_mode": {
    "name": "ipython",
    "version": 3
   },
   "file_extension": ".py",
   "mimetype": "text/x-python",
   "name": "python",
   "nbconvert_exporter": "python",
   "pygments_lexer": "ipython3",
   "version": "3.7.4"
  }
 },
 "nbformat": 4,
 "nbformat_minor": 2
}
