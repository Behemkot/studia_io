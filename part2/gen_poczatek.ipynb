{
 "cells": [
  {
   "cell_type": "code",
   "execution_count": 19,
   "metadata": {},
   "outputs": [],
   "source": [
    "import numpy as np\n",
    "import pandas as pd\n",
    "import os\n",
    "from itertools import permutations"
   ]
  },
  {
   "cell_type": "code",
   "execution_count": 20,
   "metadata": {},
   "outputs": [],
   "source": [
    "data_path = \"dane/\"\n",
    "df = pd.read_excel(os.path.join(data_path, \"dane1.xlsx\"))"
   ]
  },
  {
   "cell_type": "code",
   "execution_count": 156,
   "metadata": {},
   "outputs": [],
   "source": [
    "class Osobnik:\n",
    "    def __init__(self, order):\n",
    "        self.order = order\n",
    "        self.value = self.__calculate_value_of_order()\n",
    "        \n",
    "    def __repr__(self):\n",
    "        return self.value\n",
    "\n",
    "    def __calculate_value_of_order(self):\n",
    "        df = self.order\n",
    "        if len(df) <= 0:\n",
    "            return 0\n",
    "        elif len(df) == 1:\n",
    "            return int(df.sum(axis=1))\n",
    "\n",
    "        obrobione = df.copy()\n",
    "        obrobione[\"M1\"] = df[\"M1\"].cumsum() # TODO\n",
    "        obrobione.iloc[1] = df.iloc[1].cumsum()\n",
    "\n",
    "        for i in range(2, len(obrobione)):\n",
    "            for j in range(2, len(obrobione.iloc[1])):\n",
    "                max_val = max(int(obrobione.iloc[[i-1], [j]].values),\n",
    "                                 int(obrobione.iloc[[i], [j-1]].values))\n",
    "                obrobione.iloc[[i], [j]] = max_val + df.iloc[[i], [j]]\n",
    "        wartosc = int(obrobione.iloc[[-1], [-1]].values)\n",
    "        return wartosc\n",
    "    \n",
    "    def cross(self, other, cross_type = 1):\n",
    "        if cross_type == 1:\n",
    "            return self.__crossing_type_1(other)\n",
    "        elif cross_type == 2:\n",
    "            return self.__crossing_type_2(other)\n",
    "    \n",
    "    def __crossing_type_1(self, other):\n",
    "        \"\"\"\n",
    "        Pierwszy sposób krzyżowania:\n",
    "            Krótki opis.\n",
    "        \"\"\" \n",
    "        break_point = int(self.order.shape[0]/2)\n",
    "        \n",
    "        order_1 = self.order.iloc[:break_point]\n",
    "        order_2 = self.order.iloc[break_point:]\n",
    "        \n",
    "        other_order_1 = other.order.iloc[:break_point]\n",
    "        other_order_2 = other.order.iloc[break_point:]\n",
    "        \n",
    "        child_1 = Osobnik(\n",
    "            pd.concat([order_1, other_order_2], ignore_index=True)\n",
    "        )\n",
    "        child_2 = Osobnik(\n",
    "            pd.concat([order_2, other_order_1], ignore_index=True)\n",
    "        )\n",
    "        \n",
    "        \n",
    "        \n",
    "        return child_1, child_2\n",
    "    \n",
    "    # todo\n",
    "    def __crossing_type_2(self, other):\n",
    "        \"\"\"\n",
    "        Drugi sposób krzyżowania:\n",
    "            Krótki opis.\n",
    "        \"\"\"\n",
    "        child_1 = pd.DataFrame()\n",
    "        child_2 = pd.DataFrame()\n",
    "        \n",
    "        \n",
    "        return child_1, child_2\n",
    "    \n",
    "        "
   ]
  },
  {
   "cell_type": "code",
   "execution_count": 110,
   "metadata": {},
   "outputs": [],
   "source": [
    "class Population:\n",
    "    def __init__(self, starting_pool, size = 20):\n",
    "        self.starting_pool = starting_pool # dane wejściowe\n",
    "        self.size = size # ilosc osobników w populacji\n",
    "        self.list_of_individuals = self.__gen_individuals() # list osobników\n",
    "        self.mating_list = [] # lista par osobników do krzyżowania\n",
    "\n",
    "    def __gen_individuals(self):\n",
    "        \"\"\"\n",
    "        Tworzenie osobników na podstawie danych wejściowych.\n",
    "        Nic nie zwraca. Wypełnia list_of_individuas.\n",
    "        \"\"\"\n",
    "        return [Osobnik(self.starting_pool.sample(frac=1).reset_index(drop=True)) for x in range(self.size)]\n",
    "    \n",
    "    def perform_selection(self, selection_type = 1):\n",
    "        \"\"\"\n",
    "        Selekcja. Przekierowuje do odpowiedniej funkcji selekcji.\n",
    "            Opis czym jest selekcja.\n",
    "            Tutaj towrzymy listę rodziców.\n",
    "        \"\"\"\n",
    "        if selection_type == 1:\n",
    "            self.mating_list = self.__selection_type_1()\n",
    "        elif selection_type == 2:\n",
    "            self.mating_list = self.__selection_type_2()\n",
    "            \n",
    "\n",
    "    def perform_crossing(self, crossing_type = 1):\n",
    "        \"\"\"\n",
    "        Krzyżowanie. Przekierowuje do funckji z odpowiednim typem krzyżowania.\n",
    "            Tutaj tworzymy nową populacje\n",
    "        \"\"\"\n",
    "        new_list_of_individuals = []\n",
    "        for male, female in self.mating_list:\n",
    "            child_1, child_2 = male.cross(female, cross_type = crossing_type)\n",
    "            new_list_of_individuals.append(child_1)\n",
    "            new_list_of_individuals.append(child_2)\n",
    "        \n",
    "        self.list_of_individuals = new_list_of_individuals\n",
    "        \n",
    "    def show_mating_pairs(self):\n",
    "        for male, female in self.mating_list:\n",
    "            print(f\"Male: {male.value} & Female: {female.value}\")\n",
    "            \n",
    "    def show_individuals(self):\n",
    "        for indiv in self.list_of_individuals:\n",
    "            print(repr(indiv))\n",
    "    \n",
    "    def __selection_type_1(self):\n",
    "        \"\"\"\n",
    "        Rankingowy\n",
    "        \"\"\"\n",
    "        self.list_of_individuals.sort(key=lambda x : x.value, reverse=True)\n",
    "        return zip(\n",
    "            self.list_of_individuals[::2], \n",
    "            self.list_of_individuals[1::2]\n",
    "        )\n",
    "        \n",
    "    # todo\n",
    "    def __selection_type_2(self):\n",
    "        pass\n",
    "        \n",
    "        "
   ]
  },
  {
   "cell_type": "code",
   "execution_count": 158,
   "metadata": {},
   "outputs": [],
   "source": [
    "population = Population(df)"
   ]
  },
  {
   "cell_type": "code",
   "execution_count": 153,
   "metadata": {},
   "outputs": [],
   "source": [
    "population.perform_selection()"
   ]
  },
  {
   "cell_type": "code",
   "execution_count": 146,
   "metadata": {},
   "outputs": [
    {
     "name": "stdout",
     "output_type": "stream",
     "text": [
      "Male: 4099 & Female: 3989\n",
      "Male: 3968 & Female: 3950\n",
      "Male: 3941 & Female: 3903\n",
      "Male: 3892 & Female: 3880\n",
      "Male: 3865 & Female: 3845\n",
      "Male: 3831 & Female: 3819\n",
      "Male: 3813 & Female: 3797\n",
      "Male: 3782 & Female: 3778\n",
      "Male: 3742 & Female: 3718\n",
      "Male: 3707 & Female: 3653\n"
     ]
    }
   ],
   "source": [
    "population.show_mating_pairs()"
   ]
  },
  {
   "cell_type": "code",
   "execution_count": 143,
   "metadata": {},
   "outputs": [],
   "source": [
    "# population.perform_crossing()"
   ]
  },
  {
   "cell_type": "code",
   "execution_count": 160,
   "metadata": {},
   "outputs": [
    {
     "name": "stdout",
     "output_type": "stream",
     "text": [
      "Male: 4108 & Female: 4041\n",
      "Male: 3962 & Female: 3926\n",
      "Male: 3920 & Female: 3911\n",
      "Male: 3874 & Female: 3846\n",
      "Male: 3826 & Female: 3814\n",
      "Male: 3810 & Female: 3798\n",
      "Male: 3798 & Female: 3771\n",
      "Male: 3724 & Female: 3722\n",
      "Male: 3702 & Female: 3681\n",
      "Male: 3627 & Female: 3602\n"
     ]
    }
   ],
   "source": [
    "population.perform_selection()\n",
    "new_list_of_individuals = []\n",
    "for male, female in population.mating_list:\n",
    "    print(f\"Male: {male.value} & Female: {female.value}\")\n",
    "    child_1, child_2 = male.cross(female)\n",
    "    new_list_of_individuals.append(child_1)\n",
    "    new_list_of_individuals.append(child_2)"
   ]
  },
  {
   "cell_type": "code",
   "execution_count": null,
   "metadata": {},
   "outputs": [],
   "source": [
    "new_list_of_individuals"
   ]
  },
  {
   "cell_type": "code",
   "execution_count": null,
   "metadata": {},
   "outputs": [],
   "source": []
  }
 ],
 "metadata": {
  "kernelspec": {
   "display_name": "Python 3",
   "language": "python",
   "name": "python3"
  },
  "language_info": {
   "codemirror_mode": {
    "name": "ipython",
    "version": 3
   },
   "file_extension": ".py",
   "mimetype": "text/x-python",
   "name": "python",
   "nbconvert_exporter": "python",
   "pygments_lexer": "ipython3",
   "version": "3.7.5"
  }
 },
 "nbformat": 4,
 "nbformat_minor": 2
}
