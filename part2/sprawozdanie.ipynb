{
 "cells": [
  {
   "cell_type": "markdown",
   "metadata": {
    "colab_type": "text",
    "id": "ZD3OSXiFmunB"
   },
   "source": [
    "# SPRAWOZDANIE 2\n"
   ]
  },
  {
   "cell_type": "markdown",
   "metadata": {
    "colab_type": "text",
    "id": "5XPpiOqrmunD"
   },
   "source": [
    "## Projekt wykonali:\n",
    "<br>\n",
    "\n",
    "* Katarzyna Jędrocha,\n",
    "* Szymon Bednarek,\n",
    "* Michał Baran,\n",
    "* Bartłomiej Kalata."
   ]
  },
  {
   "cell_type": "markdown",
   "metadata": {
    "colab_type": "text",
    "id": "4xHWwhNKmunE"
   },
   "source": [
    "## Projekt został napisany w języku Python. \n",
    "## W poprzednim projekcie zaprezentowane zostały już opisy działania algorytmów: wspinaczki z multistartem, symulowanego wyżarzania, przeszukiwania tabu. Dlatego też pominięte zostanie teoretyczne wprowadzenie do w.w. rozwiązań.\n",
    "\n",
    "#### Każdy algorytm dla każdej kombinacji wartości parametrów został wykonany kilkukrotnie, a wyniki znajdujące się w tym sprawozdaniu są najlepszymi z uzyskanych wartościami "
   ]
  },
  {
   "cell_type": "markdown",
   "metadata": {},
   "source": [
    "## Solver"
   ]
  },
  {
   "cell_type": "markdown",
   "metadata": {},
   "source": [
    "W pliku dane1.xlsx zostało ustawionych 50 zadań na 10 maszynach.\n",
    "Najlepszy wynik uzyskany przez Solver dla tych warunków to 3343 w komórce celu.\n",
    "\n",
    "W pliku dane2.xlxs zadań do wykonania jest 100 do wykonania na 20 maszynach.\n",
    "Najlepszy wynik uzyskany przez Solver dla tych warunków to 6855 w komórce celu.\n",
    "\n",
    "W pliku dane3.xlxs zadań do wykonania jest 200 do wykonania na 20 maszynach.\n",
    "Najlepszy wynik uzyskany przez Solver dla tych warunków to 12281 w komórce celu."
   ]
  }
 ],
 "metadata": {
  "colab": {
   "collapsed_sections": [],
   "name": "sprawozdanie.ipynb",
   "provenance": []
  },
  "kernelspec": {
   "display_name": "Python 3",
   "language": "python",
   "name": "python3"
  },
  "language_info": {
   "codemirror_mode": {
    "name": "ipython",
    "version": 3
   },
   "file_extension": ".py",
   "mimetype": "text/x-python",
   "name": "python",
   "nbconvert_exporter": "python",
   "pygments_lexer": "ipython3",
   "version": "3.7.4"
  }
 },
 "nbformat": 4,
 "nbformat_minor": 1
}
