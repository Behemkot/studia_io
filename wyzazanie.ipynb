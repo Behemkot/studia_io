{
 "cells": [
  {
   "cell_type": "code",
   "execution_count": 1,
   "metadata": {},
   "outputs": [],
   "source": [
    "import numpy as np\n",
    "import pandas as pd\n",
    "import os"
   ]
  },
  {
   "cell_type": "code",
   "execution_count": 2,
   "metadata": {},
   "outputs": [],
   "source": [
    "data_path = \"./dane/\"\n",
    "df = pd.read_csv(os.path.join(data_path, \"szer.csv\"), sep=';')\n",
    "df = df.drop(\"KR\", axis=1)"
   ]
  },
  {
   "cell_type": "code",
   "execution_count": 6,
   "metadata": {},
   "outputs": [],
   "source": [
    "# rozwiązanie początkowe\n",
    "# R\n",
    "# temperatura początkowa\n",
    "# T\n",
    "def redukcja_temperatury(T, stopien_zmiany = .02, sposob = 1):\n",
    "    return (1-stopien_zmiany)*T if sposob == 1 else T/(1+stopien_zmiany*T)\n",
    "def warunek_zatrzymania():\n",
    "    return True\n",
    "def stan_rownowagi():\n",
    "    return True\n",
    "def losowe_sasiednie_rozwiazanie():\n",
    "    pass\n",
    "def E(x):\n",
    "    pass\n"
   ]
  },
  {
   "cell_type": "code",
   "execution_count": null,
   "metadata": {},
   "outputs": [],
   "source": [
    "R = 42 # rozwiązanie\n",
    "T = 42 # TODO: czym jest temperatura?\n",
    "RANDOM = np.random.rand()\n",
    "while not warunek_zatrzymania():\n",
    "    while not stan_rownowagi():\n",
    "        R_prim = losowe_sasiednie_rozwiazanie()\n",
    "        dE = E(R_prim) - E(R)\n",
    "        if dE < 0 or RANDOM < np.exp(-dE/T):\n",
    "            R = R_prim\n",
    "    T = redukcja_temperatury(T)\n",
    "            "
   ]
  }
 ],
 "metadata": {
  "kernelspec": {
   "display_name": "Python 3",
   "language": "python",
   "name": "python3"
  },
  "language_info": {
   "codemirror_mode": {
    "name": "ipython",
    "version": 3
   },
   "file_extension": ".py",
   "mimetype": "text/x-python",
   "name": "python",
   "nbconvert_exporter": "python",
   "pygments_lexer": "ipython3",
   "version": "3.7.5"
  }
 },
 "nbformat": 4,
 "nbformat_minor": 2
}
